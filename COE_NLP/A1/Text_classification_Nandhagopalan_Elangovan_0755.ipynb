{
 "cells": [
  {
   "cell_type": "code",
   "execution_count": 136,
   "metadata": {},
   "outputs": [],
   "source": [
    "import pandas as pd\n",
    "import os\n",
    "from os import path\n",
    "import re\n",
    "from nltk.corpus import stopwords\n",
    "from nltk.stem.porter import PorterStemmer\n",
    "from wordcloud import WordCloud,STOPWORDS\n",
    "from nltk.stem import WordNetLemmatizer\n",
    "from nltk.tokenize import word_tokenize,sent_tokenize\n",
    "from nltk.stem import WordNetLemmatizer \n",
    "from bs4 import BeautifulSoup\n",
    "from sklearn.model_selection import train_test_split\n",
    "from sklearn.feature_extraction.text import CountVectorizer,TfidfVectorizer\n",
    "import nltk\n",
    "import numpy as np\n",
    "from nltk import pos_tag\n",
    "from sklearn import ensemble, metrics, model_selection, naive_bayes\n",
    "import itertools\n",
    "from sklearn.metrics import confusion_matrix\n",
    "import matplotlib.pyplot as plt\n",
    "import warnings\n",
    "import seaborn as sns\n",
    "from sklearn.decomposition import TruncatedSVD,NMF\n",
    "import xgboost as xgb\n",
    "%matplotlib inline\n",
    "warnings.filterwarnings('ignore')"
   ]
  },
  {
   "cell_type": "markdown",
   "metadata": {},
   "source": [
    "## Question - 1"
   ]
  },
  {
   "cell_type": "code",
   "execution_count": 3,
   "metadata": {},
   "outputs": [],
   "source": [
    "root_path='review_polarity/txt_sentoken/'\n",
    "reviews=['pos','neg']\n",
    "mydf=pd.DataFrame(columns=['filename','review','target'])\n",
    "count=0\n",
    "\n",
    "for review in reviews:\n",
    "    base_path=path.join(root_path+review)\n",
    "    files=os.listdir(base_path)\n",
    "    for file in files:\n",
    "        with open(path.join(base_path,file)) as f:\n",
    "            mydf.loc[count,:]=[file,f.read().replace('\\n', ''),review]\n",
    "            \n",
    "        count+=1"
   ]
  },
  {
   "cell_type": "markdown",
   "metadata": {},
   "source": [
    "## Question - 2"
   ]
  },
  {
   "cell_type": "markdown",
   "metadata": {},
   "source": [
    "Text cleaning step is executed sequentially as follows:\n",
    "\n",
    "- 1) Strip html characters, if any in the text and remove words between brackets as those are mostly names and are of lesser importance\n",
    "- 2) Remove special characters as we see lots of unnecessary commas,single brackets and punctuations.\n",
    "- 3) Lemmatize the different variants of words to have a common vocabulary\n",
    "- 4) Remove the stop words"
   ]
  },
  {
   "cell_type": "code",
   "execution_count": 4,
   "metadata": {
    "scrolled": true
   },
   "outputs": [],
   "source": [
    "mydf['target']=mydf.target.replace(\"pos\" , 1)\n",
    "mydf['target']=mydf.target.replace(\"neg\" , 0)\n",
    "\n",
    "#Removing the html strips\n",
    "def strip_html(text):\n",
    "    soup = BeautifulSoup(text, \"html.parser\")\n",
    "    return soup.get_text()\n",
    "\n",
    "#Removing the square brackets\n",
    "def remove_between_square_brackets(text):\n",
    "    return re.sub('\\([^]]*\\)', '', text)\n",
    "\n",
    "#Removing the noisy text\n",
    "def denoise_text(text):\n",
    "    text = strip_html(text)\n",
    "    text = remove_between_square_brackets(text)\n",
    "    return text\n",
    "\n",
    "#Define function for removing special characters\n",
    "def remove_special_characters(text, remove_digits=True):\n",
    "    pattern=r'[^a-zA-z0-9\\s]'\n",
    "    text=re.sub(pattern,'',text)\n",
    "    return text\n",
    "\n",
    "#Apply function on review column\n",
    "mydf['review']=mydf['review'].apply(denoise_text)"
   ]
  },
  {
   "cell_type": "code",
   "execution_count": 5,
   "metadata": {
    "scrolled": true
   },
   "outputs": [],
   "source": [
    "#Apply function on review column\n",
    "mydf['review']=mydf['review'].apply(remove_special_characters)"
   ]
  },
  {
   "cell_type": "code",
   "execution_count": 6,
   "metadata": {
    "scrolled": true
   },
   "outputs": [],
   "source": [
    "#Lemmatize the text\n",
    "def simple_lema(text):\n",
    "    lemmatizer = WordNetLemmatizer() \n",
    "    text= ' '.join([lemmatizer.lemmatize(word) for word in nltk.word_tokenize(text)])\n",
    "    return text\n",
    "\n",
    "#Apply function on review column\n",
    "mydf['review']=mydf['review'].apply(simple_lema)"
   ]
  },
  {
   "cell_type": "code",
   "execution_count": 7,
   "metadata": {
    "scrolled": true
   },
   "outputs": [],
   "source": [
    "#set stopwords to english\n",
    "stop=set(stopwords.words('english'))\n",
    "\n",
    "#removing the stopwords\n",
    "def remove_stopwords(text):\n",
    "    tokens = [token.strip() for token in nltk.word_tokenize(text)]\n",
    "    filtered_text = ' '.join([token for token in tokens if token not in stop])\n",
    "    return filtered_text\n",
    "\n",
    "#Apply function on review column\n",
    "mydf['review']=mydf['review'].apply(remove_stopwords)"
   ]
  },
  {
   "cell_type": "markdown",
   "metadata": {},
   "source": [
    "## Question - 3 & 4"
   ]
  },
  {
   "cell_type": "markdown",
   "metadata": {},
   "source": [
    "### Feature engineering\n",
    "\n",
    "1. Create meta features\n",
    "2. Create word features"
   ]
  },
  {
   "cell_type": "markdown",
   "metadata": {},
   "source": [
    "### Meta features"
   ]
  },
  {
   "cell_type": "code",
   "execution_count": 157,
   "metadata": {
    "scrolled": true
   },
   "outputs": [],
   "source": [
    "train_df,test_df= train_test_split(mydf,test_size=0.10,random_state = 10)"
   ]
  },
  {
   "cell_type": "code",
   "execution_count": 158,
   "metadata": {
    "scrolled": true
   },
   "outputs": [],
   "source": [
    "## Number of words in the text ##\n",
    "train_df[\"num_words\"] = train_df[\"review\"].apply(lambda x: len(str(x).split()))\n",
    "test_df[\"num_words\"] = test_df[\"review\"].apply(lambda x: len(str(x).split()))\n",
    "\n",
    "## Number of unique words in the text ##\n",
    "train_df[\"num_unique_words\"] = train_df[\"review\"].apply(lambda x: len(set(str(x).split())))\n",
    "test_df[\"num_unique_words\"] = test_df[\"review\"].apply(lambda x: len(set(str(x).split())))\n",
    "\n",
    "## Number of characters in the text ##\n",
    "train_df[\"num_chars\"] = train_df[\"review\"].apply(lambda x: len(str(x)))\n",
    "test_df[\"num_chars\"] = test_df[\"review\"].apply(lambda x: len(str(x)))\n",
    "\n",
    "\n",
    "## Average length of the words in the text ##\n",
    "train_df[\"mean_word_len\"] = train_df[\"review\"].apply(lambda x: np.mean([len(w) for w in str(x).split()]))\n",
    "test_df[\"mean_word_len\"] = test_df[\"review\"].apply(lambda x: np.mean([len(w) for w in str(x).split()]))"
   ]
  },
  {
   "cell_type": "code",
   "execution_count": 159,
   "metadata": {},
   "outputs": [],
   "source": [
    "def get_number_of_nouns(taged_tokens):\n",
    "    n = sum(1 for word, tag in taged_tokens if tag.startswith('NN'))\n",
    "    return n\n",
    "\n",
    "\n",
    "def get_number_of_adjectives(taged_tokens):\n",
    "    n = sum(1 for word, tag in taged_tokens if tag.startswith('JJ'))\n",
    "    return n"
   ]
  },
  {
   "cell_type": "code",
   "execution_count": 160,
   "metadata": {},
   "outputs": [],
   "source": [
    "\n",
    "## Average length of the words in the text ##\n",
    "train_df[\"no_nouns\"] = train_df[\"review\"].apply(lambda x: get_number_of_nouns(pos_tag(word_tokenize(x))))\n",
    "test_df[\"no_nouns\"] = test_df[\"review\"].apply(lambda x: get_number_of_nouns(pos_tag(word_tokenize(x))))\n",
    "\n",
    "train_df[\"no_adj\"] = train_df[\"review\"].apply(lambda x: get_number_of_adjectives(pos_tag(word_tokenize(x))))\n",
    "test_df[\"no_adj\"] = test_df[\"review\"].apply(lambda x: get_number_of_adjectives(pos_tag(word_tokenize(x))))"
   ]
  },
  {
   "cell_type": "code",
   "execution_count": 161,
   "metadata": {
    "scrolled": true
   },
   "outputs": [],
   "source": [
    "cols_to_drop = ['filename', 'review','target']\n",
    "train_X = train_df.drop(cols_to_drop, axis=1)\n",
    "test_X = test_df.drop(cols_to_drop, axis=1)\n",
    "\n",
    "train_y=train_df['target'].values"
   ]
  },
  {
   "cell_type": "markdown",
   "metadata": {},
   "source": [
    "### Word features"
   ]
  },
  {
   "cell_type": "code",
   "execution_count": 59,
   "metadata": {
    "scrolled": true
   },
   "outputs": [],
   "source": [
    "### Fit transform the tfidf vectorizer ###\n",
    "tfidf_vec = TfidfVectorizer(stop_words='english', ngram_range=(1,3))\n",
    "full_tfidf = tfidf_vec.fit_transform(train_df['review'].values.tolist() + test_df['review'].values.tolist())\n",
    "train_tfidf = tfidf_vec.transform(train_df['review'].values.tolist())\n",
    "test_tfidf = tfidf_vec.transform(test_df['review'].values.tolist())"
   ]
  },
  {
   "cell_type": "code",
   "execution_count": 60,
   "metadata": {},
   "outputs": [
    {
     "data": {
      "text/plain": [
       "(1800, 524878)"
      ]
     },
     "execution_count": 60,
     "metadata": {},
     "output_type": "execute_result"
    }
   ],
   "source": [
    "train_tfidf.shape"
   ]
  },
  {
   "cell_type": "markdown",
   "metadata": {},
   "source": [
    "## Question - 5 & 6"
   ]
  },
  {
   "cell_type": "markdown",
   "metadata": {},
   "source": [
    "Let's run naive bayes using tfidf vectors and see the cross validation score"
   ]
  },
  {
   "cell_type": "code",
   "execution_count": 155,
   "metadata": {
    "scrolled": true
   },
   "outputs": [],
   "source": [
    "def runMNB(train_X, train_y, test_X, test_y, test_X2):\n",
    "    model = naive_bayes.MultinomialNB()\n",
    "    model.fit(train_X, train_y)\n",
    "    pred_test_y = model.predict(test_X)\n",
    "    pred_test_y2 = model.predict(test_X2)\n",
    "    return pred_test_y, pred_test_y2, model"
   ]
  },
  {
   "cell_type": "code",
   "execution_count": 162,
   "metadata": {},
   "outputs": [
    {
     "name": "stdout",
     "output_type": "stream",
     "text": [
      "Mean cv score :  0.7855555555555556\n"
     ]
    }
   ],
   "source": [
    "cv_scores = []\n",
    "pred_full_test = 0\n",
    "pred_train = np.zeros([train_df.shape[0]])\n",
    "kf = model_selection.KFold(n_splits=5, shuffle=True, random_state=2017)\n",
    "for dev_index, val_index in kf.split(train_X):\n",
    "    dev_X, val_X = train_tfidf[dev_index], train_tfidf[val_index]\n",
    "    dev_y, val_y = train_y[dev_index], train_y[val_index]\n",
    "    pred_val_y, pred_test_y, model = runMNB(dev_X, dev_y, val_X, val_y, test_tfidf)\n",
    "    pred_full_test = pred_full_test + pred_test_y\n",
    "    pred_train[val_index] = pred_val_y\n",
    "    cv_scores.append(metrics.accuracy_score(val_y, pred_val_y))\n",
    "    \n",
    "print(\"Mean cv score : \", np.mean(cv_scores))\n",
    "pred_full_test = pred_full_test / 5."
   ]
  },
  {
   "cell_type": "code",
   "execution_count": 163,
   "metadata": {},
   "outputs": [
    {
     "data": {
      "text/plain": [
       "array([[141,  43],\n",
       "       [ 21, 155]])"
      ]
     },
     "execution_count": 163,
     "metadata": {},
     "output_type": "execute_result"
    }
   ],
   "source": [
    "confusion_matrix(val_y,pred_val_y)"
   ]
  },
  {
   "cell_type": "markdown",
   "metadata": {
    "scrolled": true
   },
   "source": [
    "Average cross validation score using tfidf vectorizer is 0.786, Now let's use these sparse tfidf features along with the meta features created above to check if its boosting the score.We can use NMF factorization method to reduce its dimensions and add it the meta features."
   ]
  },
  {
   "cell_type": "code",
   "execution_count": 167,
   "metadata": {
    "scrolled": true
   },
   "outputs": [],
   "source": [
    "n_comp = 20\n",
    "nmf_obj = NMF(n_components=20)\n",
    "nmf_obj.fit(full_tfidf)\n",
    "train_nmf = pd.DataFrame(nmf_obj.transform(train_tfidf))\n",
    "test_nmf = pd.DataFrame(nmf_obj.transform(test_tfidf))\n",
    "    \n",
    "train_nmf.columns = ['nmf_word_'+str(i) for i in range(n_comp)]\n",
    "test_nmf.columns = ['nmf_word_'+str(i) for i in range(n_comp)]\n",
    "train_df = pd.concat([train_df.reset_index(drop=True), train_nmf], axis=1)\n",
    "test_df = pd.concat([test_df.reset_index(drop=True), test_nmf], axis=1)\n",
    "\n",
    "#del full_tfidf, train_tfidf, test_tfidf, train_svd, test_svd"
   ]
  },
  {
   "cell_type": "markdown",
   "metadata": {},
   "source": [
    "Try out count vectorizer and see the accuracy score"
   ]
  },
  {
   "cell_type": "code",
   "execution_count": 168,
   "metadata": {
    "scrolled": true
   },
   "outputs": [],
   "source": [
    "### Fit transform the count vectorizer ###\n",
    "count_vec = CountVectorizer(stop_words='english', ngram_range=(1,3))\n",
    "count_vec.fit(train_df['review'].values.tolist() + test_df['review'].values.tolist())\n",
    "train_cv = count_vec.transform(train_df['review'].values.tolist())\n",
    "test_cv = count_vec.transform(test_df['review'].values.tolist())"
   ]
  },
  {
   "cell_type": "code",
   "execution_count": 169,
   "metadata": {},
   "outputs": [
    {
     "name": "stdout",
     "output_type": "stream",
     "text": [
      "Mean cv score :  0.7761111111111111\n"
     ]
    }
   ],
   "source": [
    "cv_scores = []\n",
    "pred_full_test = 0\n",
    "pred_train = np.zeros([train_df.shape[0]])\n",
    "kf = model_selection.KFold(n_splits=5, shuffle=True, random_state=2017)\n",
    "for dev_index, val_index in kf.split(train_X):\n",
    "    dev_X, val_X = train_cv[dev_index], train_cv[val_index]\n",
    "    dev_y, val_y = train_y[dev_index], train_y[val_index]\n",
    "    pred_val_y, pred_test_y, model = runMNB(dev_X, dev_y, val_X, val_y, test_tfidf)\n",
    "    pred_full_test = pred_full_test + pred_test_y\n",
    "    pred_train[val_index] = pred_val_y\n",
    "    cv_scores.append(metrics.accuracy_score(val_y, pred_val_y))\n",
    "print(\"Mean cv score : \", np.mean(cv_scores))\n",
    "pred_full_test = pred_full_test / 5."
   ]
  },
  {
   "cell_type": "markdown",
   "metadata": {},
   "source": [
    "Average cross validation accuracy score is 0.776 which is slightly lesser than when we used tfidf vectorizer. We will add the predictions of this model as one of the features for later use"
   ]
  },
  {
   "cell_type": "code",
   "execution_count": 170,
   "metadata": {},
   "outputs": [],
   "source": [
    "# add the predictions as new features #\n",
    "train_df[\"nb_cvec\"] = pred_train\n",
    "test_df[\"nb_cvec\"] = pred_full_test"
   ]
  },
  {
   "cell_type": "code",
   "execution_count": 171,
   "metadata": {
    "scrolled": true
   },
   "outputs": [
    {
     "data": {
      "text/html": [
       "<div>\n",
       "<style scoped>\n",
       "    .dataframe tbody tr th:only-of-type {\n",
       "        vertical-align: middle;\n",
       "    }\n",
       "\n",
       "    .dataframe tbody tr th {\n",
       "        vertical-align: top;\n",
       "    }\n",
       "\n",
       "    .dataframe thead th {\n",
       "        text-align: right;\n",
       "    }\n",
       "</style>\n",
       "<table border=\"1\" class=\"dataframe\">\n",
       "  <thead>\n",
       "    <tr style=\"text-align: right;\">\n",
       "      <th></th>\n",
       "      <th>filename</th>\n",
       "      <th>review</th>\n",
       "      <th>target</th>\n",
       "      <th>num_words</th>\n",
       "      <th>num_unique_words</th>\n",
       "      <th>num_chars</th>\n",
       "      <th>mean_word_len</th>\n",
       "      <th>no_nouns</th>\n",
       "      <th>no_adj</th>\n",
       "      <th>nmf_word_0</th>\n",
       "      <th>...</th>\n",
       "      <th>nmf_word_11</th>\n",
       "      <th>nmf_word_12</th>\n",
       "      <th>nmf_word_13</th>\n",
       "      <th>nmf_word_14</th>\n",
       "      <th>nmf_word_15</th>\n",
       "      <th>nmf_word_16</th>\n",
       "      <th>nmf_word_17</th>\n",
       "      <th>nmf_word_18</th>\n",
       "      <th>nmf_word_19</th>\n",
       "      <th>nb_cvec</th>\n",
       "    </tr>\n",
       "  </thead>\n",
       "  <tbody>\n",
       "    <tr>\n",
       "      <th>0</th>\n",
       "      <td>cv384_18536.txt</td>\n",
       "      <td>actually bad dreamworks decided release love l...</td>\n",
       "      <td>0</td>\n",
       "      <td>193</td>\n",
       "      <td>148</td>\n",
       "      <td>1415</td>\n",
       "      <td>6.336788</td>\n",
       "      <td>81</td>\n",
       "      <td>48</td>\n",
       "      <td>0.000000</td>\n",
       "      <td>...</td>\n",
       "      <td>0.000000</td>\n",
       "      <td>0.000529</td>\n",
       "      <td>0.000000</td>\n",
       "      <td>0.000000</td>\n",
       "      <td>0.0</td>\n",
       "      <td>0.000000</td>\n",
       "      <td>0.000713</td>\n",
       "      <td>0.000000</td>\n",
       "      <td>0.000000</td>\n",
       "      <td>0.0</td>\n",
       "    </tr>\n",
       "    <tr>\n",
       "      <th>1</th>\n",
       "      <td>cv253_10190.txt</td>\n",
       "      <td>hey ive got great idea movie ok well get tim a...</td>\n",
       "      <td>0</td>\n",
       "      <td>103</td>\n",
       "      <td>71</td>\n",
       "      <td>586</td>\n",
       "      <td>4.699029</td>\n",
       "      <td>46</td>\n",
       "      <td>24</td>\n",
       "      <td>0.012973</td>\n",
       "      <td>...</td>\n",
       "      <td>0.000660</td>\n",
       "      <td>0.001126</td>\n",
       "      <td>0.000000</td>\n",
       "      <td>0.000000</td>\n",
       "      <td>0.0</td>\n",
       "      <td>0.000000</td>\n",
       "      <td>0.000000</td>\n",
       "      <td>0.016951</td>\n",
       "      <td>0.000000</td>\n",
       "      <td>0.0</td>\n",
       "    </tr>\n",
       "    <tr>\n",
       "      <th>2</th>\n",
       "      <td>cv988_18740.txt</td>\n",
       "      <td>wish could say something new star war installm...</td>\n",
       "      <td>1</td>\n",
       "      <td>321</td>\n",
       "      <td>234</td>\n",
       "      <td>2260</td>\n",
       "      <td>6.043614</td>\n",
       "      <td>147</td>\n",
       "      <td>75</td>\n",
       "      <td>0.009551</td>\n",
       "      <td>...</td>\n",
       "      <td>0.000000</td>\n",
       "      <td>0.001760</td>\n",
       "      <td>0.000000</td>\n",
       "      <td>0.002319</td>\n",
       "      <td>0.0</td>\n",
       "      <td>0.001789</td>\n",
       "      <td>0.000000</td>\n",
       "      <td>0.006687</td>\n",
       "      <td>0.030275</td>\n",
       "      <td>1.0</td>\n",
       "    </tr>\n",
       "    <tr>\n",
       "      <th>3</th>\n",
       "      <td>cv342_19456.txt</td>\n",
       "      <td>andromeda strain greatest science fiction film...</td>\n",
       "      <td>1</td>\n",
       "      <td>305</td>\n",
       "      <td>228</td>\n",
       "      <td>2122</td>\n",
       "      <td>5.960656</td>\n",
       "      <td>147</td>\n",
       "      <td>53</td>\n",
       "      <td>0.059082</td>\n",
       "      <td>...</td>\n",
       "      <td>0.000000</td>\n",
       "      <td>0.000582</td>\n",
       "      <td>0.000601</td>\n",
       "      <td>0.000000</td>\n",
       "      <td>0.0</td>\n",
       "      <td>0.000000</td>\n",
       "      <td>0.000000</td>\n",
       "      <td>0.000356</td>\n",
       "      <td>0.000000</td>\n",
       "      <td>1.0</td>\n",
       "    </tr>\n",
       "    <tr>\n",
       "      <th>4</th>\n",
       "      <td>cv045_25077.txt</td>\n",
       "      <td>come average teenage romantic comedy expect ne...</td>\n",
       "      <td>0</td>\n",
       "      <td>196</td>\n",
       "      <td>166</td>\n",
       "      <td>1326</td>\n",
       "      <td>5.770408</td>\n",
       "      <td>95</td>\n",
       "      <td>49</td>\n",
       "      <td>0.000000</td>\n",
       "      <td>...</td>\n",
       "      <td>0.002832</td>\n",
       "      <td>0.000064</td>\n",
       "      <td>0.000000</td>\n",
       "      <td>0.014423</td>\n",
       "      <td>0.0</td>\n",
       "      <td>0.000000</td>\n",
       "      <td>0.010087</td>\n",
       "      <td>0.000000</td>\n",
       "      <td>0.003914</td>\n",
       "      <td>0.0</td>\n",
       "    </tr>\n",
       "  </tbody>\n",
       "</table>\n",
       "<p>5 rows × 30 columns</p>\n",
       "</div>"
      ],
      "text/plain": [
       "          filename                                             review  target  \\\n",
       "0  cv384_18536.txt  actually bad dreamworks decided release love l...       0   \n",
       "1  cv253_10190.txt  hey ive got great idea movie ok well get tim a...       0   \n",
       "2  cv988_18740.txt  wish could say something new star war installm...       1   \n",
       "3  cv342_19456.txt  andromeda strain greatest science fiction film...       1   \n",
       "4  cv045_25077.txt  come average teenage romantic comedy expect ne...       0   \n",
       "\n",
       "   num_words  num_unique_words  num_chars  mean_word_len  no_nouns  no_adj  \\\n",
       "0        193               148       1415       6.336788        81      48   \n",
       "1        103                71        586       4.699029        46      24   \n",
       "2        321               234       2260       6.043614       147      75   \n",
       "3        305               228       2122       5.960656       147      53   \n",
       "4        196               166       1326       5.770408        95      49   \n",
       "\n",
       "   nmf_word_0  ...  nmf_word_11  nmf_word_12  nmf_word_13  nmf_word_14  \\\n",
       "0    0.000000  ...     0.000000     0.000529     0.000000     0.000000   \n",
       "1    0.012973  ...     0.000660     0.001126     0.000000     0.000000   \n",
       "2    0.009551  ...     0.000000     0.001760     0.000000     0.002319   \n",
       "3    0.059082  ...     0.000000     0.000582     0.000601     0.000000   \n",
       "4    0.000000  ...     0.002832     0.000064     0.000000     0.014423   \n",
       "\n",
       "   nmf_word_15  nmf_word_16  nmf_word_17  nmf_word_18  nmf_word_19  nb_cvec  \n",
       "0          0.0     0.000000     0.000713     0.000000     0.000000      0.0  \n",
       "1          0.0     0.000000     0.000000     0.016951     0.000000      0.0  \n",
       "2          0.0     0.001789     0.000000     0.006687     0.030275      1.0  \n",
       "3          0.0     0.000000     0.000000     0.000356     0.000000      1.0  \n",
       "4          0.0     0.000000     0.010087     0.000000     0.003914      0.0  \n",
       "\n",
       "[5 rows x 30 columns]"
      ]
     },
     "execution_count": 171,
     "metadata": {},
     "output_type": "execute_result"
    }
   ],
   "source": [
    "train_df.head()"
   ]
  },
  {
   "cell_type": "markdown",
   "metadata": {},
   "source": [
    "We will try character level count vectorizer to see the score again"
   ]
  },
  {
   "cell_type": "code",
   "execution_count": 174,
   "metadata": {
    "scrolled": true
   },
   "outputs": [
    {
     "name": "stdout",
     "output_type": "stream",
     "text": [
      "Mean cv score :  0.8011111111111111\n"
     ]
    }
   ],
   "source": [
    "### Fit transform the count vectorizer at character level ###\n",
    "count_vec = CountVectorizer(ngram_range=(1,7), analyzer='char')\n",
    "count_vec.fit(train_df['review'].values.tolist() + test_df['review'].values.tolist())\n",
    "train_countvec = count_vec.transform(train_df['review'].values.tolist())\n",
    "test_countvec = count_vec.transform(test_df['review'].values.tolist())\n",
    "\n",
    "cv_scores = []\n",
    "pred_full_test = 0\n",
    "pred_train = np.zeros([train_df.shape[0]])\n",
    "kf = model_selection.KFold(n_splits=5, shuffle=True, random_state=2017)\n",
    "for dev_index, val_index in kf.split(train_X):\n",
    "    dev_X, val_X = train_countvec[dev_index], train_countvec[val_index]\n",
    "    dev_y, val_y = train_y[dev_index], train_y[val_index]\n",
    "    pred_val_y, pred_test_y, model = runMNB(dev_X, dev_y, val_X, val_y, test_countvec)\n",
    "    pred_full_test = pred_full_test + pred_test_y\n",
    "    pred_train[val_index] = pred_val_y\n",
    "    cv_scores.append(metrics.accuracy_score(val_y, pred_val_y))\n",
    "print(\"Mean cv score : \", np.mean(cv_scores))\n",
    "pred_full_test = pred_full_test / 5.\n",
    "\n",
    "# add the predictions as new features #\n",
    "train_df[\"nb_cvec_char\"] = pred_train\n",
    "test_df[\"nb_cvec_char\"] = pred_full_test"
   ]
  },
  {
   "cell_type": "markdown",
   "metadata": {},
   "source": [
    "The score has increased and it has crossed 80%. We will add this output also as one of the feature for later use.\n",
    "\n",
    "Let's try the same on tfidf vectorizer."
   ]
  },
  {
   "cell_type": "code",
   "execution_count": 176,
   "metadata": {},
   "outputs": [
    {
     "name": "stdout",
     "output_type": "stream",
     "text": [
      "Mean cv score :  0.7344444444444445\n"
     ]
    }
   ],
   "source": [
    "### Fit transform the tfidf vectorizer ###\n",
    "tfidf_vec = TfidfVectorizer(ngram_range=(1,5), analyzer='char')\n",
    "full_tfidf = tfidf_vec.fit_transform(train_df['review'].values.tolist() + test_df['review'].values.tolist())\n",
    "train_tfidf = tfidf_vec.transform(train_df['review'].values.tolist())\n",
    "test_tfidf = tfidf_vec.transform(test_df['review'].values.tolist())\n",
    "\n",
    "cv_scores = []\n",
    "pred_full_test = 0\n",
    "pred_train = np.zeros([train_df.shape[0]])\n",
    "kf = model_selection.KFold(n_splits=5, shuffle=True, random_state=2017)\n",
    "for dev_index, val_index in kf.split(train_X):\n",
    "    dev_X, val_X = train_tfidf[dev_index], train_tfidf[val_index]\n",
    "    dev_y, val_y = train_y[dev_index], train_y[val_index]\n",
    "    pred_val_y, pred_test_y, model = runMNB(dev_X, dev_y, val_X, val_y, test_tfidf)\n",
    "    pred_full_test = pred_full_test + pred_test_y\n",
    "    pred_train[val_index] = pred_val_y\n",
    "    cv_scores.append(metrics.accuracy_score(val_y, pred_val_y))\n",
    "print(\"Mean cv score : \", np.mean(cv_scores))\n",
    "pred_full_test = pred_full_test / 5.\n",
    "\n",
    "# add the predictions as new features #\n",
    "train_df[\"nb_tfidf_char\"] = pred_train\n",
    "test_df[\"nb_tfidf_char\"] = pred_full_test"
   ]
  },
  {
   "cell_type": "markdown",
   "metadata": {},
   "source": [
    "Tfidf vectorizer doesnt need to add additional information at character level. Let's move on and use XGB to check which features are important."
   ]
  },
  {
   "cell_type": "code",
   "execution_count": 177,
   "metadata": {},
   "outputs": [],
   "source": [
    "train_X = train_df.drop(cols_to_drop, axis=1)\n",
    "test_X = test_df.drop(cols_to_drop, axis=1)"
   ]
  },
  {
   "cell_type": "code",
   "execution_count": 178,
   "metadata": {},
   "outputs": [
    {
     "data": {
      "text/html": [
       "<div>\n",
       "<style scoped>\n",
       "    .dataframe tbody tr th:only-of-type {\n",
       "        vertical-align: middle;\n",
       "    }\n",
       "\n",
       "    .dataframe tbody tr th {\n",
       "        vertical-align: top;\n",
       "    }\n",
       "\n",
       "    .dataframe thead th {\n",
       "        text-align: right;\n",
       "    }\n",
       "</style>\n",
       "<table border=\"1\" class=\"dataframe\">\n",
       "  <thead>\n",
       "    <tr style=\"text-align: right;\">\n",
       "      <th></th>\n",
       "      <th>num_words</th>\n",
       "      <th>num_unique_words</th>\n",
       "      <th>num_chars</th>\n",
       "      <th>mean_word_len</th>\n",
       "      <th>no_nouns</th>\n",
       "      <th>no_adj</th>\n",
       "      <th>nmf_word_0</th>\n",
       "      <th>nmf_word_1</th>\n",
       "      <th>nmf_word_2</th>\n",
       "      <th>nmf_word_3</th>\n",
       "      <th>...</th>\n",
       "      <th>nmf_word_13</th>\n",
       "      <th>nmf_word_14</th>\n",
       "      <th>nmf_word_15</th>\n",
       "      <th>nmf_word_16</th>\n",
       "      <th>nmf_word_17</th>\n",
       "      <th>nmf_word_18</th>\n",
       "      <th>nmf_word_19</th>\n",
       "      <th>nb_cvec</th>\n",
       "      <th>nb_cvec_char</th>\n",
       "      <th>nb_tfidf_char</th>\n",
       "    </tr>\n",
       "  </thead>\n",
       "  <tbody>\n",
       "    <tr>\n",
       "      <th>0</th>\n",
       "      <td>193</td>\n",
       "      <td>148</td>\n",
       "      <td>1415</td>\n",
       "      <td>6.336788</td>\n",
       "      <td>81</td>\n",
       "      <td>48</td>\n",
       "      <td>0.000000</td>\n",
       "      <td>0.002098</td>\n",
       "      <td>0.018836</td>\n",
       "      <td>0.040868</td>\n",
       "      <td>...</td>\n",
       "      <td>0.000000</td>\n",
       "      <td>0.000000</td>\n",
       "      <td>0.0</td>\n",
       "      <td>0.000000</td>\n",
       "      <td>0.000713</td>\n",
       "      <td>0.000000</td>\n",
       "      <td>0.000000</td>\n",
       "      <td>0.0</td>\n",
       "      <td>0.0</td>\n",
       "      <td>0.0</td>\n",
       "    </tr>\n",
       "    <tr>\n",
       "      <th>1</th>\n",
       "      <td>103</td>\n",
       "      <td>71</td>\n",
       "      <td>586</td>\n",
       "      <td>4.699029</td>\n",
       "      <td>46</td>\n",
       "      <td>24</td>\n",
       "      <td>0.012973</td>\n",
       "      <td>0.000000</td>\n",
       "      <td>0.043972</td>\n",
       "      <td>0.000000</td>\n",
       "      <td>...</td>\n",
       "      <td>0.000000</td>\n",
       "      <td>0.000000</td>\n",
       "      <td>0.0</td>\n",
       "      <td>0.000000</td>\n",
       "      <td>0.000000</td>\n",
       "      <td>0.016951</td>\n",
       "      <td>0.000000</td>\n",
       "      <td>0.0</td>\n",
       "      <td>0.0</td>\n",
       "      <td>0.0</td>\n",
       "    </tr>\n",
       "    <tr>\n",
       "      <th>2</th>\n",
       "      <td>321</td>\n",
       "      <td>234</td>\n",
       "      <td>2260</td>\n",
       "      <td>6.043614</td>\n",
       "      <td>147</td>\n",
       "      <td>75</td>\n",
       "      <td>0.009551</td>\n",
       "      <td>0.001847</td>\n",
       "      <td>0.010241</td>\n",
       "      <td>0.139564</td>\n",
       "      <td>...</td>\n",
       "      <td>0.000000</td>\n",
       "      <td>0.002319</td>\n",
       "      <td>0.0</td>\n",
       "      <td>0.001789</td>\n",
       "      <td>0.000000</td>\n",
       "      <td>0.006687</td>\n",
       "      <td>0.030275</td>\n",
       "      <td>1.0</td>\n",
       "      <td>1.0</td>\n",
       "      <td>1.0</td>\n",
       "    </tr>\n",
       "    <tr>\n",
       "      <th>3</th>\n",
       "      <td>305</td>\n",
       "      <td>228</td>\n",
       "      <td>2122</td>\n",
       "      <td>5.960656</td>\n",
       "      <td>147</td>\n",
       "      <td>53</td>\n",
       "      <td>0.059082</td>\n",
       "      <td>0.001464</td>\n",
       "      <td>0.000000</td>\n",
       "      <td>0.008812</td>\n",
       "      <td>...</td>\n",
       "      <td>0.000601</td>\n",
       "      <td>0.000000</td>\n",
       "      <td>0.0</td>\n",
       "      <td>0.000000</td>\n",
       "      <td>0.000000</td>\n",
       "      <td>0.000356</td>\n",
       "      <td>0.000000</td>\n",
       "      <td>1.0</td>\n",
       "      <td>1.0</td>\n",
       "      <td>1.0</td>\n",
       "    </tr>\n",
       "    <tr>\n",
       "      <th>4</th>\n",
       "      <td>196</td>\n",
       "      <td>166</td>\n",
       "      <td>1326</td>\n",
       "      <td>5.770408</td>\n",
       "      <td>95</td>\n",
       "      <td>49</td>\n",
       "      <td>0.000000</td>\n",
       "      <td>0.002320</td>\n",
       "      <td>0.013415</td>\n",
       "      <td>0.001269</td>\n",
       "      <td>...</td>\n",
       "      <td>0.000000</td>\n",
       "      <td>0.014423</td>\n",
       "      <td>0.0</td>\n",
       "      <td>0.000000</td>\n",
       "      <td>0.010087</td>\n",
       "      <td>0.000000</td>\n",
       "      <td>0.003914</td>\n",
       "      <td>0.0</td>\n",
       "      <td>0.0</td>\n",
       "      <td>1.0</td>\n",
       "    </tr>\n",
       "  </tbody>\n",
       "</table>\n",
       "<p>5 rows × 29 columns</p>\n",
       "</div>"
      ],
      "text/plain": [
       "   num_words  num_unique_words  num_chars  mean_word_len  no_nouns  no_adj  \\\n",
       "0        193               148       1415       6.336788        81      48   \n",
       "1        103                71        586       4.699029        46      24   \n",
       "2        321               234       2260       6.043614       147      75   \n",
       "3        305               228       2122       5.960656       147      53   \n",
       "4        196               166       1326       5.770408        95      49   \n",
       "\n",
       "   nmf_word_0  nmf_word_1  nmf_word_2  nmf_word_3  ...  nmf_word_13  \\\n",
       "0    0.000000    0.002098    0.018836    0.040868  ...     0.000000   \n",
       "1    0.012973    0.000000    0.043972    0.000000  ...     0.000000   \n",
       "2    0.009551    0.001847    0.010241    0.139564  ...     0.000000   \n",
       "3    0.059082    0.001464    0.000000    0.008812  ...     0.000601   \n",
       "4    0.000000    0.002320    0.013415    0.001269  ...     0.000000   \n",
       "\n",
       "   nmf_word_14  nmf_word_15  nmf_word_16  nmf_word_17  nmf_word_18  \\\n",
       "0     0.000000          0.0     0.000000     0.000713     0.000000   \n",
       "1     0.000000          0.0     0.000000     0.000000     0.016951   \n",
       "2     0.002319          0.0     0.001789     0.000000     0.006687   \n",
       "3     0.000000          0.0     0.000000     0.000000     0.000356   \n",
       "4     0.014423          0.0     0.000000     0.010087     0.000000   \n",
       "\n",
       "   nmf_word_19  nb_cvec  nb_cvec_char  nb_tfidf_char  \n",
       "0     0.000000      0.0           0.0            0.0  \n",
       "1     0.000000      0.0           0.0            0.0  \n",
       "2     0.030275      1.0           1.0            1.0  \n",
       "3     0.000000      1.0           1.0            1.0  \n",
       "4     0.003914      0.0           0.0            1.0  \n",
       "\n",
       "[5 rows x 29 columns]"
      ]
     },
     "execution_count": 178,
     "metadata": {},
     "output_type": "execute_result"
    }
   ],
   "source": [
    "train_X.head()"
   ]
  },
  {
   "cell_type": "code",
   "execution_count": null,
   "metadata": {
    "scrolled": true
   },
   "outputs": [],
   "source": []
  },
  {
   "cell_type": "code",
   "execution_count": 180,
   "metadata": {},
   "outputs": [],
   "source": [
    "def runXGB(train_X, train_y, test_X, test_y=None, test_X2=None, seed_val=0, child=1, colsample=0.3):\n",
    "    param = {}\n",
    "    param['objective'] = 'binary:logistic'\n",
    "    param['eta'] = 0.1\n",
    "    param['max_depth'] = 3\n",
    "    param['silent'] = 1\n",
    "    param['eval_metric'] = \"error\"\n",
    "    param['min_child_weight'] = child\n",
    "    param['subsample'] = 0.8\n",
    "    param['colsample_bytree'] = colsample\n",
    "    param['seed'] = seed_val\n",
    "    num_rounds = 2000\n",
    "\n",
    "    plst = list(param.items())\n",
    "    xgtrain = xgb.DMatrix(train_X, label=train_y)\n",
    "\n",
    "    if test_y is not None:\n",
    "        xgtest = xgb.DMatrix(test_X, label=test_y)\n",
    "        watchlist = [ (xgtrain,'train'), (xgtest, 'test') ]\n",
    "        model = xgb.train(plst, xgtrain, num_rounds, watchlist, early_stopping_rounds=50, verbose_eval=20)\n",
    "    else:\n",
    "        xgtest = xgb.DMatrix(test_X)\n",
    "        model = xgb.train(plst, xgtrain, num_rounds)\n",
    "\n",
    "    pred_test_y = model.predict(xgtest, ntree_limit = model.best_ntree_limit)\n",
    "    if test_X2 is not None:\n",
    "        xgtest2 = xgb.DMatrix(test_X2)\n",
    "        pred_test_y2 = model.predict(xgtest2, ntree_limit = model.best_ntree_limit)\n",
    "    return pred_test_y, pred_test_y2, model"
   ]
  },
  {
   "cell_type": "code",
   "execution_count": 181,
   "metadata": {
    "scrolled": true
   },
   "outputs": [
    {
     "name": "stdout",
     "output_type": "stream",
     "text": [
      "[0]\ttrain-error:0.416667\ttest-error:0.441667\n",
      "Multiple eval metrics have been passed: 'test-error' will be used for early stopping.\n",
      "\n",
      "Will train until test-error hasn't improved in 50 rounds.\n",
      "[20]\ttrain-error:0.188889\ttest-error:0.188889\n",
      "[40]\ttrain-error:0.174306\ttest-error:0.194444\n",
      "[60]\ttrain-error:0.164583\ttest-error:0.188889\n",
      "Stopping. Best iteration:\n",
      "[15]\ttrain-error:0.192361\ttest-error:0.183333\n",
      "\n",
      "[0]\ttrain-error:0.403472\ttest-error:0.494444\n",
      "Multiple eval metrics have been passed: 'test-error' will be used for early stopping.\n",
      "\n",
      "Will train until test-error hasn't improved in 50 rounds.\n",
      "[20]\ttrain-error:0.168056\ttest-error:0.252778\n",
      "[40]\ttrain-error:0.1625\ttest-error:0.241667\n",
      "[60]\ttrain-error:0.15625\ttest-error:0.241667\n",
      "Stopping. Best iteration:\n",
      "[16]\ttrain-error:0.171528\ttest-error:0.238889\n",
      "\n",
      "[0]\ttrain-error:0.397222\ttest-error:0.463889\n",
      "Multiple eval metrics have been passed: 'test-error' will be used for early stopping.\n",
      "\n",
      "Will train until test-error hasn't improved in 50 rounds.\n",
      "[20]\ttrain-error:0.185417\ttest-error:0.208333\n",
      "[40]\ttrain-error:0.168056\ttest-error:0.222222\n",
      "Stopping. Best iteration:\n",
      "[5]\ttrain-error:0.19375\ttest-error:0.197222\n",
      "\n",
      "[0]\ttrain-error:0.407639\ttest-error:0.480556\n",
      "Multiple eval metrics have been passed: 'test-error' will be used for early stopping.\n",
      "\n",
      "Will train until test-error hasn't improved in 50 rounds.\n",
      "[20]\ttrain-error:0.181944\ttest-error:0.2\n",
      "[40]\ttrain-error:0.177778\ttest-error:0.197222\n",
      "Stopping. Best iteration:\n",
      "[6]\ttrain-error:0.192361\ttest-error:0.186111\n",
      "\n",
      "[0]\ttrain-error:0.428472\ttest-error:0.461111\n",
      "Multiple eval metrics have been passed: 'test-error' will be used for early stopping.\n",
      "\n",
      "Will train until test-error hasn't improved in 50 rounds.\n",
      "[20]\ttrain-error:0.1875\ttest-error:0.194444\n",
      "[40]\ttrain-error:0.181944\ttest-error:0.180556\n",
      "Stopping. Best iteration:\n",
      "[9]\ttrain-error:0.199306\ttest-error:0.175\n",
      "\n",
      "cv scores :  [0.8166666666666667, 0.7611111111111111, 0.8027777777777778, 0.8138888888888889, 0.825]\n"
     ]
    }
   ],
   "source": [
    "kf = model_selection.KFold(n_splits=5, shuffle=True, random_state=2017)\n",
    "cv_scores = []\n",
    "pred_full_test = 0\n",
    "pred_train = np.zeros([train_df.shape[0]])\n",
    "for dev_index, val_index in kf.split(train_X):\n",
    "    dev_X, val_X = train_X.loc[dev_index], train_X.loc[val_index]\n",
    "    dev_y, val_y = train_y[dev_index], train_y[val_index]\n",
    "    pred_val_y, pred_test_y, model = runXGB(dev_X, dev_y, val_X, val_y, test_X, seed_val=0)\n",
    "    pred_full_test = pred_full_test + np.array(pred_test_y>=0.5).astype(int)\n",
    "    pred_train[val_index] = np.array(pred_val_y>=0.5).astype(int)\n",
    "    cv_scores.append(metrics.accuracy_score(val_y, np.array(pred_val_y>0.5).astype(int)))\n",
    "    \n",
    "print(\"cv scores : \", cv_scores)"
   ]
  },
  {
   "cell_type": "markdown",
   "metadata": {},
   "source": [
    "Looks like the average cv score is coming around 0.81 with xgb. Let's see the important features from xgb and use those to build our final naive bayes model"
   ]
  },
  {
   "cell_type": "code",
   "execution_count": 182,
   "metadata": {
    "scrolled": true
   },
   "outputs": [
    {
     "data": {
      "image/png": "[encoded data removed]",
      "text/plain": [
       "<Figure size 864x864 with 1 Axes>"
      ]
     },
     "metadata": {
      "needs_background": "light"
     },
     "output_type": "display_data"
    }
   ],
   "source": [
    "### Plot the important variables ###\n",
    "fig, ax = plt.subplots(figsize=(12,12))\n",
    "xgb.plot_importance(model, max_num_features=50, height=0.8, ax=ax)\n",
    "plt.show()"
   ]
  },
  {
   "cell_type": "code",
   "execution_count": 184,
   "metadata": {},
   "outputs": [],
   "source": [
    "train_X = train_df[['nmf_word_2','nmf_word_1','nmf_word_14','nmf_word_6','mean_word_len','num_chars','num_words',\n",
    "         'nmf_word_8','nb_cvec_char','nmf_word_4','no_adj','nmf_word_5','nmf_word_0','nb_cvec']]\n",
    "test_X = test_df[['nmf_word_2','nmf_word_1','nmf_word_14','nmf_word_6','mean_word_len','num_chars','num_words',\n",
    "         'nmf_word_8','nb_cvec_char','nmf_word_4','no_adj','nmf_word_5','nmf_word_0','nb_cvec']]"
   ]
  },
  {
   "cell_type": "code",
   "execution_count": 185,
   "metadata": {
    "scrolled": true
   },
   "outputs": [
    {
     "name": "stdout",
     "output_type": "stream",
     "text": [
      "Mean cv score :  0.7877777777777778\n"
     ]
    }
   ],
   "source": [
    "cv_scores = []\n",
    "pred_full_test = 0\n",
    "pred_train = np.zeros([train_df.shape[0]])\n",
    "kf = model_selection.KFold(n_splits=5, shuffle=True,random_state=2017)\n",
    "for dev_index, val_index in kf.split(train_X):\n",
    "    dev_X, val_X = train_X.loc[dev_index], train_X.loc[val_index]\n",
    "    dev_y, val_y = train_y[dev_index], train_y[val_index]\n",
    "    pred_val_y, pred_test_y, model = runMNB(dev_X, dev_y, val_X, val_y, test_X)\n",
    "    pred_full_test = pred_full_test + pred_test_y\n",
    "    pred_train[val_index] = pred_val_y\n",
    "    cv_scores.append(metrics.accuracy_score(val_y, pred_val_y))\n",
    "    \n",
    "print(\"Mean cv score : \", np.mean(cv_scores))\n",
    "pred_full_test = pred_full_test / 5."
   ]
  },
  {
   "cell_type": "markdown",
   "metadata": {},
   "source": [
    "With the naive bayes, we can achieve maximum of 0.8 with count vectorizer at character level,we can get higher score\n",
    "if we use ensemble techniques like xgb, we noticed that average cv score is 0.81"
   ]
  },
  {
   "cell_type": "code",
   "execution_count": null,
   "metadata": {
    "scrolled": true
   },
   "outputs": [],
   "source": []
  },
  {
   "cell_type": "code",
   "execution_count": null,
   "metadata": {},
   "outputs": [],
   "source": []
  }
 ],
 "metadata": {
  "kernelspec": {
   "display_name": "Python 3",
   "language": "python",
   "name": "python3"
  },
  "language_info": {
   "codemirror_mode": {
    "name": "ipython",
    "version": 3
   },
   "file_extension": ".py",
   "mimetype": "text/x-python",
   "name": "python",
   "nbconvert_exporter": "python",
   "pygments_lexer": "ipython3",
   "version": "3.6.3"
  }
 },
 "nbformat": 4,
 "nbformat_minor": 2
}
