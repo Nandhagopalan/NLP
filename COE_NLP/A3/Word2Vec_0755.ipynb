{
 "cells": [
  {
   "cell_type": "code",
   "execution_count": 299,
   "metadata": {},
   "outputs": [],
   "source": [
    "import pdftotext\n",
    "import logging  # Setting up the loggings to monitor gensim\n",
    "import re\n",
    "import spacy\n",
    "from time import time\n",
    "from gensim.models import Word2Vec\n",
    "import multiprocessing\n",
    "import nltk\n",
    "from gensim.models.phrases import Phrases, Phraser\n",
    "from collections import defaultdict  # For word frequency\n",
    "import pandas as pd\n",
    "import numpy as np\n",
    "from sklearn.feature_extraction.text import TfidfVectorizer\n",
    "import matplotlib.pyplot as plt\n",
    "%matplotlib inline\n",
    " \n",
    "import seaborn as sns\n",
    "sns.set_style(\"darkgrid\")\n",
    "\n",
    "from sklearn.decomposition import PCA\n",
    "from sklearn.manifold import TSNE\n",
    "from collections import Counter\n",
    "import itertools\n",
    "\n",
    "logging.basicConfig(format=\"%(levelname)s - %(asctime)s: %(message)s\", datefmt= '%H:%M:%S', level=logging.INFO)"
   ]
  },
  {
   "cell_type": "markdown",
   "metadata": {},
   "source": [
    "### Q1 - Reading,preprocessing and training"
   ]
  },
  {
   "cell_type": "code",
   "execution_count": 300,
   "metadata": {},
   "outputs": [],
   "source": [
    "# Load your PDF\n",
    "with open(\"The_Song_of_Ice_and_Fire_Series.pdf\", \"rb\") as f:\n",
    "    pdf = pdftotext.PDF(f)\n"
   ]
  },
  {
   "cell_type": "code",
   "execution_count": 301,
   "metadata": {},
   "outputs": [],
   "source": [
    "#Keeping the data together in a list. Get the data from page 13 as we have the story starting from page 13\n",
    "mydata=[]\n",
    "\n",
    "for page in range(13,len(pdf)):\n",
    "    clean_data=[re.sub('\\s+',' ',data.strip()) for data in pdf[page].split('\\n')]\n",
    "    mydata.extend(clean_data)"
   ]
  },
  {
   "cell_type": "code",
   "execution_count": 302,
   "metadata": {
    "scrolled": true
   },
   "outputs": [],
   "source": [
    "mydata=' '.join(mydata)\n",
    "mydata=nltk.sent_tokenize(mydata)"
   ]
  },
  {
   "cell_type": "code",
   "execution_count": 303,
   "metadata": {
    "scrolled": true
   },
   "outputs": [
    {
     "data": {
      "text/plain": [
       "['PROLOGUE “W e should start back,” Gared urged as the woods began to grow dark around them.',\n",
       " '“The wildlings are dead.” “Do the dead frighten you?” Ser Waymar Royce asked with just the hint of a smile.',\n",
       " 'Gared did not rise to the bait.',\n",
       " 'He was an old man, past fifty, and he had seen the lordlings come and go.',\n",
       " '“Dead is dead,” he said.',\n",
       " '“We have no business with the dead.” “Are they dead?” Royce asked softly.',\n",
       " '“What proof have we?” “Will saw them,” Gared said.',\n",
       " '“If he says they are dead, that’s proof enough for me.” Will had known they would drag him into the quarrel sooner or later.',\n",
       " 'He wished it had been later rather than sooner.',\n",
       " '“My mother told me that dead men sing no songs,” he put in.',\n",
       " '“My wet nurse said the same thing, Will,” Royce replied.',\n",
       " '“Never believe anything you hear at a woman’s tit.',\n",
       " 'There are things to be learned even from the dead.” His voice echoed, too loud in the twilit forest.',\n",
       " '“We have a long ride before us,” Gared pointed out.',\n",
       " '“Eight days, maybe nine.',\n",
       " 'And night is falling.” Ser Waymar Royce glanced at the sky with disinterest.',\n",
       " '“It does that every day about this time.',\n",
       " 'Are you unmanned by the dark, Gared?” Will could see the tightness around Gared’s mouth, the barely suppressed anger in his eyes under the thick black hood of his cloak.',\n",
       " 'Gared had spent forty years in the Night’s Watch, man and boy, and he  was not accustomed to being made light of.',\n",
       " 'Yet it was more than that.']"
      ]
     },
     "execution_count": 303,
     "metadata": {},
     "output_type": "execute_result"
    }
   ],
   "source": [
    "mydata[:20]"
   ]
  },
  {
   "cell_type": "code",
   "execution_count": 304,
   "metadata": {},
   "outputs": [],
   "source": [
    "nlp = spacy.load('en', disable=['ner', 'parser']) # disabling Named Entity Recognition for speed\n",
    "\n",
    "def cleaning(doc):\n",
    "    # Lemmatizes and removes stopwords\n",
    "    # doc needs to be a spacy Doc object\n",
    "    txt = [token.lemma_ for token in doc if token.lemma_!='-PRON-']\n",
    "    # Word2Vec uses context words to learn the vector representation of a target word,\n",
    "    # if a sentence is only one or two words long,\n",
    "    # the benefit for the training is very small\n",
    "    if len(txt) > 2:\n",
    "        return ' '.join(txt).strip()"
   ]
  },
  {
   "cell_type": "code",
   "execution_count": 305,
   "metadata": {},
   "outputs": [],
   "source": [
    "brief_cleaning = (re.sub(\"[^A-Za-z']+\", ' ', str(row)).lower() for row in mydata)"
   ]
  },
  {
   "cell_type": "code",
   "execution_count": 306,
   "metadata": {},
   "outputs": [
    {
     "name": "stdout",
     "output_type": "stream",
     "text": [
      "Time to clean up everything: 1.04 mins\n"
     ]
    }
   ],
   "source": [
    "t = time()\n",
    "\n",
    "txt = [cleaning(doc) for doc in nlp.pipe(brief_cleaning, batch_size=5000, n_threads=-1)]\n",
    "#txt=[i for i in txt if i]\n",
    "\n",
    "print('Time to clean up everything: {} mins'.format(round((time() - t) / 60, 2)))"
   ]
  },
  {
   "cell_type": "code",
   "execution_count": 307,
   "metadata": {
    "scrolled": true
   },
   "outputs": [
    {
     "data": {
      "text/plain": [
       "['prologue w e should start back gare urge as the wood begin to grow dark around',\n",
       " 'the wildling be dead do the dead frighten ser waymar royce ask with just the hint of a smile',\n",
       " 'gared do not rise to the bait',\n",
       " 'be an old man past fifty and have see the lordling come and go',\n",
       " 'dead be dead say',\n",
       " 'have no business with the dead be dead royce ask softly',\n",
       " 'what proof have will saw gare say',\n",
       " 'if say be dead that s proof enough for will have know would drag into the quarrel sooner or later',\n",
       " 'wish have be later rather than sooner',\n",
       " 'mother tell that dead man sing no song put in']"
      ]
     },
     "execution_count": 307,
     "metadata": {},
     "output_type": "execute_result"
    }
   ],
   "source": [
    "txt[:10]"
   ]
  },
  {
   "cell_type": "markdown",
   "metadata": {},
   "source": [
    "### Model"
   ]
  },
  {
   "cell_type": "code",
   "execution_count": 308,
   "metadata": {},
   "outputs": [],
   "source": [
    "cores = multiprocessing.cpu_count() # Count the number of cores in a computer"
   ]
  },
  {
   "cell_type": "code",
   "execution_count": 309,
   "metadata": {},
   "outputs": [
    {
     "data": {
      "text/plain": [
       "12"
      ]
     },
     "execution_count": 309,
     "metadata": {},
     "output_type": "execute_result"
    }
   ],
   "source": [
    "cores"
   ]
  },
  {
   "cell_type": "code",
   "execution_count": 310,
   "metadata": {},
   "outputs": [],
   "source": [
    "w2v_model = Word2Vec(min_count=20,\n",
    "                     window=2,\n",
    "                     size=300,\n",
    "                     sample=6e-5, \n",
    "                     alpha=0.03, \n",
    "                     min_alpha=0.0007, \n",
    "                     negative=20,\n",
    "                     workers=cores-1)"
   ]
  },
  {
   "cell_type": "code",
   "execution_count": 311,
   "metadata": {
    "scrolled": true
   },
   "outputs": [
    {
     "name": "stderr",
     "output_type": "stream",
     "text": [
      "INFO - 19:30:20: collecting all words and their counts\n",
      "INFO - 19:30:20: PROGRESS: at sentence #0, processed 0 words, keeping 0 word types\n",
      "INFO - 19:30:20: PROGRESS: at sentence #10000, processed 133611 words, keeping 6192 word types\n",
      "INFO - 19:30:20: PROGRESS: at sentence #20000, processed 273604 words, keeping 8418 word types\n",
      "INFO - 19:30:20: PROGRESS: at sentence #30000, processed 413192 words, keeping 10200 word types\n",
      "INFO - 19:30:20: PROGRESS: at sentence #40000, processed 548447 words, keeping 11278 word types\n",
      "INFO - 19:30:20: PROGRESS: at sentence #50000, processed 688339 words, keeping 12381 word types\n",
      "INFO - 19:30:20: PROGRESS: at sentence #60000, processed 819792 words, keeping 13220 word types\n",
      "INFO - 19:30:20: PROGRESS: at sentence #70000, processed 954389 words, keeping 13991 word types\n",
      "INFO - 19:30:20: PROGRESS: at sentence #80000, processed 1083304 words, keeping 14739 word types\n",
      "INFO - 19:30:20: collected 15521 word types from a corpus of 1224663 raw words and 89995 sentences\n",
      "INFO - 19:30:20: Loading a fresh vocabulary\n",
      "INFO - 19:30:20: effective_min_count=20 retains 3692 unique words (23% of original 15521, drops 11829)\n",
      "INFO - 19:30:20: effective_min_count=20 leaves 1172274 word corpus (95% of original 1224663, drops 52389)\n",
      "INFO - 19:30:20: deleting the raw counts dictionary of 15521 items\n",
      "INFO - 19:30:20: sample=6e-05 downsamples 805 most-common words\n",
      "INFO - 19:30:20: downsampling leaves estimated 414447 word corpus (35.4% of prior 1172274)\n",
      "INFO - 19:30:20: estimated required memory for 3692 words and 300 dimensions: 10706800 bytes\n",
      "INFO - 19:30:20: resetting layer weights\n"
     ]
    },
    {
     "name": "stdout",
     "output_type": "stream",
     "text": [
      "Time to build vocab: 0.14 mins\n"
     ]
    }
   ],
   "source": [
    "t = time()\n",
    "\n",
    "new=[nltk.word_tokenize(i) for i in txt if i]\n",
    "\n",
    "w2v_model.build_vocab(new, progress_per=10000)\n",
    "\n",
    "print('Time to build vocab: {} mins'.format(round((time() - t) / 60, 2)))"
   ]
  },
  {
   "cell_type": "code",
   "execution_count": 312,
   "metadata": {
    "scrolled": true
   },
   "outputs": [
    {
     "name": "stderr",
     "output_type": "stream",
     "text": [
      "INFO - 19:30:20: training model with 11 workers on 3692 vocabulary and 300 features, using sg=0 hs=0 sample=6e-05 negative=20 window=2\n",
      "INFO - 19:30:21: worker thread finished; awaiting finish of 10 more threads\n",
      "INFO - 19:30:21: worker thread finished; awaiting finish of 9 more threads\n",
      "INFO - 19:30:21: worker thread finished; awaiting finish of 8 more threads\n",
      "INFO - 19:30:21: worker thread finished; awaiting finish of 7 more threads\n",
      "INFO - 19:30:21: worker thread finished; awaiting finish of 6 more threads\n",
      "INFO - 19:30:21: worker thread finished; awaiting finish of 5 more threads\n",
      "INFO - 19:30:21: worker thread finished; awaiting finish of 4 more threads\n",
      "INFO - 19:30:21: worker thread finished; awaiting finish of 3 more threads\n",
      "INFO - 19:30:21: worker thread finished; awaiting finish of 2 more threads\n",
      "INFO - 19:30:21: worker thread finished; awaiting finish of 1 more threads\n",
      "INFO - 19:30:21: worker thread finished; awaiting finish of 0 more threads\n",
      "INFO - 19:30:21: EPOCH - 1 : training on 1224663 raw words (414305 effective words) took 0.7s, 577768 effective words/s\n",
      "INFO - 19:30:22: worker thread finished; awaiting finish of 10 more threads\n",
      "INFO - 19:30:22: worker thread finished; awaiting finish of 9 more threads\n",
      "INFO - 19:30:22: worker thread finished; awaiting finish of 8 more threads\n",
      "INFO - 19:30:22: worker thread finished; awaiting finish of 7 more threads\n",
      "INFO - 19:30:22: worker thread finished; awaiting finish of 6 more threads\n",
      "INFO - 19:30:22: worker thread finished; awaiting finish of 5 more threads\n",
      "INFO - 19:30:22: worker thread finished; awaiting finish of 4 more threads\n",
      "INFO - 19:30:22: worker thread finished; awaiting finish of 3 more threads\n",
      "INFO - 19:30:22: worker thread finished; awaiting finish of 2 more threads\n",
      "INFO - 19:30:22: worker thread finished; awaiting finish of 1 more threads\n",
      "INFO - 19:30:22: worker thread finished; awaiting finish of 0 more threads\n",
      "INFO - 19:30:22: EPOCH - 2 : training on 1224663 raw words (415047 effective words) took 0.8s, 519247 effective words/s\n",
      "INFO - 19:30:23: worker thread finished; awaiting finish of 10 more threads\n",
      "INFO - 19:30:23: worker thread finished; awaiting finish of 9 more threads\n",
      "INFO - 19:30:23: worker thread finished; awaiting finish of 8 more threads\n",
      "INFO - 19:30:23: worker thread finished; awaiting finish of 7 more threads\n",
      "INFO - 19:30:23: worker thread finished; awaiting finish of 6 more threads\n",
      "INFO - 19:30:23: worker thread finished; awaiting finish of 5 more threads\n",
      "INFO - 19:30:23: worker thread finished; awaiting finish of 4 more threads\n",
      "INFO - 19:30:23: worker thread finished; awaiting finish of 3 more threads\n",
      "INFO - 19:30:23: worker thread finished; awaiting finish of 2 more threads\n",
      "INFO - 19:30:23: worker thread finished; awaiting finish of 1 more threads\n",
      "INFO - 19:30:23: worker thread finished; awaiting finish of 0 more threads\n",
      "INFO - 19:30:23: EPOCH - 3 : training on 1224663 raw words (413916 effective words) took 0.7s, 570291 effective words/s\n",
      "INFO - 19:30:23: worker thread finished; awaiting finish of 10 more threads\n",
      "INFO - 19:30:23: worker thread finished; awaiting finish of 9 more threads\n",
      "INFO - 19:30:23: worker thread finished; awaiting finish of 8 more threads\n",
      "INFO - 19:30:23: worker thread finished; awaiting finish of 7 more threads\n",
      "INFO - 19:30:23: worker thread finished; awaiting finish of 6 more threads\n",
      "INFO - 19:30:23: worker thread finished; awaiting finish of 5 more threads\n",
      "INFO - 19:30:23: worker thread finished; awaiting finish of 4 more threads\n",
      "INFO - 19:30:23: worker thread finished; awaiting finish of 3 more threads\n",
      "INFO - 19:30:23: worker thread finished; awaiting finish of 2 more threads\n",
      "INFO - 19:30:23: worker thread finished; awaiting finish of 1 more threads\n",
      "INFO - 19:30:23: worker thread finished; awaiting finish of 0 more threads\n",
      "INFO - 19:30:23: EPOCH - 4 : training on 1224663 raw words (414315 effective words) took 0.7s, 569129 effective words/s\n",
      "INFO - 19:30:24: worker thread finished; awaiting finish of 10 more threads\n",
      "INFO - 19:30:24: worker thread finished; awaiting finish of 9 more threads\n",
      "INFO - 19:30:24: worker thread finished; awaiting finish of 8 more threads\n",
      "INFO - 19:30:24: worker thread finished; awaiting finish of 7 more threads\n",
      "INFO - 19:30:24: worker thread finished; awaiting finish of 6 more threads\n",
      "INFO - 19:30:24: worker thread finished; awaiting finish of 5 more threads\n",
      "INFO - 19:30:24: worker thread finished; awaiting finish of 4 more threads\n",
      "INFO - 19:30:24: worker thread finished; awaiting finish of 3 more threads\n",
      "INFO - 19:30:24: worker thread finished; awaiting finish of 2 more threads\n",
      "INFO - 19:30:24: worker thread finished; awaiting finish of 1 more threads\n",
      "INFO - 19:30:24: worker thread finished; awaiting finish of 0 more threads\n",
      "INFO - 19:30:24: EPOCH - 5 : training on 1224663 raw words (414296 effective words) took 0.7s, 583328 effective words/s\n",
      "INFO - 19:30:25: worker thread finished; awaiting finish of 10 more threads\n",
      "INFO - 19:30:25: worker thread finished; awaiting finish of 9 more threads\n",
      "INFO - 19:30:25: worker thread finished; awaiting finish of 8 more threads\n",
      "INFO - 19:30:25: worker thread finished; awaiting finish of 7 more threads\n",
      "INFO - 19:30:25: worker thread finished; awaiting finish of 6 more threads\n",
      "INFO - 19:30:25: worker thread finished; awaiting finish of 5 more threads\n",
      "INFO - 19:30:25: worker thread finished; awaiting finish of 4 more threads\n",
      "INFO - 19:30:25: worker thread finished; awaiting finish of 3 more threads\n",
      "INFO - 19:30:25: worker thread finished; awaiting finish of 2 more threads\n",
      "INFO - 19:30:25: worker thread finished; awaiting finish of 1 more threads\n",
      "INFO - 19:30:25: worker thread finished; awaiting finish of 0 more threads\n",
      "INFO - 19:30:25: EPOCH - 6 : training on 1224663 raw words (414478 effective words) took 0.7s, 555881 effective words/s\n",
      "INFO - 19:30:26: worker thread finished; awaiting finish of 10 more threads\n",
      "INFO - 19:30:26: worker thread finished; awaiting finish of 9 more threads\n",
      "INFO - 19:30:26: worker thread finished; awaiting finish of 8 more threads\n",
      "INFO - 19:30:26: worker thread finished; awaiting finish of 7 more threads\n",
      "INFO - 19:30:26: worker thread finished; awaiting finish of 6 more threads\n",
      "INFO - 19:30:26: worker thread finished; awaiting finish of 5 more threads\n",
      "INFO - 19:30:26: worker thread finished; awaiting finish of 4 more threads\n",
      "INFO - 19:30:26: worker thread finished; awaiting finish of 3 more threads\n",
      "INFO - 19:30:26: worker thread finished; awaiting finish of 2 more threads\n",
      "INFO - 19:30:26: worker thread finished; awaiting finish of 1 more threads\n",
      "INFO - 19:30:26: worker thread finished; awaiting finish of 0 more threads\n",
      "INFO - 19:30:26: EPOCH - 7 : training on 1224663 raw words (413269 effective words) took 0.7s, 569913 effective words/s\n",
      "INFO - 19:30:26: worker thread finished; awaiting finish of 10 more threads\n",
      "INFO - 19:30:26: worker thread finished; awaiting finish of 9 more threads\n",
      "INFO - 19:30:26: worker thread finished; awaiting finish of 8 more threads\n",
      "INFO - 19:30:26: worker thread finished; awaiting finish of 7 more threads\n",
      "INFO - 19:30:26: worker thread finished; awaiting finish of 6 more threads\n",
      "INFO - 19:30:26: worker thread finished; awaiting finish of 5 more threads\n",
      "INFO - 19:30:26: worker thread finished; awaiting finish of 4 more threads\n",
      "INFO - 19:30:26: worker thread finished; awaiting finish of 3 more threads\n",
      "INFO - 19:30:26: worker thread finished; awaiting finish of 2 more threads\n",
      "INFO - 19:30:26: worker thread finished; awaiting finish of 1 more threads\n",
      "INFO - 19:30:26: worker thread finished; awaiting finish of 0 more threads\n",
      "INFO - 19:30:26: EPOCH - 8 : training on 1224663 raw words (413682 effective words) took 0.8s, 550960 effective words/s\n",
      "INFO - 19:30:27: worker thread finished; awaiting finish of 10 more threads\n",
      "INFO - 19:30:27: worker thread finished; awaiting finish of 9 more threads\n",
      "INFO - 19:30:27: worker thread finished; awaiting finish of 8 more threads\n",
      "INFO - 19:30:27: worker thread finished; awaiting finish of 7 more threads\n",
      "INFO - 19:30:27: worker thread finished; awaiting finish of 6 more threads\n",
      "INFO - 19:30:27: worker thread finished; awaiting finish of 5 more threads\n",
      "INFO - 19:30:27: worker thread finished; awaiting finish of 4 more threads\n"
     ]
    },
    {
     "name": "stderr",
     "output_type": "stream",
     "text": [
      "INFO - 19:30:27: worker thread finished; awaiting finish of 3 more threads\n",
      "INFO - 19:30:27: worker thread finished; awaiting finish of 2 more threads\n",
      "INFO - 19:30:27: worker thread finished; awaiting finish of 1 more threads\n",
      "INFO - 19:30:27: worker thread finished; awaiting finish of 0 more threads\n",
      "INFO - 19:30:27: EPOCH - 9 : training on 1224663 raw words (415306 effective words) took 0.8s, 545755 effective words/s\n",
      "INFO - 19:30:28: worker thread finished; awaiting finish of 10 more threads\n",
      "INFO - 19:30:28: worker thread finished; awaiting finish of 9 more threads\n",
      "INFO - 19:30:28: worker thread finished; awaiting finish of 8 more threads\n",
      "INFO - 19:30:28: worker thread finished; awaiting finish of 7 more threads\n",
      "INFO - 19:30:28: worker thread finished; awaiting finish of 6 more threads\n",
      "INFO - 19:30:28: worker thread finished; awaiting finish of 5 more threads\n",
      "INFO - 19:30:28: worker thread finished; awaiting finish of 4 more threads\n",
      "INFO - 19:30:28: worker thread finished; awaiting finish of 3 more threads\n",
      "INFO - 19:30:28: worker thread finished; awaiting finish of 2 more threads\n",
      "INFO - 19:30:28: worker thread finished; awaiting finish of 1 more threads\n",
      "INFO - 19:30:28: worker thread finished; awaiting finish of 0 more threads\n",
      "INFO - 19:30:28: EPOCH - 10 : training on 1224663 raw words (414544 effective words) took 0.8s, 526622 effective words/s\n",
      "INFO - 19:30:29: worker thread finished; awaiting finish of 10 more threads\n",
      "INFO - 19:30:29: worker thread finished; awaiting finish of 9 more threads\n",
      "INFO - 19:30:29: worker thread finished; awaiting finish of 8 more threads\n",
      "INFO - 19:30:29: worker thread finished; awaiting finish of 7 more threads\n",
      "INFO - 19:30:29: worker thread finished; awaiting finish of 6 more threads\n",
      "INFO - 19:30:29: worker thread finished; awaiting finish of 5 more threads\n",
      "INFO - 19:30:29: worker thread finished; awaiting finish of 4 more threads\n",
      "INFO - 19:30:29: worker thread finished; awaiting finish of 3 more threads\n",
      "INFO - 19:30:29: worker thread finished; awaiting finish of 2 more threads\n",
      "INFO - 19:30:29: worker thread finished; awaiting finish of 1 more threads\n",
      "INFO - 19:30:29: worker thread finished; awaiting finish of 0 more threads\n",
      "INFO - 19:30:29: EPOCH - 11 : training on 1224663 raw words (414234 effective words) took 0.8s, 541845 effective words/s\n",
      "INFO - 19:30:30: worker thread finished; awaiting finish of 10 more threads\n",
      "INFO - 19:30:30: worker thread finished; awaiting finish of 9 more threads\n",
      "INFO - 19:30:30: worker thread finished; awaiting finish of 8 more threads\n",
      "INFO - 19:30:30: worker thread finished; awaiting finish of 7 more threads\n",
      "INFO - 19:30:30: worker thread finished; awaiting finish of 6 more threads\n",
      "INFO - 19:30:30: worker thread finished; awaiting finish of 5 more threads\n",
      "INFO - 19:30:30: worker thread finished; awaiting finish of 4 more threads\n",
      "INFO - 19:30:30: worker thread finished; awaiting finish of 3 more threads\n",
      "INFO - 19:30:30: worker thread finished; awaiting finish of 2 more threads\n",
      "INFO - 19:30:30: worker thread finished; awaiting finish of 1 more threads\n",
      "INFO - 19:30:30: worker thread finished; awaiting finish of 0 more threads\n",
      "INFO - 19:30:30: EPOCH - 12 : training on 1224663 raw words (414572 effective words) took 0.8s, 532420 effective words/s\n",
      "INFO - 19:30:30: worker thread finished; awaiting finish of 10 more threads\n",
      "INFO - 19:30:30: worker thread finished; awaiting finish of 9 more threads\n",
      "INFO - 19:30:30: worker thread finished; awaiting finish of 8 more threads\n",
      "INFO - 19:30:30: worker thread finished; awaiting finish of 7 more threads\n",
      "INFO - 19:30:30: worker thread finished; awaiting finish of 6 more threads\n",
      "INFO - 19:30:30: worker thread finished; awaiting finish of 5 more threads\n",
      "INFO - 19:30:30: worker thread finished; awaiting finish of 4 more threads\n",
      "INFO - 19:30:30: worker thread finished; awaiting finish of 3 more threads\n",
      "INFO - 19:30:30: worker thread finished; awaiting finish of 2 more threads\n",
      "INFO - 19:30:30: worker thread finished; awaiting finish of 1 more threads\n",
      "INFO - 19:30:30: worker thread finished; awaiting finish of 0 more threads\n",
      "INFO - 19:30:30: EPOCH - 13 : training on 1224663 raw words (413990 effective words) took 0.8s, 521818 effective words/s\n",
      "INFO - 19:30:31: worker thread finished; awaiting finish of 10 more threads\n",
      "INFO - 19:30:31: worker thread finished; awaiting finish of 9 more threads\n",
      "INFO - 19:30:31: worker thread finished; awaiting finish of 8 more threads\n",
      "INFO - 19:30:31: worker thread finished; awaiting finish of 7 more threads\n",
      "INFO - 19:30:31: worker thread finished; awaiting finish of 6 more threads\n",
      "INFO - 19:30:31: worker thread finished; awaiting finish of 5 more threads\n",
      "INFO - 19:30:31: worker thread finished; awaiting finish of 4 more threads\n",
      "INFO - 19:30:31: worker thread finished; awaiting finish of 3 more threads\n",
      "INFO - 19:30:31: worker thread finished; awaiting finish of 2 more threads\n",
      "INFO - 19:30:31: worker thread finished; awaiting finish of 1 more threads\n",
      "INFO - 19:30:31: worker thread finished; awaiting finish of 0 more threads\n",
      "INFO - 19:30:31: EPOCH - 14 : training on 1224663 raw words (415008 effective words) took 0.8s, 545605 effective words/s\n",
      "INFO - 19:30:32: worker thread finished; awaiting finish of 10 more threads\n",
      "INFO - 19:30:32: worker thread finished; awaiting finish of 9 more threads\n",
      "INFO - 19:30:32: worker thread finished; awaiting finish of 8 more threads\n",
      "INFO - 19:30:32: worker thread finished; awaiting finish of 7 more threads\n",
      "INFO - 19:30:32: worker thread finished; awaiting finish of 6 more threads\n",
      "INFO - 19:30:32: worker thread finished; awaiting finish of 5 more threads\n",
      "INFO - 19:30:32: worker thread finished; awaiting finish of 4 more threads\n",
      "INFO - 19:30:32: worker thread finished; awaiting finish of 3 more threads\n",
      "INFO - 19:30:32: worker thread finished; awaiting finish of 2 more threads\n",
      "INFO - 19:30:32: worker thread finished; awaiting finish of 1 more threads\n",
      "INFO - 19:30:32: worker thread finished; awaiting finish of 0 more threads\n",
      "INFO - 19:30:32: EPOCH - 15 : training on 1224663 raw words (414533 effective words) took 0.8s, 551864 effective words/s\n",
      "INFO - 19:30:33: worker thread finished; awaiting finish of 10 more threads\n",
      "INFO - 19:30:33: worker thread finished; awaiting finish of 9 more threads\n",
      "INFO - 19:30:33: worker thread finished; awaiting finish of 8 more threads\n",
      "INFO - 19:30:33: worker thread finished; awaiting finish of 7 more threads\n",
      "INFO - 19:30:33: worker thread finished; awaiting finish of 6 more threads\n",
      "INFO - 19:30:33: worker thread finished; awaiting finish of 5 more threads\n",
      "INFO - 19:30:33: worker thread finished; awaiting finish of 4 more threads\n",
      "INFO - 19:30:33: worker thread finished; awaiting finish of 3 more threads\n",
      "INFO - 19:30:33: worker thread finished; awaiting finish of 2 more threads\n",
      "INFO - 19:30:33: worker thread finished; awaiting finish of 1 more threads\n",
      "INFO - 19:30:33: worker thread finished; awaiting finish of 0 more threads\n",
      "INFO - 19:30:33: EPOCH - 16 : training on 1224663 raw words (413879 effective words) took 0.8s, 496701 effective words/s\n",
      "INFO - 19:30:33: worker thread finished; awaiting finish of 10 more threads\n",
      "INFO - 19:30:34: worker thread finished; awaiting finish of 9 more threads\n",
      "INFO - 19:30:34: worker thread finished; awaiting finish of 8 more threads\n",
      "INFO - 19:30:34: worker thread finished; awaiting finish of 7 more threads\n",
      "INFO - 19:30:34: worker thread finished; awaiting finish of 6 more threads\n",
      "INFO - 19:30:34: worker thread finished; awaiting finish of 5 more threads\n",
      "INFO - 19:30:34: worker thread finished; awaiting finish of 4 more threads\n",
      "INFO - 19:30:34: worker thread finished; awaiting finish of 3 more threads\n",
      "INFO - 19:30:34: worker thread finished; awaiting finish of 2 more threads\n",
      "INFO - 19:30:34: worker thread finished; awaiting finish of 1 more threads\n",
      "INFO - 19:30:34: worker thread finished; awaiting finish of 0 more threads\n",
      "INFO - 19:30:34: EPOCH - 17 : training on 1224663 raw words (414448 effective words) took 0.7s, 556215 effective words/s\n",
      "INFO - 19:30:34: worker thread finished; awaiting finish of 10 more threads\n",
      "INFO - 19:30:34: worker thread finished; awaiting finish of 9 more threads\n",
      "INFO - 19:30:34: worker thread finished; awaiting finish of 8 more threads\n"
     ]
    },
    {
     "name": "stderr",
     "output_type": "stream",
     "text": [
      "INFO - 19:30:34: worker thread finished; awaiting finish of 7 more threads\n",
      "INFO - 19:30:34: worker thread finished; awaiting finish of 6 more threads\n",
      "INFO - 19:30:34: worker thread finished; awaiting finish of 5 more threads\n",
      "INFO - 19:30:34: worker thread finished; awaiting finish of 4 more threads\n",
      "INFO - 19:30:34: worker thread finished; awaiting finish of 3 more threads\n",
      "INFO - 19:30:34: worker thread finished; awaiting finish of 2 more threads\n",
      "INFO - 19:30:34: worker thread finished; awaiting finish of 1 more threads\n",
      "INFO - 19:30:34: worker thread finished; awaiting finish of 0 more threads\n",
      "INFO - 19:30:34: EPOCH - 18 : training on 1224663 raw words (414646 effective words) took 0.8s, 547288 effective words/s\n",
      "INFO - 19:30:35: worker thread finished; awaiting finish of 10 more threads\n",
      "INFO - 19:30:35: worker thread finished; awaiting finish of 9 more threads\n",
      "INFO - 19:30:35: worker thread finished; awaiting finish of 8 more threads\n",
      "INFO - 19:30:35: worker thread finished; awaiting finish of 7 more threads\n",
      "INFO - 19:30:35: worker thread finished; awaiting finish of 6 more threads\n",
      "INFO - 19:30:35: worker thread finished; awaiting finish of 5 more threads\n",
      "INFO - 19:30:35: worker thread finished; awaiting finish of 4 more threads\n",
      "INFO - 19:30:35: worker thread finished; awaiting finish of 3 more threads\n",
      "INFO - 19:30:35: worker thread finished; awaiting finish of 2 more threads\n",
      "INFO - 19:30:35: worker thread finished; awaiting finish of 1 more threads\n",
      "INFO - 19:30:35: worker thread finished; awaiting finish of 0 more threads\n",
      "INFO - 19:30:35: EPOCH - 19 : training on 1224663 raw words (414021 effective words) took 0.8s, 545083 effective words/s\n",
      "INFO - 19:30:36: worker thread finished; awaiting finish of 10 more threads\n",
      "INFO - 19:30:36: worker thread finished; awaiting finish of 9 more threads\n",
      "INFO - 19:30:36: worker thread finished; awaiting finish of 8 more threads\n",
      "INFO - 19:30:36: worker thread finished; awaiting finish of 7 more threads\n",
      "INFO - 19:30:36: worker thread finished; awaiting finish of 6 more threads\n",
      "INFO - 19:30:36: worker thread finished; awaiting finish of 5 more threads\n",
      "INFO - 19:30:36: worker thread finished; awaiting finish of 4 more threads\n",
      "INFO - 19:30:36: worker thread finished; awaiting finish of 3 more threads\n",
      "INFO - 19:30:36: worker thread finished; awaiting finish of 2 more threads\n",
      "INFO - 19:30:36: worker thread finished; awaiting finish of 1 more threads\n",
      "INFO - 19:30:36: worker thread finished; awaiting finish of 0 more threads\n",
      "INFO - 19:30:36: EPOCH - 20 : training on 1224663 raw words (414463 effective words) took 0.8s, 540313 effective words/s\n",
      "INFO - 19:30:37: worker thread finished; awaiting finish of 10 more threads\n",
      "INFO - 19:30:37: worker thread finished; awaiting finish of 9 more threads\n",
      "INFO - 19:30:37: worker thread finished; awaiting finish of 8 more threads\n",
      "INFO - 19:30:37: worker thread finished; awaiting finish of 7 more threads\n",
      "INFO - 19:30:37: worker thread finished; awaiting finish of 6 more threads\n",
      "INFO - 19:30:37: worker thread finished; awaiting finish of 5 more threads\n",
      "INFO - 19:30:37: worker thread finished; awaiting finish of 4 more threads\n",
      "INFO - 19:30:37: worker thread finished; awaiting finish of 3 more threads\n",
      "INFO - 19:30:37: worker thread finished; awaiting finish of 2 more threads\n",
      "INFO - 19:30:37: worker thread finished; awaiting finish of 1 more threads\n",
      "INFO - 19:30:37: worker thread finished; awaiting finish of 0 more threads\n",
      "INFO - 19:30:37: EPOCH - 21 : training on 1224663 raw words (414111 effective words) took 0.7s, 554012 effective words/s\n",
      "INFO - 19:30:37: worker thread finished; awaiting finish of 10 more threads\n",
      "INFO - 19:30:37: worker thread finished; awaiting finish of 9 more threads\n",
      "INFO - 19:30:37: worker thread finished; awaiting finish of 8 more threads\n",
      "INFO - 19:30:37: worker thread finished; awaiting finish of 7 more threads\n",
      "INFO - 19:30:37: worker thread finished; awaiting finish of 6 more threads\n",
      "INFO - 19:30:37: worker thread finished; awaiting finish of 5 more threads\n",
      "INFO - 19:30:37: worker thread finished; awaiting finish of 4 more threads\n",
      "INFO - 19:30:37: worker thread finished; awaiting finish of 3 more threads\n",
      "INFO - 19:30:37: worker thread finished; awaiting finish of 2 more threads\n",
      "INFO - 19:30:37: worker thread finished; awaiting finish of 1 more threads\n",
      "INFO - 19:30:37: worker thread finished; awaiting finish of 0 more threads\n",
      "INFO - 19:30:37: EPOCH - 22 : training on 1224663 raw words (414820 effective words) took 0.7s, 555215 effective words/s\n",
      "INFO - 19:30:38: worker thread finished; awaiting finish of 10 more threads\n",
      "INFO - 19:30:38: worker thread finished; awaiting finish of 9 more threads\n",
      "INFO - 19:30:38: worker thread finished; awaiting finish of 8 more threads\n",
      "INFO - 19:30:38: worker thread finished; awaiting finish of 7 more threads\n",
      "INFO - 19:30:38: worker thread finished; awaiting finish of 6 more threads\n",
      "INFO - 19:30:38: worker thread finished; awaiting finish of 5 more threads\n",
      "INFO - 19:30:38: worker thread finished; awaiting finish of 4 more threads\n",
      "INFO - 19:30:38: worker thread finished; awaiting finish of 3 more threads\n",
      "INFO - 19:30:38: worker thread finished; awaiting finish of 2 more threads\n",
      "INFO - 19:30:38: worker thread finished; awaiting finish of 1 more threads\n",
      "INFO - 19:30:38: worker thread finished; awaiting finish of 0 more threads\n",
      "INFO - 19:30:38: EPOCH - 23 : training on 1224663 raw words (414851 effective words) took 0.8s, 549688 effective words/s\n",
      "INFO - 19:30:39: worker thread finished; awaiting finish of 10 more threads\n",
      "INFO - 19:30:39: worker thread finished; awaiting finish of 9 more threads\n",
      "INFO - 19:30:39: worker thread finished; awaiting finish of 8 more threads\n",
      "INFO - 19:30:39: worker thread finished; awaiting finish of 7 more threads\n",
      "INFO - 19:30:39: worker thread finished; awaiting finish of 6 more threads\n",
      "INFO - 19:30:39: worker thread finished; awaiting finish of 5 more threads\n",
      "INFO - 19:30:39: worker thread finished; awaiting finish of 4 more threads\n",
      "INFO - 19:30:39: worker thread finished; awaiting finish of 3 more threads\n",
      "INFO - 19:30:39: worker thread finished; awaiting finish of 2 more threads\n",
      "INFO - 19:30:39: worker thread finished; awaiting finish of 1 more threads\n",
      "INFO - 19:30:39: worker thread finished; awaiting finish of 0 more threads\n",
      "INFO - 19:30:39: EPOCH - 24 : training on 1224663 raw words (414309 effective words) took 0.7s, 565061 effective words/s\n",
      "INFO - 19:30:40: worker thread finished; awaiting finish of 10 more threads\n",
      "INFO - 19:30:40: worker thread finished; awaiting finish of 9 more threads\n",
      "INFO - 19:30:40: worker thread finished; awaiting finish of 8 more threads\n",
      "INFO - 19:30:40: worker thread finished; awaiting finish of 7 more threads\n",
      "INFO - 19:30:40: worker thread finished; awaiting finish of 6 more threads\n",
      "INFO - 19:30:40: worker thread finished; awaiting finish of 5 more threads\n",
      "INFO - 19:30:40: worker thread finished; awaiting finish of 4 more threads\n",
      "INFO - 19:30:40: worker thread finished; awaiting finish of 3 more threads\n",
      "INFO - 19:30:40: worker thread finished; awaiting finish of 2 more threads\n",
      "INFO - 19:30:40: worker thread finished; awaiting finish of 1 more threads\n",
      "INFO - 19:30:40: worker thread finished; awaiting finish of 0 more threads\n",
      "INFO - 19:30:40: EPOCH - 25 : training on 1224663 raw words (414218 effective words) took 0.7s, 556528 effective words/s\n",
      "INFO - 19:30:40: worker thread finished; awaiting finish of 10 more threads\n",
      "INFO - 19:30:40: worker thread finished; awaiting finish of 9 more threads\n",
      "INFO - 19:30:40: worker thread finished; awaiting finish of 8 more threads\n",
      "INFO - 19:30:40: worker thread finished; awaiting finish of 7 more threads\n",
      "INFO - 19:30:40: worker thread finished; awaiting finish of 6 more threads\n",
      "INFO - 19:30:40: worker thread finished; awaiting finish of 5 more threads\n",
      "INFO - 19:30:40: worker thread finished; awaiting finish of 4 more threads\n",
      "INFO - 19:30:40: worker thread finished; awaiting finish of 3 more threads\n",
      "INFO - 19:30:40: worker thread finished; awaiting finish of 2 more threads\n",
      "INFO - 19:30:40: worker thread finished; awaiting finish of 1 more threads\n",
      "INFO - 19:30:40: worker thread finished; awaiting finish of 0 more threads\n",
      "INFO - 19:30:40: EPOCH - 26 : training on 1224663 raw words (414936 effective words) took 0.8s, 538744 effective words/s\n"
     ]
    },
    {
     "name": "stderr",
     "output_type": "stream",
     "text": [
      "INFO - 19:30:41: worker thread finished; awaiting finish of 10 more threads\n",
      "INFO - 19:30:41: worker thread finished; awaiting finish of 9 more threads\n",
      "INFO - 19:30:41: worker thread finished; awaiting finish of 8 more threads\n",
      "INFO - 19:30:41: worker thread finished; awaiting finish of 7 more threads\n",
      "INFO - 19:30:41: worker thread finished; awaiting finish of 6 more threads\n",
      "INFO - 19:30:41: worker thread finished; awaiting finish of 5 more threads\n",
      "INFO - 19:30:41: worker thread finished; awaiting finish of 4 more threads\n",
      "INFO - 19:30:41: worker thread finished; awaiting finish of 3 more threads\n",
      "INFO - 19:30:41: worker thread finished; awaiting finish of 2 more threads\n",
      "INFO - 19:30:41: worker thread finished; awaiting finish of 1 more threads\n",
      "INFO - 19:30:41: worker thread finished; awaiting finish of 0 more threads\n",
      "INFO - 19:30:41: EPOCH - 27 : training on 1224663 raw words (414618 effective words) took 0.8s, 542966 effective words/s\n",
      "INFO - 19:30:42: worker thread finished; awaiting finish of 10 more threads\n",
      "INFO - 19:30:42: worker thread finished; awaiting finish of 9 more threads\n",
      "INFO - 19:30:42: worker thread finished; awaiting finish of 8 more threads\n",
      "INFO - 19:30:42: worker thread finished; awaiting finish of 7 more threads\n",
      "INFO - 19:30:42: worker thread finished; awaiting finish of 6 more threads\n",
      "INFO - 19:30:42: worker thread finished; awaiting finish of 5 more threads\n",
      "INFO - 19:30:42: worker thread finished; awaiting finish of 4 more threads\n",
      "INFO - 19:30:42: worker thread finished; awaiting finish of 3 more threads\n",
      "INFO - 19:30:42: worker thread finished; awaiting finish of 2 more threads\n",
      "INFO - 19:30:42: worker thread finished; awaiting finish of 1 more threads\n",
      "INFO - 19:30:42: worker thread finished; awaiting finish of 0 more threads\n",
      "INFO - 19:30:42: EPOCH - 28 : training on 1224663 raw words (415152 effective words) took 0.7s, 565110 effective words/s\n",
      "INFO - 19:30:43: worker thread finished; awaiting finish of 10 more threads\n",
      "INFO - 19:30:43: worker thread finished; awaiting finish of 9 more threads\n",
      "INFO - 19:30:43: worker thread finished; awaiting finish of 8 more threads\n",
      "INFO - 19:30:43: worker thread finished; awaiting finish of 7 more threads\n",
      "INFO - 19:30:43: worker thread finished; awaiting finish of 6 more threads\n",
      "INFO - 19:30:43: worker thread finished; awaiting finish of 5 more threads\n",
      "INFO - 19:30:43: worker thread finished; awaiting finish of 4 more threads\n",
      "INFO - 19:30:43: worker thread finished; awaiting finish of 3 more threads\n",
      "INFO - 19:30:43: worker thread finished; awaiting finish of 2 more threads\n",
      "INFO - 19:30:43: worker thread finished; awaiting finish of 1 more threads\n",
      "INFO - 19:30:43: worker thread finished; awaiting finish of 0 more threads\n",
      "INFO - 19:30:43: EPOCH - 29 : training on 1224663 raw words (414197 effective words) took 0.7s, 569574 effective words/s\n",
      "INFO - 19:30:43: worker thread finished; awaiting finish of 10 more threads\n",
      "INFO - 19:30:43: worker thread finished; awaiting finish of 9 more threads\n",
      "INFO - 19:30:43: worker thread finished; awaiting finish of 8 more threads\n",
      "INFO - 19:30:43: worker thread finished; awaiting finish of 7 more threads\n",
      "INFO - 19:30:43: worker thread finished; awaiting finish of 6 more threads\n",
      "INFO - 19:30:43: worker thread finished; awaiting finish of 5 more threads\n",
      "INFO - 19:30:43: worker thread finished; awaiting finish of 4 more threads\n",
      "INFO - 19:30:43: worker thread finished; awaiting finish of 3 more threads\n",
      "INFO - 19:30:43: worker thread finished; awaiting finish of 2 more threads\n",
      "INFO - 19:30:43: worker thread finished; awaiting finish of 1 more threads\n",
      "INFO - 19:30:43: worker thread finished; awaiting finish of 0 more threads\n",
      "INFO - 19:30:43: EPOCH - 30 : training on 1224663 raw words (414593 effective words) took 0.8s, 548577 effective words/s\n",
      "INFO - 19:30:43: training on a 36739890 raw words (12432757 effective words) took 22.9s, 542109 effective words/s\n"
     ]
    },
    {
     "name": "stdout",
     "output_type": "stream",
     "text": [
      "Time to train the model: 0.38 mins\n"
     ]
    }
   ],
   "source": [
    "t = time()\n",
    "\n",
    "w2v_model.train(new, total_examples=w2v_model.corpus_count, epochs=30, report_delay=1)\n",
    "\n",
    "print('Time to train the model: {} mins'.format(round((time() - t) / 60, 2)))"
   ]
  },
  {
   "cell_type": "code",
   "execution_count": 313,
   "metadata": {},
   "outputs": [
    {
     "name": "stderr",
     "output_type": "stream",
     "text": [
      "INFO - 19:30:43: precomputing L2-norms of word weight vectors\n"
     ]
    }
   ],
   "source": [
    "w2v_model.init_sims(replace=True)"
   ]
  },
  {
   "cell_type": "code",
   "execution_count": 314,
   "metadata": {},
   "outputs": [
    {
     "data": {
      "text/plain": [
       "[('ii', 0.7036667466163635),\n",
       " ('stormborn', 0.6150925159454346),\n",
       " ('jaehaerys', 0.598471999168396),\n",
       " ('aegon', 0.5306622982025146),\n",
       " ('conqueror', 0.522280216217041),\n",
       " ('daeron', 0.5144698619842529),\n",
       " ('conquest', 0.4822579622268677),\n",
       " ('reign', 0.4818761944770813),\n",
       " ('viserys', 0.47803646326065063),\n",
       " ('rhaenys', 0.4670172929763794)]"
      ]
     },
     "execution_count": 314,
     "metadata": {},
     "output_type": "execute_result"
    }
   ],
   "source": [
    "w2v_model.wv.most_similar(positive=[\"targaryen\"])"
   ]
  },
  {
   "cell_type": "markdown",
   "metadata": {},
   "source": [
    "That looks like a bunch of targaryen family coming together"
   ]
  },
  {
   "cell_type": "markdown",
   "metadata": {},
   "source": [
    "### Q2- Bigram training"
   ]
  },
  {
   "cell_type": "code",
   "execution_count": 318,
   "metadata": {},
   "outputs": [
    {
     "name": "stderr",
     "output_type": "stream",
     "text": [
      "INFO - 19:32:17: collecting all words and their counts\n",
      "INFO - 19:32:17: PROGRESS: at sentence #0, processed 0 words and 0 word types\n",
      "INFO - 19:32:18: PROGRESS: at sentence #10000, processed 133611 words and 63384 word types\n",
      "INFO - 19:32:18: PROGRESS: at sentence #20000, processed 273604 words and 107055 word types\n",
      "INFO - 19:32:18: PROGRESS: at sentence #30000, processed 413192 words and 146438 word types\n",
      "INFO - 19:32:18: PROGRESS: at sentence #40000, processed 548447 words and 179178 word types\n",
      "INFO - 19:32:18: PROGRESS: at sentence #50000, processed 688339 words and 210897 word types\n",
      "INFO - 19:32:18: PROGRESS: at sentence #60000, processed 819792 words and 238480 word types\n",
      "INFO - 19:32:18: PROGRESS: at sentence #70000, processed 954389 words and 264332 word types\n",
      "INFO - 19:32:19: PROGRESS: at sentence #80000, processed 1083304 words and 288898 word types\n",
      "INFO - 19:32:19: collected 315113 word types from a corpus of 1224663 words (unigram + bigrams) and 89995 sentences\n",
      "INFO - 19:32:19: using 315113 counts as vocab in Phrases<0 vocab, min_count=5, threshold=10.0, max_vocab_size=40000000>\n"
     ]
    }
   ],
   "source": [
    "##let's use phrases from gensim model to address the bigram issue\n",
    "phrases = Phrases(new, min_count=5, progress_per=10000)"
   ]
  },
  {
   "cell_type": "code",
   "execution_count": 319,
   "metadata": {},
   "outputs": [
    {
     "name": "stderr",
     "output_type": "stream",
     "text": [
      "INFO - 19:32:19: source_vocab length 315113\n",
      "INFO - 19:32:21: Phraser built with 1920 phrasegrams\n"
     ]
    }
   ],
   "source": [
    "bigram = Phraser(phrases)"
   ]
  },
  {
   "cell_type": "code",
   "execution_count": 320,
   "metadata": {},
   "outputs": [],
   "source": [
    "sentences = bigram[new]"
   ]
  },
  {
   "cell_type": "code",
   "execution_count": 321,
   "metadata": {},
   "outputs": [
    {
     "data": {
      "text/plain": [
       "17305"
      ]
     },
     "execution_count": 321,
     "metadata": {},
     "output_type": "execute_result"
    }
   ],
   "source": [
    "word_freq = defaultdict(int)\n",
    "for sent in sentences:\n",
    "    for i in sent:\n",
    "        word_freq[i] += 1\n",
    "len(word_freq)"
   ]
  },
  {
   "cell_type": "code",
   "execution_count": 322,
   "metadata": {},
   "outputs": [
    {
     "name": "stderr",
     "output_type": "stream",
     "text": [
      "INFO - 19:32:24: collecting all words and their counts\n",
      "INFO - 19:32:24: PROGRESS: at sentence #0, processed 0 words, keeping 0 word types\n",
      "INFO - 19:32:24: PROGRESS: at sentence #10000, processed 128450 words, keeping 7063 word types\n",
      "INFO - 19:32:25: PROGRESS: at sentence #20000, processed 262583 words, keeping 9626 word types\n",
      "INFO - 19:32:25: PROGRESS: at sentence #30000, processed 396799 words, keeping 11568 word types\n",
      "INFO - 19:32:25: PROGRESS: at sentence #40000, processed 527045 words, keeping 12742 word types\n",
      "INFO - 19:32:26: PROGRESS: at sentence #50000, processed 661027 words, keeping 13947 word types\n",
      "INFO - 19:32:26: PROGRESS: at sentence #60000, processed 787247 words, keeping 14849 word types\n",
      "INFO - 19:32:26: PROGRESS: at sentence #70000, processed 916030 words, keeping 15676 word types\n",
      "INFO - 19:32:27: PROGRESS: at sentence #80000, processed 1040132 words, keeping 16489 word types\n",
      "INFO - 19:32:27: collected 17305 word types from a corpus of 1175710 raw words and 89995 sentences\n",
      "INFO - 19:32:27: Loading a fresh vocabulary\n",
      "INFO - 19:32:27: effective_min_count=20 retains 3954 unique words (22% of original 17305, drops 13351)\n",
      "INFO - 19:32:27: effective_min_count=20 leaves 1109762 word corpus (94% of original 1175710, drops 65948)\n",
      "INFO - 19:32:27: deleting the raw counts dictionary of 17305 items\n",
      "INFO - 19:32:27: sample=6e-05 downsamples 765 most-common words\n",
      "INFO - 19:32:27: downsampling leaves estimated 397573 word corpus (35.8% of prior 1109762)\n",
      "INFO - 19:32:27: estimated required memory for 3954 words and 300 dimensions: 11466600 bytes\n",
      "INFO - 19:32:27: resetting layer weights\n"
     ]
    },
    {
     "name": "stdout",
     "output_type": "stream",
     "text": [
      "Time to build vocab: 0.06 mins\n"
     ]
    }
   ],
   "source": [
    "t = time()\n",
    "\n",
    "w2v_model = Word2Vec(min_count=20,\n",
    "                     window=2,\n",
    "                     size=300,\n",
    "                     sample=6e-5, \n",
    "                     alpha=0.03, \n",
    "                     min_alpha=0.0007, \n",
    "                     negative=20,\n",
    "                     workers=cores-1)\n",
    "\n",
    "w2v_model.build_vocab(sentences, progress_per=10000)\n",
    "\n",
    "print('Time to build vocab: {} mins'.format(round((time() - t) / 60, 2)))"
   ]
  },
  {
   "cell_type": "code",
   "execution_count": 323,
   "metadata": {
    "scrolled": true
   },
   "outputs": [
    {
     "name": "stderr",
     "output_type": "stream",
     "text": [
      "INFO - 19:32:28: training model with 11 workers on 3954 vocabulary and 300 features, using sg=0 hs=0 sample=6e-05 negative=20 window=2\n",
      "INFO - 19:32:28: worker thread finished; awaiting finish of 10 more threads\n",
      "INFO - 19:32:28: worker thread finished; awaiting finish of 9 more threads\n",
      "INFO - 19:32:28: worker thread finished; awaiting finish of 8 more threads\n",
      "INFO - 19:32:28: worker thread finished; awaiting finish of 7 more threads\n",
      "INFO - 19:32:28: worker thread finished; awaiting finish of 6 more threads\n",
      "INFO - 19:32:28: worker thread finished; awaiting finish of 5 more threads\n",
      "INFO - 19:32:28: worker thread finished; awaiting finish of 4 more threads\n",
      "INFO - 19:32:28: worker thread finished; awaiting finish of 3 more threads\n",
      "INFO - 19:32:28: worker thread finished; awaiting finish of 2 more threads\n",
      "INFO - 19:32:28: worker thread finished; awaiting finish of 1 more threads\n",
      "INFO - 19:32:28: worker thread finished; awaiting finish of 0 more threads\n",
      "INFO - 19:32:28: EPOCH - 1 : training on 1224663 raw words (415557 effective words) took 0.7s, 579602 effective words/s\n",
      "INFO - 19:32:29: worker thread finished; awaiting finish of 10 more threads\n",
      "INFO - 19:32:29: worker thread finished; awaiting finish of 9 more threads\n",
      "INFO - 19:32:29: worker thread finished; awaiting finish of 8 more threads\n",
      "INFO - 19:32:29: worker thread finished; awaiting finish of 7 more threads\n",
      "INFO - 19:32:29: worker thread finished; awaiting finish of 6 more threads\n",
      "INFO - 19:32:29: worker thread finished; awaiting finish of 5 more threads\n",
      "INFO - 19:32:29: worker thread finished; awaiting finish of 4 more threads\n",
      "INFO - 19:32:29: worker thread finished; awaiting finish of 3 more threads\n",
      "INFO - 19:32:29: worker thread finished; awaiting finish of 2 more threads\n",
      "INFO - 19:32:29: worker thread finished; awaiting finish of 1 more threads\n",
      "INFO - 19:32:29: worker thread finished; awaiting finish of 0 more threads\n",
      "INFO - 19:32:29: EPOCH - 2 : training on 1224663 raw words (415964 effective words) took 0.7s, 571662 effective words/s\n",
      "INFO - 19:32:30: worker thread finished; awaiting finish of 10 more threads\n",
      "INFO - 19:32:30: worker thread finished; awaiting finish of 9 more threads\n",
      "INFO - 19:32:30: worker thread finished; awaiting finish of 8 more threads\n",
      "INFO - 19:32:30: worker thread finished; awaiting finish of 7 more threads\n",
      "INFO - 19:32:30: worker thread finished; awaiting finish of 6 more threads\n",
      "INFO - 19:32:30: worker thread finished; awaiting finish of 5 more threads\n",
      "INFO - 19:32:30: worker thread finished; awaiting finish of 4 more threads\n",
      "INFO - 19:32:30: worker thread finished; awaiting finish of 3 more threads\n",
      "INFO - 19:32:30: worker thread finished; awaiting finish of 2 more threads\n",
      "INFO - 19:32:30: worker thread finished; awaiting finish of 1 more threads\n",
      "INFO - 19:32:30: worker thread finished; awaiting finish of 0 more threads\n",
      "INFO - 19:32:30: EPOCH - 3 : training on 1224663 raw words (415165 effective words) took 0.7s, 573328 effective words/s\n",
      "INFO - 19:32:31: worker thread finished; awaiting finish of 10 more threads\n",
      "INFO - 19:32:31: worker thread finished; awaiting finish of 9 more threads\n",
      "INFO - 19:32:31: worker thread finished; awaiting finish of 8 more threads\n",
      "INFO - 19:32:31: worker thread finished; awaiting finish of 7 more threads\n",
      "INFO - 19:32:31: worker thread finished; awaiting finish of 6 more threads\n",
      "INFO - 19:32:31: worker thread finished; awaiting finish of 5 more threads\n",
      "INFO - 19:32:31: worker thread finished; awaiting finish of 4 more threads\n",
      "INFO - 19:32:31: worker thread finished; awaiting finish of 3 more threads\n",
      "INFO - 19:32:31: worker thread finished; awaiting finish of 2 more threads\n",
      "INFO - 19:32:31: worker thread finished; awaiting finish of 1 more threads\n",
      "INFO - 19:32:31: worker thread finished; awaiting finish of 0 more threads\n",
      "INFO - 19:32:31: EPOCH - 4 : training on 1224663 raw words (415873 effective words) took 0.8s, 533050 effective words/s\n",
      "INFO - 19:32:31: worker thread finished; awaiting finish of 10 more threads\n",
      "INFO - 19:32:31: worker thread finished; awaiting finish of 9 more threads\n",
      "INFO - 19:32:31: worker thread finished; awaiting finish of 8 more threads\n",
      "INFO - 19:32:31: worker thread finished; awaiting finish of 7 more threads\n",
      "INFO - 19:32:31: worker thread finished; awaiting finish of 6 more threads\n",
      "INFO - 19:32:31: worker thread finished; awaiting finish of 5 more threads\n",
      "INFO - 19:32:31: worker thread finished; awaiting finish of 4 more threads\n",
      "INFO - 19:32:31: worker thread finished; awaiting finish of 3 more threads\n",
      "INFO - 19:32:31: worker thread finished; awaiting finish of 2 more threads\n",
      "INFO - 19:32:31: worker thread finished; awaiting finish of 1 more threads\n",
      "INFO - 19:32:31: worker thread finished; awaiting finish of 0 more threads\n",
      "INFO - 19:32:31: EPOCH - 5 : training on 1224663 raw words (415954 effective words) took 0.7s, 589666 effective words/s\n",
      "INFO - 19:32:32: worker thread finished; awaiting finish of 10 more threads\n",
      "INFO - 19:32:32: worker thread finished; awaiting finish of 9 more threads\n",
      "INFO - 19:32:32: worker thread finished; awaiting finish of 8 more threads\n",
      "INFO - 19:32:32: worker thread finished; awaiting finish of 7 more threads\n",
      "INFO - 19:32:32: worker thread finished; awaiting finish of 6 more threads\n",
      "INFO - 19:32:32: worker thread finished; awaiting finish of 5 more threads\n",
      "INFO - 19:32:32: worker thread finished; awaiting finish of 4 more threads\n",
      "INFO - 19:32:32: worker thread finished; awaiting finish of 3 more threads\n",
      "INFO - 19:32:32: worker thread finished; awaiting finish of 2 more threads\n",
      "INFO - 19:32:32: worker thread finished; awaiting finish of 1 more threads\n",
      "INFO - 19:32:32: worker thread finished; awaiting finish of 0 more threads\n",
      "INFO - 19:32:32: EPOCH - 6 : training on 1224663 raw words (415341 effective words) took 0.7s, 608054 effective words/s\n",
      "INFO - 19:32:33: worker thread finished; awaiting finish of 10 more threads\n",
      "INFO - 19:32:33: worker thread finished; awaiting finish of 9 more threads\n",
      "INFO - 19:32:33: worker thread finished; awaiting finish of 8 more threads\n",
      "INFO - 19:32:33: worker thread finished; awaiting finish of 7 more threads\n",
      "INFO - 19:32:33: worker thread finished; awaiting finish of 6 more threads\n",
      "INFO - 19:32:33: worker thread finished; awaiting finish of 5 more threads\n",
      "INFO - 19:32:33: worker thread finished; awaiting finish of 4 more threads\n",
      "INFO - 19:32:33: worker thread finished; awaiting finish of 3 more threads\n",
      "INFO - 19:32:33: worker thread finished; awaiting finish of 2 more threads\n",
      "INFO - 19:32:33: worker thread finished; awaiting finish of 1 more threads\n",
      "INFO - 19:32:33: worker thread finished; awaiting finish of 0 more threads\n",
      "INFO - 19:32:33: EPOCH - 7 : training on 1224663 raw words (415431 effective words) took 0.7s, 561405 effective words/s\n",
      "INFO - 19:32:34: worker thread finished; awaiting finish of 10 more threads\n",
      "INFO - 19:32:34: worker thread finished; awaiting finish of 9 more threads\n",
      "INFO - 19:32:34: worker thread finished; awaiting finish of 8 more threads\n",
      "INFO - 19:32:34: worker thread finished; awaiting finish of 7 more threads\n",
      "INFO - 19:32:34: worker thread finished; awaiting finish of 6 more threads\n",
      "INFO - 19:32:34: worker thread finished; awaiting finish of 5 more threads\n",
      "INFO - 19:32:34: worker thread finished; awaiting finish of 4 more threads\n",
      "INFO - 19:32:34: worker thread finished; awaiting finish of 3 more threads\n",
      "INFO - 19:32:34: worker thread finished; awaiting finish of 2 more threads\n",
      "INFO - 19:32:34: worker thread finished; awaiting finish of 1 more threads\n",
      "INFO - 19:32:34: worker thread finished; awaiting finish of 0 more threads\n",
      "INFO - 19:32:34: EPOCH - 8 : training on 1224663 raw words (415725 effective words) took 0.7s, 601324 effective words/s\n",
      "INFO - 19:32:34: worker thread finished; awaiting finish of 10 more threads\n",
      "INFO - 19:32:34: worker thread finished; awaiting finish of 9 more threads\n",
      "INFO - 19:32:34: worker thread finished; awaiting finish of 8 more threads\n",
      "INFO - 19:32:34: worker thread finished; awaiting finish of 7 more threads\n",
      "INFO - 19:32:34: worker thread finished; awaiting finish of 6 more threads\n",
      "INFO - 19:32:34: worker thread finished; awaiting finish of 5 more threads\n",
      "INFO - 19:32:34: worker thread finished; awaiting finish of 4 more threads\n"
     ]
    },
    {
     "name": "stderr",
     "output_type": "stream",
     "text": [
      "INFO - 19:32:34: worker thread finished; awaiting finish of 3 more threads\n",
      "INFO - 19:32:34: worker thread finished; awaiting finish of 2 more threads\n",
      "INFO - 19:32:34: worker thread finished; awaiting finish of 1 more threads\n",
      "INFO - 19:32:34: worker thread finished; awaiting finish of 0 more threads\n",
      "INFO - 19:32:34: EPOCH - 9 : training on 1224663 raw words (415920 effective words) took 0.7s, 577934 effective words/s\n",
      "INFO - 19:32:35: worker thread finished; awaiting finish of 10 more threads\n",
      "INFO - 19:32:35: worker thread finished; awaiting finish of 9 more threads\n",
      "INFO - 19:32:35: worker thread finished; awaiting finish of 8 more threads\n",
      "INFO - 19:32:35: worker thread finished; awaiting finish of 7 more threads\n",
      "INFO - 19:32:35: worker thread finished; awaiting finish of 6 more threads\n",
      "INFO - 19:32:35: worker thread finished; awaiting finish of 5 more threads\n",
      "INFO - 19:32:35: worker thread finished; awaiting finish of 4 more threads\n",
      "INFO - 19:32:35: worker thread finished; awaiting finish of 3 more threads\n",
      "INFO - 19:32:35: worker thread finished; awaiting finish of 2 more threads\n",
      "INFO - 19:32:35: worker thread finished; awaiting finish of 1 more threads\n",
      "INFO - 19:32:35: worker thread finished; awaiting finish of 0 more threads\n",
      "INFO - 19:32:35: EPOCH - 10 : training on 1224663 raw words (415914 effective words) took 0.8s, 534891 effective words/s\n",
      "INFO - 19:32:36: worker thread finished; awaiting finish of 10 more threads\n",
      "INFO - 19:32:36: worker thread finished; awaiting finish of 9 more threads\n",
      "INFO - 19:32:36: worker thread finished; awaiting finish of 8 more threads\n",
      "INFO - 19:32:36: worker thread finished; awaiting finish of 7 more threads\n",
      "INFO - 19:32:36: worker thread finished; awaiting finish of 6 more threads\n",
      "INFO - 19:32:36: worker thread finished; awaiting finish of 5 more threads\n",
      "INFO - 19:32:36: worker thread finished; awaiting finish of 4 more threads\n",
      "INFO - 19:32:36: worker thread finished; awaiting finish of 3 more threads\n",
      "INFO - 19:32:36: worker thread finished; awaiting finish of 2 more threads\n",
      "INFO - 19:32:36: worker thread finished; awaiting finish of 1 more threads\n",
      "INFO - 19:32:36: worker thread finished; awaiting finish of 0 more threads\n",
      "INFO - 19:32:36: EPOCH - 11 : training on 1224663 raw words (414552 effective words) took 0.8s, 550466 effective words/s\n",
      "INFO - 19:32:37: worker thread finished; awaiting finish of 10 more threads\n",
      "INFO - 19:32:37: worker thread finished; awaiting finish of 9 more threads\n",
      "INFO - 19:32:37: worker thread finished; awaiting finish of 8 more threads\n",
      "INFO - 19:32:37: worker thread finished; awaiting finish of 7 more threads\n",
      "INFO - 19:32:37: worker thread finished; awaiting finish of 6 more threads\n",
      "INFO - 19:32:37: worker thread finished; awaiting finish of 5 more threads\n",
      "INFO - 19:32:37: worker thread finished; awaiting finish of 4 more threads\n",
      "INFO - 19:32:37: worker thread finished; awaiting finish of 3 more threads\n",
      "INFO - 19:32:37: worker thread finished; awaiting finish of 2 more threads\n",
      "INFO - 19:32:37: worker thread finished; awaiting finish of 1 more threads\n",
      "INFO - 19:32:37: worker thread finished; awaiting finish of 0 more threads\n",
      "INFO - 19:32:37: EPOCH - 12 : training on 1224663 raw words (415635 effective words) took 0.8s, 500819 effective words/s\n",
      "INFO - 19:32:37: worker thread finished; awaiting finish of 10 more threads\n",
      "INFO - 19:32:37: worker thread finished; awaiting finish of 9 more threads\n",
      "INFO - 19:32:37: worker thread finished; awaiting finish of 8 more threads\n",
      "INFO - 19:32:37: worker thread finished; awaiting finish of 7 more threads\n",
      "INFO - 19:32:37: worker thread finished; awaiting finish of 6 more threads\n",
      "INFO - 19:32:37: worker thread finished; awaiting finish of 5 more threads\n",
      "INFO - 19:32:38: worker thread finished; awaiting finish of 4 more threads\n",
      "INFO - 19:32:38: worker thread finished; awaiting finish of 3 more threads\n",
      "INFO - 19:32:38: worker thread finished; awaiting finish of 2 more threads\n",
      "INFO - 19:32:38: worker thread finished; awaiting finish of 1 more threads\n",
      "INFO - 19:32:38: worker thread finished; awaiting finish of 0 more threads\n",
      "INFO - 19:32:38: EPOCH - 13 : training on 1224663 raw words (416049 effective words) took 0.8s, 539760 effective words/s\n",
      "INFO - 19:32:38: worker thread finished; awaiting finish of 10 more threads\n",
      "INFO - 19:32:38: worker thread finished; awaiting finish of 9 more threads\n",
      "INFO - 19:32:38: worker thread finished; awaiting finish of 8 more threads\n",
      "INFO - 19:32:38: worker thread finished; awaiting finish of 7 more threads\n",
      "INFO - 19:32:38: worker thread finished; awaiting finish of 6 more threads\n",
      "INFO - 19:32:38: worker thread finished; awaiting finish of 5 more threads\n",
      "INFO - 19:32:38: worker thread finished; awaiting finish of 4 more threads\n",
      "INFO - 19:32:38: worker thread finished; awaiting finish of 3 more threads\n",
      "INFO - 19:32:38: worker thread finished; awaiting finish of 2 more threads\n",
      "INFO - 19:32:38: worker thread finished; awaiting finish of 1 more threads\n",
      "INFO - 19:32:38: worker thread finished; awaiting finish of 0 more threads\n",
      "INFO - 19:32:38: EPOCH - 14 : training on 1224663 raw words (416487 effective words) took 0.7s, 572229 effective words/s\n",
      "INFO - 19:32:39: worker thread finished; awaiting finish of 10 more threads\n",
      "INFO - 19:32:39: worker thread finished; awaiting finish of 9 more threads\n",
      "INFO - 19:32:39: worker thread finished; awaiting finish of 8 more threads\n",
      "INFO - 19:32:39: worker thread finished; awaiting finish of 7 more threads\n",
      "INFO - 19:32:39: worker thread finished; awaiting finish of 6 more threads\n",
      "INFO - 19:32:39: worker thread finished; awaiting finish of 5 more threads\n",
      "INFO - 19:32:39: worker thread finished; awaiting finish of 4 more threads\n",
      "INFO - 19:32:39: worker thread finished; awaiting finish of 3 more threads\n",
      "INFO - 19:32:39: worker thread finished; awaiting finish of 2 more threads\n",
      "INFO - 19:32:39: worker thread finished; awaiting finish of 1 more threads\n",
      "INFO - 19:32:39: worker thread finished; awaiting finish of 0 more threads\n",
      "INFO - 19:32:39: EPOCH - 15 : training on 1224663 raw words (416221 effective words) took 0.8s, 530844 effective words/s\n",
      "INFO - 19:32:40: worker thread finished; awaiting finish of 10 more threads\n",
      "INFO - 19:32:40: worker thread finished; awaiting finish of 9 more threads\n",
      "INFO - 19:32:40: worker thread finished; awaiting finish of 8 more threads\n",
      "INFO - 19:32:40: worker thread finished; awaiting finish of 7 more threads\n",
      "INFO - 19:32:40: worker thread finished; awaiting finish of 6 more threads\n",
      "INFO - 19:32:40: worker thread finished; awaiting finish of 5 more threads\n",
      "INFO - 19:32:40: worker thread finished; awaiting finish of 4 more threads\n",
      "INFO - 19:32:40: worker thread finished; awaiting finish of 3 more threads\n",
      "INFO - 19:32:40: worker thread finished; awaiting finish of 2 more threads\n",
      "INFO - 19:32:40: worker thread finished; awaiting finish of 1 more threads\n",
      "INFO - 19:32:40: worker thread finished; awaiting finish of 0 more threads\n",
      "INFO - 19:32:40: EPOCH - 16 : training on 1224663 raw words (416189 effective words) took 0.8s, 526556 effective words/s\n",
      "INFO - 19:32:41: worker thread finished; awaiting finish of 10 more threads\n",
      "INFO - 19:32:41: worker thread finished; awaiting finish of 9 more threads\n",
      "INFO - 19:32:41: worker thread finished; awaiting finish of 8 more threads\n",
      "INFO - 19:32:41: worker thread finished; awaiting finish of 7 more threads\n",
      "INFO - 19:32:41: worker thread finished; awaiting finish of 6 more threads\n",
      "INFO - 19:32:41: worker thread finished; awaiting finish of 5 more threads\n",
      "INFO - 19:32:41: worker thread finished; awaiting finish of 4 more threads\n",
      "INFO - 19:32:41: worker thread finished; awaiting finish of 3 more threads\n",
      "INFO - 19:32:41: worker thread finished; awaiting finish of 2 more threads\n",
      "INFO - 19:32:41: worker thread finished; awaiting finish of 1 more threads\n",
      "INFO - 19:32:41: worker thread finished; awaiting finish of 0 more threads\n",
      "INFO - 19:32:41: EPOCH - 17 : training on 1224663 raw words (415796 effective words) took 0.8s, 516440 effective words/s\n",
      "INFO - 19:32:41: worker thread finished; awaiting finish of 10 more threads\n",
      "INFO - 19:32:41: worker thread finished; awaiting finish of 9 more threads\n",
      "INFO - 19:32:41: worker thread finished; awaiting finish of 8 more threads\n"
     ]
    },
    {
     "name": "stderr",
     "output_type": "stream",
     "text": [
      "INFO - 19:32:41: worker thread finished; awaiting finish of 7 more threads\n",
      "INFO - 19:32:41: worker thread finished; awaiting finish of 6 more threads\n",
      "INFO - 19:32:41: worker thread finished; awaiting finish of 5 more threads\n",
      "INFO - 19:32:41: worker thread finished; awaiting finish of 4 more threads\n",
      "INFO - 19:32:41: worker thread finished; awaiting finish of 3 more threads\n",
      "INFO - 19:32:41: worker thread finished; awaiting finish of 2 more threads\n",
      "INFO - 19:32:41: worker thread finished; awaiting finish of 1 more threads\n",
      "INFO - 19:32:41: worker thread finished; awaiting finish of 0 more threads\n",
      "INFO - 19:32:41: EPOCH - 18 : training on 1224663 raw words (415369 effective words) took 0.8s, 544627 effective words/s\n",
      "INFO - 19:32:42: worker thread finished; awaiting finish of 10 more threads\n",
      "INFO - 19:32:42: worker thread finished; awaiting finish of 9 more threads\n",
      "INFO - 19:32:42: worker thread finished; awaiting finish of 8 more threads\n",
      "INFO - 19:32:42: worker thread finished; awaiting finish of 7 more threads\n",
      "INFO - 19:32:42: worker thread finished; awaiting finish of 6 more threads\n",
      "INFO - 19:32:42: worker thread finished; awaiting finish of 5 more threads\n",
      "INFO - 19:32:42: worker thread finished; awaiting finish of 4 more threads\n",
      "INFO - 19:32:42: worker thread finished; awaiting finish of 3 more threads\n",
      "INFO - 19:32:42: worker thread finished; awaiting finish of 2 more threads\n",
      "INFO - 19:32:42: worker thread finished; awaiting finish of 1 more threads\n",
      "INFO - 19:32:42: worker thread finished; awaiting finish of 0 more threads\n",
      "INFO - 19:32:42: EPOCH - 19 : training on 1224663 raw words (415372 effective words) took 0.7s, 562709 effective words/s\n",
      "INFO - 19:32:43: worker thread finished; awaiting finish of 10 more threads\n",
      "INFO - 19:32:43: worker thread finished; awaiting finish of 9 more threads\n",
      "INFO - 19:32:43: worker thread finished; awaiting finish of 8 more threads\n",
      "INFO - 19:32:43: worker thread finished; awaiting finish of 7 more threads\n",
      "INFO - 19:32:43: worker thread finished; awaiting finish of 6 more threads\n",
      "INFO - 19:32:43: worker thread finished; awaiting finish of 5 more threads\n",
      "INFO - 19:32:43: worker thread finished; awaiting finish of 4 more threads\n",
      "INFO - 19:32:43: worker thread finished; awaiting finish of 3 more threads\n",
      "INFO - 19:32:43: worker thread finished; awaiting finish of 2 more threads\n",
      "INFO - 19:32:43: worker thread finished; awaiting finish of 1 more threads\n",
      "INFO - 19:32:43: worker thread finished; awaiting finish of 0 more threads\n",
      "INFO - 19:32:43: EPOCH - 20 : training on 1224663 raw words (415896 effective words) took 0.7s, 557961 effective words/s\n",
      "INFO - 19:32:44: worker thread finished; awaiting finish of 10 more threads\n",
      "INFO - 19:32:44: worker thread finished; awaiting finish of 9 more threads\n",
      "INFO - 19:32:44: worker thread finished; awaiting finish of 8 more threads\n",
      "INFO - 19:32:44: worker thread finished; awaiting finish of 7 more threads\n",
      "INFO - 19:32:44: worker thread finished; awaiting finish of 6 more threads\n",
      "INFO - 19:32:44: worker thread finished; awaiting finish of 5 more threads\n",
      "INFO - 19:32:44: worker thread finished; awaiting finish of 4 more threads\n",
      "INFO - 19:32:44: worker thread finished; awaiting finish of 3 more threads\n",
      "INFO - 19:32:44: worker thread finished; awaiting finish of 2 more threads\n",
      "INFO - 19:32:44: worker thread finished; awaiting finish of 1 more threads\n",
      "INFO - 19:32:44: worker thread finished; awaiting finish of 0 more threads\n",
      "INFO - 19:32:44: EPOCH - 21 : training on 1224663 raw words (415747 effective words) took 0.7s, 568128 effective words/s\n",
      "INFO - 19:32:44: worker thread finished; awaiting finish of 10 more threads\n",
      "INFO - 19:32:44: worker thread finished; awaiting finish of 9 more threads\n",
      "INFO - 19:32:44: worker thread finished; awaiting finish of 8 more threads\n",
      "INFO - 19:32:44: worker thread finished; awaiting finish of 7 more threads\n",
      "INFO - 19:32:44: worker thread finished; awaiting finish of 6 more threads\n",
      "INFO - 19:32:44: worker thread finished; awaiting finish of 5 more threads\n",
      "INFO - 19:32:44: worker thread finished; awaiting finish of 4 more threads\n",
      "INFO - 19:32:44: worker thread finished; awaiting finish of 3 more threads\n",
      "INFO - 19:32:44: worker thread finished; awaiting finish of 2 more threads\n",
      "INFO - 19:32:44: worker thread finished; awaiting finish of 1 more threads\n",
      "INFO - 19:32:44: worker thread finished; awaiting finish of 0 more threads\n",
      "INFO - 19:32:44: EPOCH - 22 : training on 1224663 raw words (415790 effective words) took 0.8s, 553650 effective words/s\n",
      "INFO - 19:32:45: worker thread finished; awaiting finish of 10 more threads\n",
      "INFO - 19:32:45: worker thread finished; awaiting finish of 9 more threads\n",
      "INFO - 19:32:45: worker thread finished; awaiting finish of 8 more threads\n",
      "INFO - 19:32:45: worker thread finished; awaiting finish of 7 more threads\n",
      "INFO - 19:32:45: worker thread finished; awaiting finish of 6 more threads\n",
      "INFO - 19:32:45: worker thread finished; awaiting finish of 5 more threads\n",
      "INFO - 19:32:45: worker thread finished; awaiting finish of 4 more threads\n",
      "INFO - 19:32:45: worker thread finished; awaiting finish of 3 more threads\n",
      "INFO - 19:32:45: worker thread finished; awaiting finish of 2 more threads\n",
      "INFO - 19:32:45: worker thread finished; awaiting finish of 1 more threads\n",
      "INFO - 19:32:45: worker thread finished; awaiting finish of 0 more threads\n",
      "INFO - 19:32:45: EPOCH - 23 : training on 1224663 raw words (416538 effective words) took 0.8s, 554418 effective words/s\n",
      "INFO - 19:32:46: worker thread finished; awaiting finish of 10 more threads\n",
      "INFO - 19:32:46: worker thread finished; awaiting finish of 9 more threads\n",
      "INFO - 19:32:46: worker thread finished; awaiting finish of 8 more threads\n",
      "INFO - 19:32:46: worker thread finished; awaiting finish of 7 more threads\n",
      "INFO - 19:32:46: worker thread finished; awaiting finish of 6 more threads\n",
      "INFO - 19:32:46: worker thread finished; awaiting finish of 5 more threads\n",
      "INFO - 19:32:46: worker thread finished; awaiting finish of 4 more threads\n",
      "INFO - 19:32:46: worker thread finished; awaiting finish of 3 more threads\n",
      "INFO - 19:32:46: worker thread finished; awaiting finish of 2 more threads\n",
      "INFO - 19:32:46: worker thread finished; awaiting finish of 1 more threads\n",
      "INFO - 19:32:46: worker thread finished; awaiting finish of 0 more threads\n",
      "INFO - 19:32:46: EPOCH - 24 : training on 1224663 raw words (415489 effective words) took 0.7s, 555952 effective words/s\n",
      "INFO - 19:32:47: worker thread finished; awaiting finish of 10 more threads\n",
      "INFO - 19:32:47: worker thread finished; awaiting finish of 9 more threads\n",
      "INFO - 19:32:47: worker thread finished; awaiting finish of 8 more threads\n",
      "INFO - 19:32:47: worker thread finished; awaiting finish of 7 more threads\n",
      "INFO - 19:32:47: worker thread finished; awaiting finish of 6 more threads\n",
      "INFO - 19:32:47: worker thread finished; awaiting finish of 5 more threads\n",
      "INFO - 19:32:47: worker thread finished; awaiting finish of 4 more threads\n",
      "INFO - 19:32:47: worker thread finished; awaiting finish of 3 more threads\n",
      "INFO - 19:32:47: worker thread finished; awaiting finish of 2 more threads\n",
      "INFO - 19:32:47: worker thread finished; awaiting finish of 1 more threads\n",
      "INFO - 19:32:47: worker thread finished; awaiting finish of 0 more threads\n",
      "INFO - 19:32:47: EPOCH - 25 : training on 1224663 raw words (415550 effective words) took 0.8s, 537579 effective words/s\n",
      "INFO - 19:32:47: worker thread finished; awaiting finish of 10 more threads\n",
      "INFO - 19:32:47: worker thread finished; awaiting finish of 9 more threads\n",
      "INFO - 19:32:47: worker thread finished; awaiting finish of 8 more threads\n",
      "INFO - 19:32:47: worker thread finished; awaiting finish of 7 more threads\n",
      "INFO - 19:32:47: worker thread finished; awaiting finish of 6 more threads\n",
      "INFO - 19:32:48: worker thread finished; awaiting finish of 5 more threads\n",
      "INFO - 19:32:48: worker thread finished; awaiting finish of 4 more threads\n",
      "INFO - 19:32:48: worker thread finished; awaiting finish of 3 more threads\n",
      "INFO - 19:32:48: worker thread finished; awaiting finish of 2 more threads\n",
      "INFO - 19:32:48: worker thread finished; awaiting finish of 1 more threads\n",
      "INFO - 19:32:48: worker thread finished; awaiting finish of 0 more threads\n",
      "INFO - 19:32:48: EPOCH - 26 : training on 1224663 raw words (415513 effective words) took 0.7s, 565284 effective words/s\n"
     ]
    },
    {
     "name": "stderr",
     "output_type": "stream",
     "text": [
      "INFO - 19:32:48: worker thread finished; awaiting finish of 10 more threads\n",
      "INFO - 19:32:48: worker thread finished; awaiting finish of 9 more threads\n",
      "INFO - 19:32:48: worker thread finished; awaiting finish of 8 more threads\n",
      "INFO - 19:32:48: worker thread finished; awaiting finish of 7 more threads\n",
      "INFO - 19:32:48: worker thread finished; awaiting finish of 6 more threads\n",
      "INFO - 19:32:48: worker thread finished; awaiting finish of 5 more threads\n",
      "INFO - 19:32:48: worker thread finished; awaiting finish of 4 more threads\n",
      "INFO - 19:32:48: worker thread finished; awaiting finish of 3 more threads\n",
      "INFO - 19:32:48: worker thread finished; awaiting finish of 2 more threads\n",
      "INFO - 19:32:48: worker thread finished; awaiting finish of 1 more threads\n",
      "INFO - 19:32:48: worker thread finished; awaiting finish of 0 more threads\n",
      "INFO - 19:32:48: EPOCH - 27 : training on 1224663 raw words (416248 effective words) took 0.7s, 556836 effective words/s\n",
      "INFO - 19:32:49: worker thread finished; awaiting finish of 10 more threads\n",
      "INFO - 19:32:49: worker thread finished; awaiting finish of 9 more threads\n",
      "INFO - 19:32:49: worker thread finished; awaiting finish of 8 more threads\n",
      "INFO - 19:32:49: worker thread finished; awaiting finish of 7 more threads\n",
      "INFO - 19:32:49: worker thread finished; awaiting finish of 6 more threads\n",
      "INFO - 19:32:49: worker thread finished; awaiting finish of 5 more threads\n",
      "INFO - 19:32:49: worker thread finished; awaiting finish of 4 more threads\n",
      "INFO - 19:32:49: worker thread finished; awaiting finish of 3 more threads\n",
      "INFO - 19:32:49: worker thread finished; awaiting finish of 2 more threads\n",
      "INFO - 19:32:49: worker thread finished; awaiting finish of 1 more threads\n",
      "INFO - 19:32:49: worker thread finished; awaiting finish of 0 more threads\n",
      "INFO - 19:32:49: EPOCH - 28 : training on 1224663 raw words (416040 effective words) took 0.7s, 558602 effective words/s\n",
      "INFO - 19:32:50: worker thread finished; awaiting finish of 10 more threads\n",
      "INFO - 19:32:50: worker thread finished; awaiting finish of 9 more threads\n",
      "INFO - 19:32:50: worker thread finished; awaiting finish of 8 more threads\n",
      "INFO - 19:32:50: worker thread finished; awaiting finish of 7 more threads\n",
      "INFO - 19:32:50: worker thread finished; awaiting finish of 6 more threads\n",
      "INFO - 19:32:50: worker thread finished; awaiting finish of 5 more threads\n",
      "INFO - 19:32:50: worker thread finished; awaiting finish of 4 more threads\n",
      "INFO - 19:32:50: worker thread finished; awaiting finish of 3 more threads\n",
      "INFO - 19:32:50: worker thread finished; awaiting finish of 2 more threads\n",
      "INFO - 19:32:50: worker thread finished; awaiting finish of 1 more threads\n",
      "INFO - 19:32:50: worker thread finished; awaiting finish of 0 more threads\n",
      "INFO - 19:32:50: EPOCH - 29 : training on 1224663 raw words (415220 effective words) took 0.8s, 542794 effective words/s\n",
      "INFO - 19:32:51: worker thread finished; awaiting finish of 10 more threads\n",
      "INFO - 19:32:51: worker thread finished; awaiting finish of 9 more threads\n",
      "INFO - 19:32:51: worker thread finished; awaiting finish of 8 more threads\n",
      "INFO - 19:32:51: worker thread finished; awaiting finish of 7 more threads\n",
      "INFO - 19:32:51: worker thread finished; awaiting finish of 6 more threads\n",
      "INFO - 19:32:51: worker thread finished; awaiting finish of 5 more threads\n",
      "INFO - 19:32:51: worker thread finished; awaiting finish of 4 more threads\n",
      "INFO - 19:32:51: worker thread finished; awaiting finish of 3 more threads\n",
      "INFO - 19:32:51: worker thread finished; awaiting finish of 2 more threads\n",
      "INFO - 19:32:51: worker thread finished; awaiting finish of 1 more threads\n",
      "INFO - 19:32:51: worker thread finished; awaiting finish of 0 more threads\n",
      "INFO - 19:32:51: EPOCH - 30 : training on 1224663 raw words (415815 effective words) took 0.8s, 541652 effective words/s\n",
      "INFO - 19:32:51: training on a 36739890 raw words (12472360 effective words) took 22.8s, 546679 effective words/s\n"
     ]
    },
    {
     "name": "stdout",
     "output_type": "stream",
     "text": [
      "Time to train the model: 0.38 mins\n"
     ]
    }
   ],
   "source": [
    "t = time()\n",
    "\n",
    "w2v_model.train(new, total_examples=w2v_model.corpus_count, epochs=30, report_delay=1)\n",
    "\n",
    "print('Time to train the model: {} mins'.format(round((time() - t) / 60, 2)))"
   ]
  },
  {
   "cell_type": "code",
   "execution_count": 324,
   "metadata": {},
   "outputs": [
    {
     "name": "stderr",
     "output_type": "stream",
     "text": [
      "INFO - 19:32:51: precomputing L2-norms of word weight vectors\n"
     ]
    }
   ],
   "source": [
    "w2v_model.init_sims(replace=True)"
   ]
  },
  {
   "cell_type": "markdown",
   "metadata": {},
   "source": [
    "### Q3"
   ]
  },
  {
   "cell_type": "code",
   "execution_count": 333,
   "metadata": {},
   "outputs": [
    {
     "data": {
      "text/plain": [
       "[('uncle_benjen', 0.1644604653120041),\n",
       " ('shadow_tower', 0.16332247853279114),\n",
       " ('anyone', 0.1530953049659729),\n",
       " ('loras_tyrell', 0.15228307247161865),\n",
       " ('direction', 0.14660164713859558),\n",
       " ('anything', 0.14459127187728882),\n",
       " ('detail', 0.1424148976802826),\n",
       " ('freedman', 0.1421726793050766),\n",
       " ('traveler', 0.13949556648731232),\n",
       " ('state', 0.13864624500274658),\n",
       " ('clearly', 0.1379716992378235),\n",
       " ('jaime_lannister', 0.1373881697654724),\n",
       " ('seem', 0.13717390596866608),\n",
       " ('crossroad', 0.13395540416240692),\n",
       " ('pit', 0.13387227058410645),\n",
       " ('common', 0.13253392279148102),\n",
       " ('village', 0.12748058140277863),\n",
       " ('have', 0.1262872815132141),\n",
       " ('year_old', 0.12593308091163635),\n",
       " ('uneasy', 0.12333676964044571)]"
      ]
     },
     "execution_count": 333,
     "metadata": {},
     "output_type": "execute_result"
    }
   ],
   "source": [
    "w2v_model.wv.most_similar(positive=[\"casterly_rock\"],topn=20)"
   ]
  },
  {
   "cell_type": "code",
   "execution_count": 334,
   "metadata": {},
   "outputs": [
    {
     "data": {
      "text/plain": [
       "0.49967316"
      ]
     },
     "execution_count": 334,
     "metadata": {},
     "output_type": "execute_result"
    }
   ],
   "source": [
    "w2v_model.wv.similarity(\"stark\", 'winterfell')"
   ]
  },
  {
   "cell_type": "code",
   "execution_count": 335,
   "metadata": {},
   "outputs": [
    {
     "data": {
      "text/plain": [
       "[('tyrion', 0.5135495662689209),\n",
       " ('ne', 0.44605743885040283),\n",
       " ('sansa', 0.4226187467575073)]"
      ]
     },
     "execution_count": 335,
     "metadata": {},
     "output_type": "execute_result"
    }
   ],
   "source": [
    "w2v_model.wv.most_similar(positive=[\"catelyn\", \"ned\"], negative=[\"winterfell\"], topn=3)"
   ]
  },
  {
   "cell_type": "code",
   "execution_count": 328,
   "metadata": {},
   "outputs": [],
   "source": [
    "def tsnescatterplot(model, word, list_names):\n",
    "    \"\"\" Plot in seaborn the results from the t-SNE dimensionality reduction algorithm of the vectors of a query word,\n",
    "    its list of most similar words, and a list of words.\n",
    "    \"\"\"\n",
    "    arrays = np.empty((0, 300), dtype='f')\n",
    "    word_labels = [word]\n",
    "    color_list  = ['red']\n",
    "\n",
    "    # adds the vector of the query word\n",
    "    arrays = np.append(arrays, model.wv.__getitem__([word]), axis=0)\n",
    "    \n",
    "    # gets list of most similar words\n",
    "    close_words = model.wv.most_similar([word])\n",
    "    \n",
    "    # adds the vector for each of the closest words to the array\n",
    "    for wrd_score in close_words:\n",
    "        wrd_vector = model.wv.__getitem__([wrd_score[0]])\n",
    "        word_labels.append(wrd_score[0])\n",
    "        color_list.append('blue')\n",
    "        arrays = np.append(arrays, wrd_vector, axis=0)\n",
    "    \n",
    "    # adds the vector for each of the words from list_names to the array\n",
    "    for wrd in list_names:\n",
    "        wrd_vector = model.wv.__getitem__([wrd])\n",
    "        word_labels.append(wrd)\n",
    "        color_list.append('green')\n",
    "        arrays = np.append(arrays, wrd_vector, axis=0)\n",
    "        \n",
    "        \n",
    "    # Reduces the dimensionality from 300 to 50 dimensions with PCA\n",
    "    reduc = PCA(n_components=15).fit_transform(arrays)\n",
    "    \n",
    "    # Finds t-SNE coordinates for 2 dimensions\n",
    "    np.set_printoptions(suppress=True)\n",
    "    \n",
    "    Y = TSNE(n_components=2, random_state=0, perplexity=15).fit_transform(reduc)\n",
    "    \n",
    "    # Sets everything up to plot\n",
    "    df = pd.DataFrame({'x': [x for x in Y[:, 0]],\n",
    "                       'y': [y for y in Y[:, 1]],\n",
    "                       'words': word_labels,\n",
    "                       'color': color_list})\n",
    "    \n",
    "    fig, _ = plt.subplots()\n",
    "    fig.set_size_inches(9, 9)\n",
    "    \n",
    "    # Basic plot\n",
    "    p1 = sns.regplot(data=df,\n",
    "                     x=\"x\",\n",
    "                     y=\"y\",\n",
    "                     fit_reg=False,\n",
    "                     marker=\"o\",\n",
    "                     scatter_kws={'s': 40,\n",
    "                                  'facecolors': df['color']\n",
    "                                 }\n",
    "                    )\n",
    "    \n",
    "    # Adds annotations one by one with a loop\n",
    "    for line in range(0, df.shape[0]):\n",
    "         p1.text(df[\"x\"][line],\n",
    "                 df['y'][line],\n",
    "                 '  ' + df[\"words\"][line].title(),\n",
    "                 horizontalalignment='left',\n",
    "                 verticalalignment='bottom', size='medium',\n",
    "                 color=df['color'][line],\n",
    "                 weight='normal'\n",
    "                ).set_size(15)\n",
    "\n",
    "    \n",
    "    plt.xlim(Y[:, 0].min()-50, Y[:, 0].max()+50)\n",
    "    plt.ylim(Y[:, 1].min()-50, Y[:, 1].max()+50)\n",
    "            \n",
    "    plt.title('t-SNE visualization for {}'.format(word.title()))"
   ]
  },
  {
   "cell_type": "code",
   "execution_count": 329,
   "metadata": {},
   "outputs": [
    {
     "data": {
      "image/png": "[encoded data removed]",
      "text/plain": [
       "<Figure size 648x648 with 1 Axes>"
      ]
     },
     "metadata": {},
     "output_type": "display_data"
    }
   ],
   "source": [
    "#plot of stark vs some random words\n",
    "\n",
    "tsnescatterplot(w2v_model, 'stark', ['mushroom', 'east', 'herb', 'fire'])"
   ]
  },
  {
   "cell_type": "code",
   "execution_count": 330,
   "metadata": {},
   "outputs": [
    {
     "data": {
      "image/png": "[encoded data removed]",
      "text/plain": [
       "<Figure size 648x648 with 1 Axes>"
      ]
     },
     "metadata": {},
     "output_type": "display_data"
    }
   ],
   "source": [
    "#plot of similar embeddings around stark and dissimilar embeddings for stark \n",
    "tsnescatterplot(w2v_model, 'stark', [i[0] for i in w2v_model.wv.most_similar(negative=[\"stark\"])])"
   ]
  },
  {
   "cell_type": "markdown",
   "metadata": {},
   "source": [
    "### Q4 - Different approaches for sentence embeddings "
   ]
  },
  {
   "cell_type": "markdown",
   "metadata": {},
   "source": [
    "### Mean of word embedding"
   ]
  },
  {
   "cell_type": "code",
   "execution_count": 336,
   "metadata": {},
   "outputs": [],
   "source": [
    "\n",
    "class MeanEmbeddingVectorizer(object):\n",
    "\n",
    "    def __init__(self, word_model):\n",
    "        self.word_model = word_model\n",
    "        self.vector_size = word_model.wv.vector_size\n",
    "\n",
    "    def fit(self):  # comply with scikit-learn transformer requirement\n",
    "        return self\n",
    "\n",
    "    def transform(self, docs):  # comply with scikit-learn transformer requirement\n",
    "        doc_word_vector = self.word_average_list(docs)\n",
    "        return doc_word_vector\n",
    "\n",
    "    def word_average(self, sent):\n",
    "        \"\"\"\n",
    "        Compute average word vector for a single doc/sentence.\n",
    "        :param sent: list of sentence tokens\n",
    "        :return:\n",
    "            mean: float of averaging word vectors\n",
    "        \"\"\"\n",
    "        mean = []\n",
    "        for word in sent:\n",
    "            if word in self.word_model.wv.vocab:\n",
    "                mean.append(self.word_model.wv.get_vector(word))\n",
    "\n",
    "        if not mean:  # empty words\n",
    "            # If a text is empty, return a vector of zeros.\n",
    "            logging.warning(\"cannot compute average owing to no vector for {}\".format(sent))\n",
    "            return np.zeros(self.vector_size)\n",
    "        else:\n",
    "            mean = np.array(mean).mean(axis=0)\n",
    "            return mean\n",
    "\n",
    "\n",
    "    def word_average_list(self, docs):\n",
    "        \"\"\"\n",
    "        Compute average word vector for multiple docs, where docs had been tokenized.\n",
    "        :param docs: list of sentence in list of separated tokens\n",
    "        :return:\n",
    "            array of average word vector in shape (len(docs),)\n",
    "        \"\"\"\n",
    "        return np.vstack([self.word_average(sent) for sent in docs])"
   ]
  },
  {
   "cell_type": "code",
   "execution_count": 337,
   "metadata": {
    "scrolled": true
   },
   "outputs": [],
   "source": [
    "mean_vec_tr = MeanEmbeddingVectorizer(w2v_model)\n",
    "doc_vec = mean_vec_tr.transform([' '.join(i) for i in new[54:56]])"
   ]
  },
  {
   "cell_type": "code",
   "execution_count": 338,
   "metadata": {
    "scrolled": true
   },
   "outputs": [
    {
     "data": {
      "text/plain": [
       "(2, 300)"
      ]
     },
     "execution_count": 338,
     "metadata": {},
     "output_type": "execute_result"
    }
   ],
   "source": [
    "doc_vec.shape"
   ]
  },
  {
   "cell_type": "markdown",
   "metadata": {},
   "source": [
    "### TFIDF weighted mean embedding"
   ]
  },
  {
   "cell_type": "code",
   "execution_count": 339,
   "metadata": {},
   "outputs": [],
   "source": [
    "class TfidfEmbeddingVectorizer(object):\n",
    "\n",
    "    def __init__(self, word_model):\n",
    "\n",
    "        self.word_model = word_model\n",
    "        self.word_idf_weight = None\n",
    "        self.vector_size = word_model.wv.vector_size\n",
    "\n",
    "    def fit(self, docs):  # comply with scikit-learn transformer requirement\n",
    "        \"\"\"\n",
    "        Fit in a list of docs, which had been preprocessed and tokenized,\n",
    "        such as word bi-grammed, stop-words removed, lemmatized, part of speech filtered.\n",
    "        Then build up a tfidf model to compute each word's idf as its weight.\n",
    "        Noted that tf weight is already involved when constructing average word vectors, and thus omitted.\n",
    "        :param\n",
    "            pre_processed_docs: list of docs, which are tokenized\n",
    "        :return:\n",
    "            self\n",
    "        \"\"\"\n",
    "\n",
    "        tfidf = TfidfVectorizer()\n",
    "        tfidf.fit(docs)  # must be list of text string\n",
    "\n",
    "        # if a word was never seen - it must be at least as infrequent\n",
    "        # as any of the known words - so the default idf is the max of\n",
    "        # known idf's\n",
    "        max_idf = max(tfidf.idf_)  # used as default value for defaultdict\n",
    "        \n",
    "        self.word_idf_weight = defaultdict(lambda: max_idf,\n",
    "                           [(word, tfidf.idf_[i]) for word, i in tfidf.vocabulary_.items()])\n",
    "        return self\n",
    "\n",
    "\n",
    "    def transform(self, docs):  # comply with scikit-learn transformer requirement\n",
    "        doc_word_vector = self.word_average_list(docs)\n",
    "        return doc_word_vector\n",
    "\n",
    "\n",
    "    def word_average(self, sent):\n",
    "        \"\"\"\n",
    "        Compute average word vector for a single doc/sentence.\n",
    "        :param sent: list of sentence tokens\n",
    "        :return:\n",
    "            mean: float of averaging word vectors\n",
    "        \"\"\"\n",
    "\n",
    "        mean = []\n",
    "        for word in sent:\n",
    "            if word in self.word_model.wv.vocab:\n",
    "                mean.append(self.word_model.wv.get_vector(word) * self.word_idf_weight[word])  # idf weighted\n",
    "\n",
    "        if not mean:  # empty words\n",
    "            # If a text is empty, return a vector of zeros.\n",
    "            logging.warning(\"cannot compute average owing to no vector for {}\".format(sent))\n",
    "            return np.zeros(self.vector_size)\n",
    "        else:\n",
    "            mean = np.array(mean).mean(axis=0)\n",
    "            return mean\n",
    "\n",
    "\n",
    "    def word_average_list(self, docs):\n",
    "        \"\"\"\n",
    "        Compute average word vector for multiple docs, where docs had been tokenized.\n",
    "        :param docs: list of sentence in list of separated tokens\n",
    "        :return:\n",
    "            array of average word vector in shape (len(docs),)\n",
    "        \"\"\"\n",
    "        return np.vstack([self.word_average(sent) for sent in docs])"
   ]
  },
  {
   "cell_type": "code",
   "execution_count": 341,
   "metadata": {
    "scrolled": true
   },
   "outputs": [
    {
     "data": {
      "text/plain": [
       "(495, 300)"
      ]
     },
     "execution_count": 341,
     "metadata": {},
     "output_type": "execute_result"
    }
   ],
   "source": [
    "mean_vec_tr = TfidfEmbeddingVectorizer(w2v_model)\n",
    "mean_vec_tr.fit([' '.join(i) for i in new[5:500]])\n",
    "doc_vec = mean_vec_tr.transform([' '.join(i) for i in new[5:500]])\n",
    "\n",
    "doc_vec.shape"
   ]
  },
  {
   "cell_type": "markdown",
   "metadata": {},
   "source": [
    "### SIF embedding"
   ]
  },
  {
   "cell_type": "code",
   "execution_count": 342,
   "metadata": {
    "scrolled": true
   },
   "outputs": [],
   "source": [
    "def map_word_frequency(document):\n",
    "    return Counter(itertools.chain(*document))\n",
    "    \n",
    "def get_sif_feature_vectors(sentences, word_emb_model):\n",
    "    \n",
    "    sent=[]\n",
    "    tokens=[]\n",
    "    for sentence in sentences:\n",
    "        sent.append([token for token in sentence.split() if token in word_emb_model.wv.vocab])\n",
    "        tokens.extend([token for token in sentence.split() if token in word_emb_model.wv.vocab])\n",
    "        \n",
    "    word_counts = map_word_frequency(tokens)\n",
    "    embedding_size = 300 # size of vectore in word embeddings\n",
    "    a = 0.001\n",
    "    sentence_set=[]\n",
    "    for sentence in sent:\n",
    "        vs = np.zeros(embedding_size)\n",
    "        sentence_length = len(sentence)\n",
    "        for word in sentence:\n",
    "            a_value = a / (a + word_counts[word]) # smooth inverse frequency, SIF\n",
    "            vs = np.add(vs, np.multiply(a_value, word_emb_model.wv[word])) # vs += sif * word_vector\n",
    "        vs = np.divide(vs, sentence_length) # weighted average\n",
    "        sentence_set.append(vs)\n",
    "    return np.vstack(sentence_set)"
   ]
  },
  {
   "cell_type": "code",
   "execution_count": 343,
   "metadata": {},
   "outputs": [
    {
     "data": {
      "text/plain": [
       "(495, 300)"
      ]
     },
     "execution_count": 343,
     "metadata": {},
     "output_type": "execute_result"
    }
   ],
   "source": [
    "get_sif_feature_vectors([' '.join(i) for i in new[5:500]],w2v_model).shape"
   ]
  },
  {
   "cell_type": "code",
   "execution_count": null,
   "metadata": {},
   "outputs": [],
   "source": []
  },
  {
   "cell_type": "code",
   "execution_count": null,
   "metadata": {},
   "outputs": [],
   "source": []
  }
 ],
 "metadata": {
  "kernelspec": {
   "display_name": "Python 3",
   "language": "python",
   "name": "python3"
  },
  "language_info": {
   "codemirror_mode": {
    "name": "ipython",
    "version": 3
   },
   "file_extension": ".py",
   "mimetype": "text/x-python",
   "name": "python",
   "nbconvert_exporter": "python",
   "pygments_lexer": "ipython3",
   "version": "3.6.3"
  }
 },
 "nbformat": 4,
 "nbformat_minor": 2
}
