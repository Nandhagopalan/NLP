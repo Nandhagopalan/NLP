{
 "cells": [
  {
   "cell_type": "code",
   "execution_count": 2,
   "metadata": {
    "colab": {},
    "colab_type": "code",
    "executionInfo": {
     "elapsed": 3563,
     "status": "ok",
     "timestamp": 1600619723840,
     "user": {
      "displayName": "Nandhagopalan Elangovan",
      "photoUrl": "",
      "userId": "12044995158842503057"
     },
     "user_tz": -330
    },
    "id": "NF47Gnj-MLiF"
   },
   "outputs": [],
   "source": [
    "import os\n",
    "import pandas as pd\n",
    "import numpy as np\n",
    "import re\n",
    "\n",
    "from keras.preprocessing.text import Tokenizer\n",
    "from keras.preprocessing.sequence import pad_sequences\n",
    "import torch\n",
    "import torch.nn as nn\n",
    "import torch.optim as optim\n",
    "import torch.nn.functional as F\n",
    "from torch.utils.data import Dataset, DataLoader\n",
    "from torch.nn.utils.rnn import pack_padded_sequence, pad_packed_sequence\n",
    "from torch.autograd import Variable\n",
    "import torch.utils.data\n",
    "import codecs\n",
    "import tensorflow_hub as hub\n",
    "import keras.backend as K\n",
    "import gensim\n",
    "import gc\n",
    "import random\n",
    "from torch.optim import lr_scheduler\n",
    "import time\n",
    "from tqdm import tqdm\n",
    "from sklearn.preprocessing import LabelEncoder\n",
    "from keras.layers import Dense, Embedding, LSTM, SpatialDropout1D\n",
    "from keras.models import Sequential\n",
    "from keras.callbacks import EarlyStopping\n",
    "\n",
    "path='drive/My Drive/Advanced_NLP/Week 4 - RNNs  and LSTMs/'"
   ]
  },
  {
   "cell_type": "code",
   "execution_count": 72,
   "metadata": {
    "colab": {},
    "colab_type": "code",
    "executionInfo": {
     "elapsed": 1153,
     "status": "ok",
     "timestamp": 1600620982280,
     "user": {
      "displayName": "Nandhagopalan Elangovan",
      "photoUrl": "",
      "userId": "12044995158842503057"
     },
     "user_tz": -330
    },
    "id": "c1lRggGNM1Ik"
   },
   "outputs": [],
   "source": [
    "train_data=pd.read_csv(path+'train.tsv',sep='\\t',header=None)\n",
    "valid_data=pd.read_csv(path+'valid.tsv',sep='\\t',header=None)\n",
    "test_data=pd.read_csv(path+'test.tsv',sep='\\t',header=None)\n",
    "\n",
    "columns=['id','label','statement','subject','speaker','speaker_job','state','party','barelytrue_counts','false_counts','halftrue_counts','mostlytrue_counts',\n",
    "              'pantsonfire_counts','statement_loc']\n",
    "\n",
    "train_data=pd.concat([train_data,valid_data],axis=0).reset_index(drop=True)\n",
    "\n",
    "train_data.columns=columns\n",
    "test_data.columns=columns"
   ]
  },
  {
   "cell_type": "markdown",
   "metadata": {
    "colab_type": "text",
    "id": "4FuhkBV4mVzg"
   },
   "source": [
    "### Data exploration"
   ]
  },
  {
   "cell_type": "code",
   "execution_count": 73,
   "metadata": {
    "colab": {
     "base_uri": "https://localhost:8080/",
     "height": 383
    },
    "colab_type": "code",
    "executionInfo": {
     "elapsed": 1141,
     "status": "ok",
     "timestamp": 1600620982281,
     "user": {
      "displayName": "Nandhagopalan Elangovan",
      "photoUrl": "",
      "userId": "12044995158842503057"
     },
     "user_tz": -330
    },
    "id": "wKKajjHeaCYC",
    "outputId": "85bfa7ea-efd9-49c0-b6a8-e5361f8fe393"
   },
   "outputs": [
    {
     "data": {
      "text/html": [
       "<div>\n",
       "<style scoped>\n",
       "    .dataframe tbody tr th:only-of-type {\n",
       "        vertical-align: middle;\n",
       "    }\n",
       "\n",
       "    .dataframe tbody tr th {\n",
       "        vertical-align: top;\n",
       "    }\n",
       "\n",
       "    .dataframe thead th {\n",
       "        text-align: right;\n",
       "    }\n",
       "</style>\n",
       "<table border=\"1\" class=\"dataframe\">\n",
       "  <thead>\n",
       "    <tr style=\"text-align: right;\">\n",
       "      <th></th>\n",
       "      <th>id</th>\n",
       "      <th>label</th>\n",
       "      <th>statement</th>\n",
       "      <th>subject</th>\n",
       "      <th>speaker</th>\n",
       "      <th>speaker_job</th>\n",
       "      <th>state</th>\n",
       "      <th>party</th>\n",
       "      <th>barelytrue_counts</th>\n",
       "      <th>false_counts</th>\n",
       "      <th>halftrue_counts</th>\n",
       "      <th>mostlytrue_counts</th>\n",
       "      <th>pantsonfire_counts</th>\n",
       "      <th>statement_loc</th>\n",
       "    </tr>\n",
       "  </thead>\n",
       "  <tbody>\n",
       "    <tr>\n",
       "      <th>0</th>\n",
       "      <td>2635.json</td>\n",
       "      <td>false</td>\n",
       "      <td>Says the Annies List political group supports ...</td>\n",
       "      <td>abortion</td>\n",
       "      <td>dwayne-bohac</td>\n",
       "      <td>State representative</td>\n",
       "      <td>Texas</td>\n",
       "      <td>republican</td>\n",
       "      <td>0.0</td>\n",
       "      <td>1.0</td>\n",
       "      <td>0.0</td>\n",
       "      <td>0.0</td>\n",
       "      <td>0.0</td>\n",
       "      <td>a mailer</td>\n",
       "    </tr>\n",
       "    <tr>\n",
       "      <th>1</th>\n",
       "      <td>10540.json</td>\n",
       "      <td>half-true</td>\n",
       "      <td>When did the decline of coal start? It started...</td>\n",
       "      <td>energy,history,job-accomplishments</td>\n",
       "      <td>scott-surovell</td>\n",
       "      <td>State delegate</td>\n",
       "      <td>Virginia</td>\n",
       "      <td>democrat</td>\n",
       "      <td>0.0</td>\n",
       "      <td>0.0</td>\n",
       "      <td>1.0</td>\n",
       "      <td>1.0</td>\n",
       "      <td>0.0</td>\n",
       "      <td>a floor speech.</td>\n",
       "    </tr>\n",
       "    <tr>\n",
       "      <th>2</th>\n",
       "      <td>324.json</td>\n",
       "      <td>mostly-true</td>\n",
       "      <td>Hillary Clinton agrees with John McCain \"by vo...</td>\n",
       "      <td>foreign-policy</td>\n",
       "      <td>barack-obama</td>\n",
       "      <td>President</td>\n",
       "      <td>Illinois</td>\n",
       "      <td>democrat</td>\n",
       "      <td>70.0</td>\n",
       "      <td>71.0</td>\n",
       "      <td>160.0</td>\n",
       "      <td>163.0</td>\n",
       "      <td>9.0</td>\n",
       "      <td>Denver</td>\n",
       "    </tr>\n",
       "  </tbody>\n",
       "</table>\n",
       "</div>"
      ],
      "text/plain": [
       "           id        label  ... pantsonfire_counts    statement_loc\n",
       "0   2635.json        false  ...                0.0         a mailer\n",
       "1  10540.json    half-true  ...                0.0  a floor speech.\n",
       "2    324.json  mostly-true  ...                9.0           Denver\n",
       "\n",
       "[3 rows x 14 columns]"
      ]
     },
     "execution_count": 73,
     "metadata": {
      "tags": []
     },
     "output_type": "execute_result"
    }
   ],
   "source": [
    "train_data.head(3)"
   ]
  },
  {
   "cell_type": "code",
   "execution_count": 74,
   "metadata": {
    "colab": {
     "base_uri": "https://localhost:8080/",
     "height": 136
    },
    "colab_type": "code",
    "executionInfo": {
     "elapsed": 1127,
     "status": "ok",
     "timestamp": 1600620982282,
     "user": {
      "displayName": "Nandhagopalan Elangovan",
      "photoUrl": "",
      "userId": "12044995158842503057"
     },
     "user_tz": -330
    },
    "id": "BLAbW_PONZ-p",
    "outputId": "f30de8ec-5223-4b4c-9d33-7543004ce149"
   },
   "outputs": [
    {
     "data": {
      "text/plain": [
       "half-true      2362\n",
       "false          2258\n",
       "mostly-true    2213\n",
       "barely-true    1891\n",
       "true           1845\n",
       "pants-fire      955\n",
       "Name: label, dtype: int64"
      ]
     },
     "execution_count": 74,
     "metadata": {
      "tags": []
     },
     "output_type": "execute_result"
    }
   ],
   "source": [
    "train_data['label'].value_counts()"
   ]
  },
  {
   "cell_type": "code",
   "execution_count": 75,
   "metadata": {
    "colab": {
     "base_uri": "https://localhost:8080/",
     "height": 272
    },
    "colab_type": "code",
    "executionInfo": {
     "elapsed": 925,
     "status": "ok",
     "timestamp": 1600620982283,
     "user": {
      "displayName": "Nandhagopalan Elangovan",
      "photoUrl": "",
      "userId": "12044995158842503057"
     },
     "user_tz": -330
    },
    "id": "gFUevJE8NwP4",
    "outputId": "3131a633-3d48-4077-c182-8c25cdc95f43"
   },
   "outputs": [
    {
     "data": {
      "text/plain": [
       "id                       0\n",
       "label                    0\n",
       "statement                0\n",
       "subject                  2\n",
       "speaker                  2\n",
       "speaker_job           3242\n",
       "state                 2487\n",
       "party                    2\n",
       "barelytrue_counts        2\n",
       "false_counts             2\n",
       "halftrue_counts          2\n",
       "mostlytrue_counts        2\n",
       "pantsonfire_counts       2\n",
       "statement_loc          114\n",
       "dtype: int64"
      ]
     },
     "execution_count": 75,
     "metadata": {
      "tags": []
     },
     "output_type": "execute_result"
    }
   ],
   "source": [
    "train_data.isna().sum()"
   ]
  },
  {
   "cell_type": "code",
   "execution_count": 76,
   "metadata": {
    "colab": {},
    "colab_type": "code",
    "executionInfo": {
     "elapsed": 619,
     "status": "ok",
     "timestamp": 1600620982680,
     "user": {
      "displayName": "Nandhagopalan Elangovan",
      "photoUrl": "",
      "userId": "12044995158842503057"
     },
     "user_tz": -330
    },
    "id": "hCFMx2tGNwSI"
   },
   "outputs": [],
   "source": [
    "train_data=train_data.dropna(subset=['subject'])\n",
    "train_data=train_data.fillna('NA')\n",
    "train_data=train_data.reset_index(drop=True)\n",
    "\n",
    "test_data=test_data.dropna(subset=['subject'])\n",
    "test_data=test_data.fillna('NA')\n",
    "test_data=test_data.reset_index(drop=True)"
   ]
  },
  {
   "cell_type": "code",
   "execution_count": 77,
   "metadata": {
    "colab": {},
    "colab_type": "code",
    "executionInfo": {
     "elapsed": 1103,
     "status": "ok",
     "timestamp": 1600620984735,
     "user": {
      "displayName": "Nandhagopalan Elangovan",
      "photoUrl": "",
      "userId": "12044995158842503057"
     },
     "user_tz": -330
    },
    "id": "1eE5xcTKVOKy"
   },
   "outputs": [],
   "source": [
    "# using all labels as such has no pattern and the model is struggling to learn, hence binning them to 3 categories\n",
    "di = {\"false\":0,\"half-true\":1,\"mostly-true\":1,\"true\":1,\"barely-true\":0,\"pants-fire\":2} \n",
    "\n",
    "train_data['label']=train_data['label'].map(di)\n",
    "test_data['label']=test_data['label'].map(di)"
   ]
  },
  {
   "cell_type": "code",
   "execution_count": 78,
   "metadata": {
    "colab": {
     "base_uri": "https://localhost:8080/",
     "height": 450
    },
    "colab_type": "code",
    "executionInfo": {
     "elapsed": 909,
     "status": "ok",
     "timestamp": 1600620984737,
     "user": {
      "displayName": "Nandhagopalan Elangovan",
      "photoUrl": "",
      "userId": "12044995158842503057"
     },
     "user_tz": -330
    },
    "id": "BKv9OVFcNwUZ",
    "outputId": "440872a0-021d-4eac-d3d8-2f77f14e5e0d"
   },
   "outputs": [
    {
     "data": {
      "text/html": [
       "<div>\n",
       "<style scoped>\n",
       "    .dataframe tbody tr th:only-of-type {\n",
       "        vertical-align: middle;\n",
       "    }\n",
       "\n",
       "    .dataframe tbody tr th {\n",
       "        vertical-align: top;\n",
       "    }\n",
       "\n",
       "    .dataframe thead tr th {\n",
       "        text-align: left;\n",
       "    }\n",
       "</style>\n",
       "<table border=\"1\" class=\"dataframe\">\n",
       "  <thead>\n",
       "    <tr>\n",
       "      <th></th>\n",
       "      <th>state</th>\n",
       "      <th colspan=\"2\" halign=\"left\">barelytrue_counts</th>\n",
       "      <th colspan=\"2\" halign=\"left\">false_counts</th>\n",
       "      <th colspan=\"2\" halign=\"left\">halftrue_counts</th>\n",
       "      <th colspan=\"2\" halign=\"left\">mostlytrue_counts</th>\n",
       "    </tr>\n",
       "    <tr>\n",
       "      <th></th>\n",
       "      <th></th>\n",
       "      <th>sum</th>\n",
       "      <th>mean</th>\n",
       "      <th>sum</th>\n",
       "      <th>mean</th>\n",
       "      <th>sum</th>\n",
       "      <th>mean</th>\n",
       "      <th>sum</th>\n",
       "      <th>mean</th>\n",
       "    </tr>\n",
       "  </thead>\n",
       "  <tbody>\n",
       "    <tr>\n",
       "      <th>0</th>\n",
       "      <td>Alabama</td>\n",
       "      <td>15.0</td>\n",
       "      <td>0.937500</td>\n",
       "      <td>14.0</td>\n",
       "      <td>0.875000</td>\n",
       "      <td>16.0</td>\n",
       "      <td>1.000000</td>\n",
       "      <td>7.0</td>\n",
       "      <td>0.437500</td>\n",
       "    </tr>\n",
       "    <tr>\n",
       "      <th>1</th>\n",
       "      <td>Alaska</td>\n",
       "      <td>536.0</td>\n",
       "      <td>7.342466</td>\n",
       "      <td>1114.0</td>\n",
       "      <td>15.260274</td>\n",
       "      <td>532.0</td>\n",
       "      <td>7.287671</td>\n",
       "      <td>354.0</td>\n",
       "      <td>4.849315</td>\n",
       "    </tr>\n",
       "    <tr>\n",
       "      <th>2</th>\n",
       "      <td>Arizona</td>\n",
       "      <td>5232.0</td>\n",
       "      <td>25.647059</td>\n",
       "      <td>6588.0</td>\n",
       "      <td>32.294118</td>\n",
       "      <td>5271.0</td>\n",
       "      <td>25.838235</td>\n",
       "      <td>6255.0</td>\n",
       "      <td>30.661765</td>\n",
       "    </tr>\n",
       "    <tr>\n",
       "      <th>3</th>\n",
       "      <td>Arkansas</td>\n",
       "      <td>677.0</td>\n",
       "      <td>7.052083</td>\n",
       "      <td>327.0</td>\n",
       "      <td>3.406250</td>\n",
       "      <td>854.0</td>\n",
       "      <td>8.895833</td>\n",
       "      <td>587.0</td>\n",
       "      <td>6.114583</td>\n",
       "    </tr>\n",
       "    <tr>\n",
       "      <th>4</th>\n",
       "      <td>Atlanta</td>\n",
       "      <td>0.0</td>\n",
       "      <td>0.000000</td>\n",
       "      <td>0.0</td>\n",
       "      <td>0.000000</td>\n",
       "      <td>0.0</td>\n",
       "      <td>0.000000</td>\n",
       "      <td>1.0</td>\n",
       "      <td>1.000000</td>\n",
       "    </tr>\n",
       "    <tr>\n",
       "      <th>...</th>\n",
       "      <td>...</td>\n",
       "      <td>...</td>\n",
       "      <td>...</td>\n",
       "      <td>...</td>\n",
       "      <td>...</td>\n",
       "      <td>...</td>\n",
       "      <td>...</td>\n",
       "      <td>...</td>\n",
       "      <td>...</td>\n",
       "    </tr>\n",
       "    <tr>\n",
       "      <th>81</th>\n",
       "      <td>Wisconsin</td>\n",
       "      <td>7329.0</td>\n",
       "      <td>9.172716</td>\n",
       "      <td>9213.0</td>\n",
       "      <td>11.530663</td>\n",
       "      <td>8367.0</td>\n",
       "      <td>10.471840</td>\n",
       "      <td>9209.0</td>\n",
       "      <td>11.525657</td>\n",
       "    </tr>\n",
       "    <tr>\n",
       "      <th>82</th>\n",
       "      <td>Wisconsin</td>\n",
       "      <td>0.0</td>\n",
       "      <td>0.000000</td>\n",
       "      <td>0.0</td>\n",
       "      <td>0.000000</td>\n",
       "      <td>2.0</td>\n",
       "      <td>2.000000</td>\n",
       "      <td>0.0</td>\n",
       "      <td>0.000000</td>\n",
       "    </tr>\n",
       "    <tr>\n",
       "      <th>83</th>\n",
       "      <td>Wyoming</td>\n",
       "      <td>2.0</td>\n",
       "      <td>0.500000</td>\n",
       "      <td>0.0</td>\n",
       "      <td>0.000000</td>\n",
       "      <td>0.0</td>\n",
       "      <td>0.000000</td>\n",
       "      <td>0.0</td>\n",
       "      <td>0.000000</td>\n",
       "    </tr>\n",
       "    <tr>\n",
       "      <th>84</th>\n",
       "      <td>ohio</td>\n",
       "      <td>2.0</td>\n",
       "      <td>1.000000</td>\n",
       "      <td>0.0</td>\n",
       "      <td>0.000000</td>\n",
       "      <td>0.0</td>\n",
       "      <td>0.000000</td>\n",
       "      <td>2.0</td>\n",
       "      <td>1.000000</td>\n",
       "    </tr>\n",
       "    <tr>\n",
       "      <th>85</th>\n",
       "      <td>the United States</td>\n",
       "      <td>1.0</td>\n",
       "      <td>1.000000</td>\n",
       "      <td>0.0</td>\n",
       "      <td>0.000000</td>\n",
       "      <td>0.0</td>\n",
       "      <td>0.000000</td>\n",
       "      <td>0.0</td>\n",
       "      <td>0.000000</td>\n",
       "    </tr>\n",
       "  </tbody>\n",
       "</table>\n",
       "<p>86 rows × 9 columns</p>\n",
       "</div>"
      ],
      "text/plain": [
       "                state barelytrue_counts  ... mostlytrue_counts           \n",
       "                                    sum  ...               sum       mean\n",
       "0             Alabama              15.0  ...               7.0   0.437500\n",
       "1              Alaska             536.0  ...             354.0   4.849315\n",
       "2             Arizona            5232.0  ...            6255.0  30.661765\n",
       "3            Arkansas             677.0  ...             587.0   6.114583\n",
       "4             Atlanta               0.0  ...               1.0   1.000000\n",
       "..                ...               ...  ...               ...        ...\n",
       "81          Wisconsin            7329.0  ...            9209.0  11.525657\n",
       "82         Wisconsin                0.0  ...               0.0   0.000000\n",
       "83            Wyoming               2.0  ...               0.0   0.000000\n",
       "84               ohio               2.0  ...               2.0   1.000000\n",
       "85  the United States               1.0  ...               0.0   0.000000\n",
       "\n",
       "[86 rows x 9 columns]"
      ]
     },
     "execution_count": 78,
     "metadata": {
      "tags": []
     },
     "output_type": "execute_result"
    }
   ],
   "source": [
    "train_data.groupby('state').agg({'barelytrue_counts':['sum', 'mean'], \n",
    "                         'false_counts':['sum', 'mean'], \n",
    "                         'halftrue_counts':['sum', 'mean'], \n",
    "                         'mostlytrue_counts': ['sum', 'mean']}).reset_index()"
   ]
  },
  {
   "cell_type": "code",
   "execution_count": 79,
   "metadata": {
    "colab": {
     "base_uri": "https://localhost:8080/",
     "height": 282
    },
    "colab_type": "code",
    "executionInfo": {
     "elapsed": 1109,
     "status": "ok",
     "timestamp": 1600620985174,
     "user": {
      "displayName": "Nandhagopalan Elangovan",
      "photoUrl": "",
      "userId": "12044995158842503057"
     },
     "user_tz": -330
    },
    "id": "g9q3z_fijkii",
    "outputId": "9d215516-184a-48f4-af02-04d537c7157c"
   },
   "outputs": [
    {
     "name": "stdout",
     "output_type": "stream",
     "text": [
      "167.0\n"
     ]
    },
    {
     "data": {
      "image/png": "[encoded data removed]",
      "text/plain": [
       "<Figure size 432x288 with 1 Axes>"
      ]
     },
     "metadata": {
      "needs_background": "light",
      "tags": []
     },
     "output_type": "display_data"
    }
   ],
   "source": [
    "train_data['len'] = train_data['statement'].apply(lambda s : len(s))\n",
    "train_data['len'].plot.hist(bins=100)\n",
    "print(train_data.len.quantile(0.9)) #average doc len to consider"
   ]
  },
  {
   "cell_type": "code",
   "execution_count": 80,
   "metadata": {
    "colab": {
     "base_uri": "https://localhost:8080/",
     "height": 282
    },
    "colab_type": "code",
    "executionInfo": {
     "elapsed": 1580,
     "status": "ok",
     "timestamp": 1600620985833,
     "user": {
      "displayName": "Nandhagopalan Elangovan",
      "photoUrl": "",
      "userId": "12044995158842503057"
     },
     "user_tz": -330
    },
    "id": "2wv1pNOgkBF-",
    "outputId": "62fd36f9-b2fc-4662-c5ff-540903df3e2f"
   },
   "outputs": [
    {
     "name": "stdout",
     "output_type": "stream",
     "text": [
      "45.0\n"
     ]
    },
    {
     "data": {
      "image/png": "[encoded data removed]",
      "text/plain": [
       "<Figure size 432x288 with 1 Axes>"
      ]
     },
     "metadata": {
      "needs_background": "light",
      "tags": []
     },
     "output_type": "display_data"
    }
   ],
   "source": [
    "train_data['subject_len'] = train_data['subject'].apply(lambda s : len(s))\n",
    "train_data['subject_len'].plot.hist(bins=100)\n",
    "print(train_data.subject_len.quantile(0.9)) #average subject len to consider"
   ]
  },
  {
   "cell_type": "markdown",
   "metadata": {
    "colab_type": "text",
    "id": "OypicrwHmeKF"
   },
   "source": [
    "### Data processing"
   ]
  },
  {
   "cell_type": "code",
   "execution_count": 81,
   "metadata": {
    "colab": {},
    "colab_type": "code",
    "executionInfo": {
     "elapsed": 1353,
     "status": "ok",
     "timestamp": 1600620985834,
     "user": {
      "displayName": "Nandhagopalan Elangovan",
      "photoUrl": "",
      "userId": "12044995158842503057"
     },
     "user_tz": -330
    },
    "id": "IiABArlHNwWY"
   },
   "outputs": [],
   "source": [
    "puncts = [',', '.', '\"', ':', ')', '(', '-', '!', '?', '|', ';', \"'\", '$', '&', '/', '[', ']', '>', '%', '=', '#', '*', '+', '\\\\', '•',  '~', '@', '£',\n",
    " '·', '_', '{', '}', '©', '^', '®', '`',  '<', '→', '°', '€', '™', '›',  '♥', '←', '×', '§', '″', '′', 'Â', '█', '½', 'à', '…', '\\n', '\\xa0', '\\t',\n",
    " '“', '★', '”', '–', '●', 'â', '►', '−', '¢', '²', '¬', '░', '¶', '↑', '±', '¿', '▾', '═', '¦', '║', '―', '¥', '▓', '—', '‹', '─', '\\u3000', '\\u202f',\n",
    " '▒', '：', '¼', '⊕', '▼', '▪', '†', '■', '’', '▀', '¨', '▄', '♫', '☆', 'é', '¯', '♦', '¤', '▲', 'è', '¸', '¾', 'Ã', '⋅', '‘', '∞', '«',\n",
    " '∙', '）', '↓', '、', '│', '（', '»', '，', '♪', '╩', '╚', '³', '・', '╦', '╣', '╔', '╗', '▬', '❤', 'ï', 'Ø', '¹', '≤', '‡', '√', ]\n",
    "mispell_dict = {\"aren't\" : \"are not\",\n",
    "\"can't\" : \"cannot\",\n",
    "\"couldn't\" : \"could not\",\n",
    "\"couldnt\" : \"could not\",\n",
    "\"didn't\" : \"did not\",\n",
    "\"doesn't\" : \"does not\",\n",
    "\"doesnt\" : \"does not\",\n",
    "\"don't\" : \"do not\",\n",
    "\"hadn't\" : \"had not\",\n",
    "\"hasn't\" : \"has not\",\n",
    "\"haven't\" : \"have not\",\n",
    "\"havent\" : \"have not\",\n",
    "\"he'd\" : \"he would\",\n",
    "\"he'll\" : \"he will\",\n",
    "\"he's\" : \"he is\",\n",
    "\"i'd\" : \"I would\",\n",
    "\"i'd\" : \"I had\",\n",
    "\"i'll\" : \"I will\",\n",
    "\"i'm\" : \"I am\",\n",
    "\"isn't\" : \"is not\",\n",
    "\"it's\" : \"it is\",\n",
    "\"it'll\":\"it will\",\n",
    "\"i've\" : \"I have\",\n",
    "\"let's\" : \"let us\",\n",
    "\"mightn't\" : \"might not\",\n",
    "\"mustn't\" : \"must not\",\n",
    "\"shan't\" : \"shall not\",\n",
    "\"she'd\" : \"she would\",\n",
    "\"she'll\" : \"she will\",\n",
    "\"she's\" : \"she is\",\n",
    "\"shouldn't\" : \"should not\",\n",
    "\"shouldnt\" : \"should not\",\n",
    "\"that's\" : \"that is\",\n",
    "\"thats\" : \"that is\",\n",
    "\"there's\" : \"there is\",\n",
    "\"theres\" : \"there is\",\n",
    "\"they'd\" : \"they would\",\n",
    "\"they'll\" : \"they will\",\n",
    "\"they're\" : \"they are\",\n",
    "\"theyre\":  \"they are\",\n",
    "\"they've\" : \"they have\",\n",
    "\"we'd\" : \"we would\",\n",
    "\"we're\" : \"we are\",\n",
    "\"weren't\" : \"were not\",\n",
    "\"we've\" : \"we have\",\n",
    "\"what'll\" : \"what will\",\n",
    "\"what're\" : \"what are\",\n",
    "\"what's\" : \"what is\",\n",
    "\"what've\" : \"what have\",\n",
    "\"where's\" : \"where is\",\n",
    "\"who'd\" : \"who would\",\n",
    "\"who'll\" : \"who will\",\n",
    "\"who're\" : \"who are\",\n",
    "\"who's\" : \"who is\",\n",
    "\"who've\" : \"who have\",\n",
    "\"won't\" : \"will not\",\n",
    "\"wouldn't\" : \"would not\",\n",
    "\"you'd\" : \"you would\",\n",
    "\"you'll\" : \"you will\",\n",
    "\"you're\" : \"you are\",\n",
    "\"you've\" : \"you have\",\n",
    "\"'re\": \" are\",\n",
    "\"wasn't\": \"was not\",\n",
    "\"we'll\":\" will\",\n",
    "\"didn't\": \"did not\",\n",
    "\"tryin'\":\"trying\"}\n",
    "\n",
    "\n",
    "def clean_text(x):\n",
    "    x = str(x)\n",
    "    for punct in puncts:\n",
    "        x = x.replace(punct, f' ')\n",
    "    return x\n",
    "\n",
    "\n",
    "def _get_mispell(mispell_dict):\n",
    "    mispell_re = re.compile('(%s)' % '|'.join(mispell_dict.keys()))\n",
    "    return mispell_dict, mispell_re\n",
    "\n",
    "\n",
    "def replace_typical_misspell(text):\n",
    "    mispellings, mispellings_re = _get_mispell(mispell_dict)\n",
    "\n",
    "    def replace(match):\n",
    "        return mispellings[match.group(0)]\n",
    "\n",
    "    return mispellings_re.sub(replace, text)\n",
    "\n",
    "\n",
    "def clean_data(df, columns: list):\n",
    "    for col in columns:\n",
    "        df[col] = df[col].apply(lambda x: clean_text(x.lower()))\n",
    "        df[col] = df[col].apply(lambda x: replace_typical_misspell(x))\n",
    "\n",
    "    return df"
   ]
  },
  {
   "cell_type": "code",
   "execution_count": 82,
   "metadata": {
    "colab": {},
    "colab_type": "code",
    "executionInfo": {
     "elapsed": 1231,
     "status": "ok",
     "timestamp": 1600620986615,
     "user": {
      "displayName": "Nandhagopalan Elangovan",
      "photoUrl": "",
      "userId": "12044995158842503057"
     },
     "user_tz": -330
    },
    "id": "UCA8tzLVYsRh"
   },
   "outputs": [],
   "source": [
    "train_data = clean_data(train_data, ['statement', 'subject'])\n",
    "test_data = clean_data(test_data, ['statement', 'subject'])"
   ]
  },
  {
   "cell_type": "markdown",
   "metadata": {
    "colab_type": "text",
    "id": "MDH9lobbm-DR"
   },
   "source": [
    "### Loading embedding matrix"
   ]
  },
  {
   "cell_type": "code",
   "execution_count": 83,
   "metadata": {
    "colab": {},
    "colab_type": "code",
    "executionInfo": {
     "elapsed": 1009,
     "status": "ok",
     "timestamp": 1600620986617,
     "user": {
      "displayName": "Nandhagopalan Elangovan",
      "photoUrl": "",
      "userId": "12044995158842503057"
     },
     "user_tz": -330
    },
    "id": "XLM0UQ8lZbel"
   },
   "outputs": [],
   "source": [
    "def load_glove_model(glove_file):\n",
    "  \"\"\"\n",
    "  :param glove_file: embeddings_path: path of glove file.\n",
    "  :return: glove model\n",
    "  \"\"\"\n",
    "  embeddings_index = {}\n",
    "  with open(glove_file,'r') as f:\n",
    "    for line in f:\n",
    "        values = line.split()\n",
    "        word = values[0]\n",
    "        coefs = np.asarray(values[1:], dtype='float32')\n",
    "        embeddings_index[word] = coefs\n",
    "  \n",
    "  print('Found %s word vectors.' % len(embeddings_index))\n",
    "\n",
    "  return embeddings_index\n",
    "\n",
    "\n",
    "def build_matrix(embedding_path: str = '',\n",
    "                 word_dict: dict = None, max_features: int = 100000,\n",
    "                 embed_size: int= 300):\n",
    "\n",
    "    embedding_index = load_glove_model(embedding_path)\n",
    "\n",
    "    nb_words = min(max_features, len(word_dict))\n",
    "    embedding_matrix = np.zeros((nb_words + 1, embed_size))\n",
    "    unknown_words = []\n",
    "    for word, i in word_dict.items():\n",
    "        key = word\n",
    "        embedding_vector = embedding_index.get(word)\n",
    "        if embedding_vector is not None:\n",
    "            embedding_matrix[i] = embedding_vector\n",
    "            continue\n",
    "        embedding_vector = embedding_index.get(word.lower())\n",
    "        if embedding_vector is not None:\n",
    "            embedding_matrix[i] = embedding_vector\n",
    "            continue\n",
    "        embedding_vector = embedding_index.get(word.upper())\n",
    "        if embedding_vector is not None:\n",
    "            embedding_matrix[i] = embedding_vector\n",
    "            continue\n",
    "        embedding_vector = embedding_index.get(word.capitalize())\n",
    "        if embedding_vector is not None:\n",
    "            embedding_matrix[i] = embedding_vector\n",
    "            continue\n",
    "        unknown_words.append(key)\n",
    "\n",
    "    print(f'{len(unknown_words) * 100 / len(word_dict):.4f}% words are not in embeddings')\n",
    "    return embedding_matrix, nb_words, unknown_words\n",
    "\n",
    "\n",
    "def seed_everything(seed=1234):\n",
    "    random.seed(seed)\n",
    "    os.environ['PYTHONHASHSEED'] = str(seed)\n",
    "    np.random.seed(seed)\n",
    "    torch.manual_seed(seed)\n",
    "    torch.cuda.manual_seed(seed)\n",
    "    torch.backends.cudnn.deterministic = True"
   ]
  },
  {
   "cell_type": "code",
   "execution_count": 84,
   "metadata": {
    "colab": {},
    "colab_type": "code",
    "executionInfo": {
     "elapsed": 1251,
     "status": "ok",
     "timestamp": 1600620987025,
     "user": {
      "displayName": "Nandhagopalan Elangovan",
      "photoUrl": "",
      "userId": "12044995158842503057"
     },
     "user_tz": -330
    },
    "id": "e4-KgzYZbIwD"
   },
   "outputs": [],
   "source": [
    "tokenizer = Tokenizer()\n",
    "full_text = list(train_data['statement']) + \\\n",
    "                       list(test_data['statement'])\n",
    "tokenizer.fit_on_texts(full_text)"
   ]
  },
  {
   "cell_type": "code",
   "execution_count": 85,
   "metadata": {
    "colab": {},
    "colab_type": "code",
    "executionInfo": {
     "elapsed": 1046,
     "status": "ok",
     "timestamp": 1600620987026,
     "user": {
      "displayName": "Nandhagopalan Elangovan",
      "photoUrl": "",
      "userId": "12044995158842503057"
     },
     "user_tz": -330
    },
    "id": "VGLOIEm7dfs2"
   },
   "outputs": [],
   "source": [
    "# !wget http://nlp.stanford.edu/data/glove.6B.zip\n",
    "# !unzip glove*.zip\n",
    "# !cp 'drive/My Drive/glove.6B.300d.txt' path"
   ]
  },
  {
   "cell_type": "code",
   "execution_count": 17,
   "metadata": {
    "colab": {
     "base_uri": "https://localhost:8080/",
     "height": 51
    },
    "colab_type": "code",
    "executionInfo": {
     "elapsed": 28058,
     "status": "ok",
     "timestamp": 1600619753758,
     "user": {
      "displayName": "Nandhagopalan Elangovan",
      "photoUrl": "",
      "userId": "12044995158842503057"
     },
     "user_tz": -330
    },
    "id": "W4fgK2TidCTE",
    "outputId": "1d36f062-7b83-404e-964f-7f9247c5e33f"
   },
   "outputs": [
    {
     "name": "stdout",
     "output_type": "stream",
     "text": [
      "Found 400000 word vectors.\n",
      "5.3549% words are not in embeddings\n"
     ]
    }
   ],
   "source": [
    "embedding_matrix, nb_words, unknown_words = build_matrix('drive/My Drive/glove.6B.300d.txt', tokenizer.word_index,\n",
    "                                              100000, 300)"
   ]
  },
  {
   "cell_type": "code",
   "execution_count": 18,
   "metadata": {
    "colab": {
     "base_uri": "https://localhost:8080/",
     "height": 156
    },
    "colab_type": "code",
    "executionInfo": {
     "elapsed": 31192,
     "status": "ok",
     "timestamp": 1600619759797,
     "user": {
      "displayName": "Nandhagopalan Elangovan",
      "photoUrl": "",
      "userId": "12044995158842503057"
     },
     "user_tz": -330
    },
    "id": "zE9GceLXdfvK",
    "outputId": "2ffb6cec-33a1-466d-ba7e-07db96fa9674"
   },
   "outputs": [
    {
     "name": "stdout",
     "output_type": "stream",
     "text": [
      "/usr/lib/python3.6/runpy.py:125: RuntimeWarning: 'gensim.scripts.glove2word2vec' found in sys.modules after import of package 'gensim.scripts', but prior to execution of 'gensim.scripts.glove2word2vec'; this may result in unpredictable behaviour\n",
      "  warn(RuntimeWarning(msg))\n",
      "2020-09-20 16:35:54,395 - glove2word2vec - INFO - running /usr/local/lib/python3.6/dist-packages/gensim/scripts/glove2word2vec.py --input drive/My Drive/glove.6B.300d.txt --output glove.6B.300d.w2vformat.txt\n",
      "/usr/local/lib/python3.6/dist-packages/smart_open/smart_open_lib.py:254: UserWarning: This function is deprecated, use smart_open.open instead. See the migration notes for details: https://github.com/RaRe-Technologies/smart_open/blob/master/README.rst#migrating-to-the-new-open-function\n",
      "  'See the migration notes for details: %s' % _MIGRATION_NOTES_URL\n",
      "2020-09-20 16:35:55,584 - glove2word2vec - INFO - converting 400000 vectors from drive/My Drive/glove.6B.300d.txt to glove.6B.300d.w2vformat.txt\n",
      "2020-09-20 16:35:59,463 - glove2word2vec - INFO - Converted model with 400000 vectors and 300 dimensions\n"
     ]
    }
   ],
   "source": [
    "!python -m gensim.scripts.glove2word2vec --input  'drive/My Drive/glove.6B.300d.txt' --output 'glove.6B.300d.w2vformat.txt'"
   ]
  },
  {
   "cell_type": "code",
   "execution_count": 19,
   "metadata": {
    "colab": {
     "base_uri": "https://localhost:8080/",
     "height": 71
    },
    "colab_type": "code",
    "executionInfo": {
     "elapsed": 128964,
     "status": "ok",
     "timestamp": 1600619857776,
     "user": {
      "displayName": "Nandhagopalan Elangovan",
      "photoUrl": "",
      "userId": "12044995158842503057"
     },
     "user_tz": -330
    },
    "id": "E8Cv4kZJdfxN",
    "outputId": "cb1d476b-1889-4e65-8f33-4cfe17ea1e26"
   },
   "outputs": [
    {
     "name": "stderr",
     "output_type": "stream",
     "text": [
      "/usr/local/lib/python3.6/dist-packages/smart_open/smart_open_lib.py:254: UserWarning: This function is deprecated, use smart_open.open instead. See the migration notes for details: https://github.com/RaRe-Technologies/smart_open/blob/master/README.rst#migrating-to-the-new-open-function\n",
      "  'See the migration notes for details: %s' % _MIGRATION_NOTES_URL\n"
     ]
    }
   ],
   "source": [
    "model = gensim.models.KeyedVectors.load_word2vec_format('glove.6B.300d.w2vformat.txt')"
   ]
  },
  {
   "cell_type": "code",
   "execution_count": 20,
   "metadata": {
    "colab": {},
    "colab_type": "code",
    "executionInfo": {
     "elapsed": 128834,
     "status": "ok",
     "timestamp": 1600619857778,
     "user": {
      "displayName": "Nandhagopalan Elangovan",
      "photoUrl": "",
      "userId": "12044995158842503057"
     },
     "user_tz": -330
    },
    "id": "CzJ6ZgLidfzb"
   },
   "outputs": [],
   "source": [
    "def document_vector(word2vec_model, doc):\n",
    "    # remove out-of-vocabulary words\n",
    "    doc = [word for word in doc if word in word2vec_model.vocab]\n",
    "    return np.mean(word2vec_model[doc], axis=0)\n",
    "\n",
    "def get_embedding_features(train, test, col,model):\n",
    "\n",
    "    embedding_train = {}\n",
    "    embedding_test = {}\n",
    "\n",
    "    train_text = train[col].tolist()\n",
    "    test_text = test[col].tolist()\n",
    "\n",
    "    curr_train_emb = []\n",
    "    curr_test_emb = []\n",
    "\n",
    "    for subj in train_text:\n",
    "      curr_train_emb.append(document_vector(model,subj))\n",
    "\n",
    "    for subj in test_text:\n",
    "      curr_test_emb.append(document_vector(model,subj))\n",
    "       \n",
    "    embedding_train['subj_embedding'] = np.vstack(curr_train_emb)\n",
    "    embedding_test['subj_embedding'] = np.vstack(curr_test_emb)\n",
    "\n",
    "    gc.collect()\n",
    "    \n",
    "    return embedding_train, embedding_test"
   ]
  },
  {
   "cell_type": "code",
   "execution_count": 21,
   "metadata": {
    "colab": {},
    "colab_type": "code",
    "executionInfo": {
     "elapsed": 129576,
     "status": "ok",
     "timestamp": 1600619858690,
     "user": {
      "displayName": "Nandhagopalan Elangovan",
      "photoUrl": "",
      "userId": "12044995158842503057"
     },
     "user_tz": -330
    },
    "id": "eamPs2Vvdf1j"
   },
   "outputs": [],
   "source": [
    "#average embeddings for subject\n",
    "embedding_train,embedding_test = get_embedding_features(train_data, test_data,'subject',model)"
   ]
  },
  {
   "cell_type": "code",
   "execution_count": 22,
   "metadata": {
    "colab": {},
    "colab_type": "code",
    "executionInfo": {
     "elapsed": 128771,
     "status": "ok",
     "timestamp": 1600619858693,
     "user": {
      "displayName": "Nandhagopalan Elangovan",
      "photoUrl": "",
      "userId": "12044995158842503057"
     },
     "user_tz": -330
    },
    "id": "z8cXEactgGNC"
   },
   "outputs": [],
   "source": [
    "#other meta features\n",
    "meta_cols=['barelytrue_counts',\n",
    "       'false_counts', 'halftrue_counts', 'mostlytrue_counts',\n",
    "       'pantsonfire_counts']\n",
    "\n",
    "credit_scores_train=train_data[meta_cols].values\n",
    "credit_scores_test=test_data[meta_cols].values"
   ]
  },
  {
   "cell_type": "code",
   "execution_count": 125,
   "metadata": {
    "colab": {},
    "colab_type": "code",
    "executionInfo": {
     "elapsed": 944,
     "status": "ok",
     "timestamp": 1600622401306,
     "user": {
      "displayName": "Nandhagopalan Elangovan",
      "photoUrl": "",
      "userId": "12044995158842503057"
     },
     "user_tz": -330
    },
    "id": "st849U6Fdf5b"
   },
   "outputs": [],
   "source": [
    "def multi_acc(y_pred, y_test):\n",
    "    y_pred_softmax = F.softmax(y_pred, dim = 1)\n",
    "    y_pred_tags = torch.argmax(y_pred_softmax, dim = 1)    \n",
    "    \n",
    "    correct_pred = (y_pred_tags == y_test).float()\n",
    "    acc = correct_pred.sum() / len(correct_pred)\n",
    "    \n",
    "    acc = torch.round(acc) * 100\n",
    "    \n",
    "    return acc\n",
    "\n",
    "# training the model\n",
    "\n",
    "def train_model(model, train_loader, valid_loader, n_epochs=5, lr=0.001):\n",
    "    optimizer = torch.optim.Adam(filter(lambda p: p.requires_grad, model.parameters()), lr=lr)\n",
    "    patience = 2\n",
    "\n",
    "    scheduler = lr_scheduler.ReduceLROnPlateau(optimizer, 'min', patience=1, factor=0.1)\n",
    "    \n",
    "    loss_fn = nn.CrossEntropyLoss().cuda()\n",
    "    best_score = 0\n",
    "\n",
    "    for epoch in range(n_epochs):\n",
    "      \n",
    "        start_time = time.time()\n",
    "        model.train()\n",
    "        avg_loss = 0.\n",
    "\n",
    "        for data in tqdm(train_loader, disable=True):\n",
    "            statement = data['statement'].cuda()\n",
    "            subject = data['subject'].cuda()\n",
    "            scores = data['scores'].cuda()\n",
    "            \n",
    "            y_batch = data['target'].cuda()\n",
    "            y_pred = model(statement, subject, scores)\n",
    "\n",
    "            loss = loss_fn(y_pred, y_batch)\n",
    "\n",
    "            optimizer.zero_grad()\n",
    "\n",
    "            loss.backward()\n",
    "\n",
    "            optimizer.step()\n",
    "            avg_loss += loss.item() / len(train_loader)\n",
    "\n",
    "        model.eval()\n",
    "\n",
    "        avg_val_loss = 0.\n",
    "        score = 0\n",
    "      \n",
    "        for data in valid_loader:\n",
    "            statement = data['statement'].cuda()\n",
    "            subject = data['subject'].cuda()\n",
    "            scores = data['scores'].cuda()\n",
    "            \n",
    "            y_batch = data['target'].cuda()\n",
    "            y_pred = model(statement, subject, scores).detach()\n",
    "\n",
    "            avg_val_loss += loss_fn(y_pred, y_batch).item() / len(valid_loader)\n",
    "      \n",
    "            score += multi_acc(y_pred, y_batch).item() / len(valid_loader)\n",
    "            \n",
    "\n",
    "        print('Epoch {}/{} \\t loss={:.4f} \\t val_loss={:.4f} \\t acc={:.2f}'.format(\n",
    "        epoch + 1, n_epochs, avg_loss, avg_val_loss, score))\n",
    "\n",
    "        scheduler.step(avg_val_loss)\n",
    "\n",
    "        valid_score = score\n",
    "        if valid_score > best_score:\n",
    "            best_score = valid_score\n",
    "            p = 0\n",
    "            torch.save(model.state_dict(), 'model.pt')\n",
    "\n",
    "        # check if validation loss didn't improve\n",
    "        if valid_score <= best_score:\n",
    "            p += 1\n",
    "            print(f'{p} epochs of non improving score')\n",
    "            if p > patience:\n",
    "                print('Stopping training')\n",
    "                stop = True\n",
    "                break\n",
    "                \n",
    "        model.load_state_dict(torch.load('model.pt'))\n",
    "                \n",
    "    return model\n",
    "\n",
    "\n",
    "def make_prediction(test_loader: DataLoader = None, model = None):\n",
    "    prediction = np.zeros(len(test_loader.dataset))\n",
    "    model.eval()\n",
    "    for i,data in enumerate(test_loader):\n",
    "\n",
    "        start_index = i * test_loader.batch_size\n",
    "        end_index   = min(start_index + test_loader.batch_size, len(test_loader.dataset))\n",
    "        statement = data['statement'].cuda()\n",
    "        subject = data['subject'].cuda()\n",
    "        scores = data['scores'].cuda()\n",
    "\n",
    "\n",
    "        y_pred = model(statement, subject, scores).detach()\n",
    "        y_pred_softmax = F.softmax(y_pred, dim = 1)\n",
    "        y_pred_tags = torch.argmax(y_pred_softmax, dim = 1)  \n",
    "      \n",
    "        prediction[start_index:end_index] +=  y_pred_tags.cpu().numpy()\n",
    "        \n",
    "    return prediction"
   ]
  },
  {
   "cell_type": "code",
   "execution_count": 126,
   "metadata": {
    "colab": {},
    "colab_type": "code",
    "executionInfo": {
     "elapsed": 911,
     "status": "ok",
     "timestamp": 1600622403108,
     "user": {
      "displayName": "Nandhagopalan Elangovan",
      "photoUrl": "",
      "userId": "12044995158842503057"
     },
     "user_tz": -330
    },
    "id": "HgvJfMXSdf8W"
   },
   "outputs": [],
   "source": [
    "class SpatialDropout(nn.Dropout2d):\n",
    "    def forward(self, x):\n",
    "        x = x.unsqueeze(2)    # (N, T, 1, K)\n",
    "        x = x.permute(0, 3, 2, 1)  # (N, K, 1, T)\n",
    "        x = super(SpatialDropout, self).forward(x)  # (N, K, 1, T), some features are masked\n",
    "        x = x.permute(0, 3, 2, 1)  # (N, T, 1, K)\n",
    "        x = x.squeeze(2)  # (N, T, K)\n",
    "        return x\n",
    "\n",
    "class hybrid_model(nn.Module):\n",
    "    def __init__(self,\n",
    "                 hidden_size: int = 128,\n",
    "                 embedding_matrix=None,\n",
    "                 no_of_classes: int = 3):\n",
    "        super(hybrid_model, self).__init__()\n",
    "\n",
    "        self.embedding = nn.Embedding(*embedding_matrix.shape)\n",
    "        self.embedding.weight = nn.Parameter(torch.tensor(embedding_matrix, dtype=torch.float32))\n",
    "        self.embedding.weight.requires_grad = False\n",
    "\n",
    "        self.embedding_dropout = SpatialDropout(0.3)\n",
    "        self.class_labels=no_of_classes\n",
    "\n",
    "\n",
    "        self.lstm_q = nn.LSTM(300, hidden_size, bidirectional=True, batch_first=True)\n",
    "        self.gru_q = nn.GRU(hidden_size * 2, hidden_size, bidirectional=True, batch_first=True)\n",
    "\n",
    "        self.linear1 = nn.Sequential(nn.Linear(512 +200,300),\n",
    "                                     nn.BatchNorm1d(300),\n",
    "                                     nn.ReLU(inplace=True),\n",
    "                                     nn.Dropout(0.5))\n",
    "\n",
    "\n",
    "        self.linear2 = nn.Sequential(nn.Linear(305,200),\n",
    "                                     nn.BatchNorm1d(200),\n",
    "                                     nn.ReLU(inplace=True),\n",
    "                                     nn.Dropout(0.5))\n",
    "\n",
    "        self.classifier = nn.Linear(300, self.class_labels)\n",
    "\n",
    "    def forward(self,statement,subj,meta):\n",
    "\n",
    "        #get embedding of statement and pass through different rnn layers\n",
    "        statement_embedding = self.embedding(statement)\n",
    "        statement_embedding = self.embedding_dropout(statement_embedding)\n",
    "\n",
    "        h_lstm_s, _ = self.lstm_q(statement_embedding)\n",
    "        h_gru_s, _ = self.gru_q(h_lstm_s)\n",
    "\n",
    "\n",
    "        avg_pool_s = torch.mean(h_gru_s, 1)\n",
    "        max_pool_s, _ = torch.max(h_gru_s, 1)\n",
    "\n",
    "        #concatenate meta features,normalise and pass them through linear layer\n",
    "        meta_feat=torch.cat((subj,meta), 1)\n",
    "        agg_feat=torch.cat((avg_pool_s,max_pool_s),1)\n",
    "\n",
    "        meta_linear=self.linear2(meta_feat)\n",
    "\n",
    "        out=self.linear1(torch.cat((agg_feat, meta_linear), 1))\n",
    "\n",
    "        logits=self.classifier(out)\n",
    "\n",
    "        return logits"
   ]
  },
  {
   "cell_type": "code",
   "execution_count": 116,
   "metadata": {
    "colab": {},
    "colab_type": "code",
    "executionInfo": {
     "elapsed": 991,
     "status": "ok",
     "timestamp": 1600622251231,
     "user": {
      "displayName": "Nandhagopalan Elangovan",
      "photoUrl": "",
      "userId": "12044995158842503057"
     },
     "user_tz": -330
    },
    "id": "qN7FulHG78iY"
   },
   "outputs": [],
   "source": [
    "seed_everything()"
   ]
  },
  {
   "cell_type": "code",
   "execution_count": 117,
   "metadata": {
    "colab": {},
    "colab_type": "code",
    "executionInfo": {
     "elapsed": 1074,
     "status": "ok",
     "timestamp": 1600622254274,
     "user": {
      "displayName": "Nandhagopalan Elangovan",
      "photoUrl": "",
      "userId": "12044995158842503057"
     },
     "user_tz": -330
    },
    "id": "ElG16sizTqyA"
   },
   "outputs": [],
   "source": [
    "train_statement_tokenized = pad_sequences(tokenizer.texts_to_sequences(train_data['statement']), maxlen = 170)\n",
    "test_statement_tokenized = pad_sequences(tokenizer.texts_to_sequences(test_data['statement']), maxlen = 170)"
   ]
  },
  {
   "cell_type": "code",
   "execution_count": 118,
   "metadata": {
    "colab": {},
    "colab_type": "code",
    "executionInfo": {
     "elapsed": 832,
     "status": "ok",
     "timestamp": 1600622254276,
     "user": {
      "displayName": "Nandhagopalan Elangovan",
      "photoUrl": "",
      "userId": "12044995158842503057"
     },
     "user_tz": -330
    },
    "id": "-09Q8wSbT_MU"
   },
   "outputs": [],
   "source": [
    "y_train=train_data['label'].values\n",
    "y_valid=test_data['label'].values"
   ]
  },
  {
   "cell_type": "markdown",
   "metadata": {
    "colab_type": "text",
    "id": "wvvZbYTGnzCr"
   },
   "source": [
    "### Dataset class"
   ]
  },
  {
   "cell_type": "code",
   "execution_count": 127,
   "metadata": {
    "colab": {},
    "colab_type": "code",
    "executionInfo": {
     "elapsed": 1086,
     "status": "ok",
     "timestamp": 1600622406309,
     "user": {
      "displayName": "Nandhagopalan Elangovan",
      "photoUrl": "",
      "userId": "12044995158842503057"
     },
     "user_tz": -330
    },
    "id": "FuNA2-3bywgS"
   },
   "outputs": [],
   "source": [
    "class TextDataset(Dataset):\n",
    "\n",
    "    def __init__(self, statement, subj_embeddings,scores, idxs, targets=None):\n",
    "\n",
    "        self.statement = statement[idxs]\n",
    "        self.subj_embeddings = subj_embeddings['subj_embedding'][idxs]\n",
    "        self.scores = scores[idxs]\n",
    "\n",
    "        self.targets = targets[idxs] if targets is not None else np.zeros((self.statement.shape[0], 3))\n",
    "\n",
    "    def __getitem__(self, idx):\n",
    "        statement = self.statement[idx]\n",
    "        subject = self.subj_embeddings[idx]\n",
    "  \n",
    "        scores = self.scores[idx]\n",
    "        target = self.targets[idx]\n",
    "\n",
    "        return {\n",
    "            'statement': torch.tensor(statement, dtype=torch.long),\n",
    "            'subject': torch.tensor(subject, dtype=torch.long),\n",
    "            'scores': torch.tensor(scores, dtype=torch.float),\n",
    "            'target': torch.tensor(target, dtype=torch.long),\n",
    "        }\n",
    "\n",
    "    def __len__(self):\n",
    "        return len(self.statement)"
   ]
  },
  {
   "cell_type": "code",
   "execution_count": 128,
   "metadata": {
    "colab": {},
    "colab_type": "code",
    "executionInfo": {
     "elapsed": 866,
     "status": "ok",
     "timestamp": 1600622406311,
     "user": {
      "displayName": "Nandhagopalan Elangovan",
      "photoUrl": "",
      "userId": "12044995158842503057"
     },
     "user_tz": -330
    },
    "id": "tyemCQfMT_O7"
   },
   "outputs": [],
   "source": [
    "bs_test = 16\n",
    "bs_train=128"
   ]
  },
  {
   "cell_type": "code",
   "execution_count": 129,
   "metadata": {
    "colab": {
     "base_uri": "https://localhost:8080/",
     "height": 187
    },
    "colab_type": "code",
    "executionInfo": {
     "elapsed": 47601,
     "status": "ok",
     "timestamp": 1600622457220,
     "user": {
      "displayName": "Nandhagopalan Elangovan",
      "photoUrl": "",
      "userId": "12044995158842503057"
     },
     "user_tz": -330
    },
    "id": "bFiFjvZGT_Ro",
    "outputId": "76c0819e-486e-43fd-f0af-2567db0ca791"
   },
   "outputs": [
    {
     "name": "stdout",
     "output_type": "stream",
     "text": [
      "Epoch 1/10 \t loss=0.9050 \t val_loss=0.7948 \t acc=71.25\n",
      "1 epochs of non improving score\n",
      "Epoch 2/10 \t loss=0.8352 \t val_loss=0.7829 \t acc=77.50\n",
      "1 epochs of non improving score\n",
      "Epoch 3/10 \t loss=0.8158 \t val_loss=0.7646 \t acc=77.50\n",
      "2 epochs of non improving score\n",
      "Epoch 4/10 \t loss=0.8182 \t val_loss=0.7748 \t acc=75.00\n",
      "3 epochs of non improving score\n",
      "Stopping training\n",
      "\n"
     ]
    }
   ],
   "source": [
    "train_loader = DataLoader(TextDataset(train_statement_tokenized,embedding_train,credit_scores_train,train_data.index, y_train),\n",
    "                              batch_size=bs_train, shuffle=True)\n",
    "\n",
    "valid_loader = DataLoader(TextDataset(test_statement_tokenized,embedding_test,credit_scores_test, test_data.index,y_valid),\n",
    "                          batch_size=bs_test, shuffle=False)\n",
    "    \n",
    "net = hybrid_model(embedding_matrix=embedding_matrix)\n",
    "net.cuda()\n",
    "\n",
    "net= train_model(net, train_loader, valid_loader, n_epochs=10, lr=0.001)\n",
    "prediction = make_prediction(valid_loader, net)\n",
    "\n",
    "gc.collect()\n",
    "torch.cuda.empty_cache()\n",
    "print()"
   ]
  },
  {
   "cell_type": "code",
   "execution_count": 113,
   "metadata": {
    "colab": {
     "base_uri": "https://localhost:8080/",
     "height": 34
    },
    "colab_type": "code",
    "executionInfo": {
     "elapsed": 889,
     "status": "ok",
     "timestamp": 1600621609954,
     "user": {
      "displayName": "Nandhagopalan Elangovan",
      "photoUrl": "",
      "userId": "12044995158842503057"
     },
     "user_tz": -330
    },
    "id": "T4hvtKALT_Tx",
    "outputId": "fd54a3cf-8da1-4884-e3cf-11e18c36728b"
   },
   "outputs": [
    {
     "data": {
      "text/plain": [
       "array([1., 0., 0., ..., 1., 1., 1.])"
      ]
     },
     "execution_count": 113,
     "metadata": {
      "tags": []
     },
     "output_type": "execute_result"
    }
   ],
   "source": [
    "prediction"
   ]
  },
  {
   "cell_type": "code",
   "execution_count": null,
   "metadata": {
    "colab": {},
    "colab_type": "code",
    "id": "WUiIOKH27914"
   },
   "outputs": [],
   "source": []
  },
  {
   "cell_type": "code",
   "execution_count": null,
   "metadata": {
    "colab": {},
    "colab_type": "code",
    "id": "eQgIJdbTcbLu"
   },
   "outputs": [],
   "source": []
  },
  {
   "cell_type": "code",
   "execution_count": null,
   "metadata": {
    "colab": {},
    "colab_type": "code",
    "id": "Zt-OmgHSyweI"
   },
   "outputs": [],
   "source": []
  },
  {
   "cell_type": "code",
   "execution_count": null,
   "metadata": {
    "colab": {},
    "colab_type": "code",
    "id": "7dBjN_BYi6fF"
   },
   "outputs": [],
   "source": []
  }
 ],
 "metadata": {
  "accelerator": "GPU",
  "colab": {
   "authorship_tag": "ABX9TyPVYvHXrzxZ08f7wAksFj0l",
   "collapsed_sections": [],
   "mount_file_id": "1c2eSdvhsgELybjU2R7SU-R647ulozLer",
   "name": "W4_Nandhagopalan_0755.ipynb",
   "provenance": []
  },
  "kernelspec": {
   "display_name": "Python 3",
   "language": "python",
   "name": "python3"
  },
  "language_info": {
   "codemirror_mode": {
    "name": "ipython",
    "version": 3
   },
   "file_extension": ".py",
   "mimetype": "text/x-python",
   "name": "python",
   "nbconvert_exporter": "python",
   "pygments_lexer": "ipython3",
   "version": "3.6.3"
  }
 },
 "nbformat": 4,
 "nbformat_minor": 1
}
